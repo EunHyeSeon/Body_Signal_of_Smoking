{
 "cells": [
  {
   "cell_type": "code",
   "execution_count": 2,
   "id": "ad686b1e",
   "metadata": {
    "ExecuteTime": {
     "end_time": "2022-07-20T10:54:21.198583Z",
     "start_time": "2022-07-20T10:54:21.179633Z"
    }
   },
   "outputs": [
    {
     "name": "stderr",
     "output_type": "stream",
     "text": [
      "C:\\Users\\Playdata\\AppData\\Local\\Temp\\ipykernel_1468\\912229180.py:1: DeprecationWarning: Importing display from IPython.core.display is deprecated since IPython 7.14, please import from IPython display\n",
      "  from IPython.core.display import display, HTML\n"
     ]
    },
    {
     "data": {
      "text/html": [
       "<style>.container { width:90% !important; }</style>"
      ],
      "text/plain": [
       "<IPython.core.display.HTML object>"
      ]
     },
     "metadata": {},
     "output_type": "display_data"
    }
   ],
   "source": [
    "from IPython.core.display import display, HTML\n",
    "display(HTML(\"<style>.container { width:90% !important; }</style>\"))"
   ]
  },
  {
   "cell_type": "code",
   "execution_count": 2,
   "id": "f4778ee0",
   "metadata": {
    "ExecuteTime": {
     "end_time": "2022-07-18T10:17:14.731834Z",
     "start_time": "2022-07-18T10:17:13.607856Z"
    }
   },
   "outputs": [
    {
     "name": "stdout",
     "output_type": "stream",
     "text": [
      "['AppleGothic']\n"
     ]
    }
   ],
   "source": [
    "import matplotlib.pyplot as plt\n",
    "\n",
    "plt.rc('font', family='AppleGothic') # For MacOS\n",
    "print(plt.rcParams['font.family'])"
   ]
  },
  {
   "cell_type": "code",
   "execution_count": null,
   "id": "e0b5913c",
   "metadata": {},
   "outputs": [],
   "source": [
    "import warnings\n",
    "warnings.filterwarnings(action='ignore')"
   ]
  },
  {
   "cell_type": "code",
   "execution_count": 3,
   "id": "c44cf9a1",
   "metadata": {
    "ExecuteTime": {
     "end_time": "2022-07-20T10:55:36.503215Z",
     "start_time": "2022-07-20T10:55:33.747146Z"
    }
   },
   "outputs": [],
   "source": [
    "import pandas as pd\n",
    "import numpy as np\n",
    "import pandas as pd\n",
    "import seaborn as sns\n",
    "import matplotlib.pyplot as plt"
   ]
  },
  {
   "cell_type": "code",
   "execution_count": 4,
   "id": "77f02697",
   "metadata": {
    "ExecuteTime": {
     "end_time": "2022-07-20T10:55:38.672273Z",
     "start_time": "2022-07-20T10:55:38.411543Z"
    }
   },
   "outputs": [
    {
     "name": "stdout",
     "output_type": "stream",
     "text": [
      "(44553, 25) (11139, 25) (44553, 1) (11139, 1)\n"
     ]
    }
   ],
   "source": [
    "X_train = pd.read_csv('archive/competition_format/x_train.csv', index_col=0)\n",
    "X_test = pd.read_csv('archive/competition_format/x_test.csv', index_col=0)\n",
    "y_train = pd.read_csv('archive/competition_format/y_train.csv', index_col=0)\n",
    "y_test = pd.read_csv('archive/competition_format/y_test.csv', index_col=0)\n",
    "print(X_train.shape, X_test.shape, y_train.shape, y_test.shape)"
   ]
  },
  {
   "cell_type": "code",
   "execution_count": 9,
   "id": "eea61121",
   "metadata": {
    "ExecuteTime": {
     "end_time": "2022-07-18T10:11:00.385777Z",
     "start_time": "2022-07-18T10:11:00.324932Z"
    },
    "collapsed": true
   },
   "outputs": [
    {
     "data": {
      "text/html": [
       "<div>\n",
       "<style scoped>\n",
       "    .dataframe tbody tr th:only-of-type {\n",
       "        vertical-align: middle;\n",
       "    }\n",
       "\n",
       "    .dataframe tbody tr th {\n",
       "        vertical-align: top;\n",
       "    }\n",
       "\n",
       "    .dataframe thead th {\n",
       "        text-align: right;\n",
       "    }\n",
       "</style>\n",
       "<table border=\"1\" class=\"dataframe\">\n",
       "  <thead>\n",
       "    <tr style=\"text-align: right;\">\n",
       "      <th></th>\n",
       "      <th>gender</th>\n",
       "      <th>age</th>\n",
       "      <th>height(cm)</th>\n",
       "      <th>weight(kg)</th>\n",
       "      <th>waist(cm)</th>\n",
       "      <th>eyesight(left)</th>\n",
       "      <th>eyesight(right)</th>\n",
       "      <th>hearing(left)</th>\n",
       "      <th>hearing(right)</th>\n",
       "      <th>systolic</th>\n",
       "      <th>...</th>\n",
       "      <th>LDL</th>\n",
       "      <th>hemoglobin</th>\n",
       "      <th>Urine protein</th>\n",
       "      <th>serum creatinine</th>\n",
       "      <th>AST</th>\n",
       "      <th>ALT</th>\n",
       "      <th>Gtp</th>\n",
       "      <th>oral</th>\n",
       "      <th>dental caries</th>\n",
       "      <th>tartar</th>\n",
       "    </tr>\n",
       "    <tr>\n",
       "      <th>ID</th>\n",
       "      <th></th>\n",
       "      <th></th>\n",
       "      <th></th>\n",
       "      <th></th>\n",
       "      <th></th>\n",
       "      <th></th>\n",
       "      <th></th>\n",
       "      <th></th>\n",
       "      <th></th>\n",
       "      <th></th>\n",
       "      <th></th>\n",
       "      <th></th>\n",
       "      <th></th>\n",
       "      <th></th>\n",
       "      <th></th>\n",
       "      <th></th>\n",
       "      <th></th>\n",
       "      <th></th>\n",
       "      <th></th>\n",
       "      <th></th>\n",
       "      <th></th>\n",
       "    </tr>\n",
       "  </thead>\n",
       "  <tbody>\n",
       "    <tr>\n",
       "      <th>0</th>\n",
       "      <td>F</td>\n",
       "      <td>40</td>\n",
       "      <td>155</td>\n",
       "      <td>60</td>\n",
       "      <td>81.3</td>\n",
       "      <td>1.2</td>\n",
       "      <td>1.0</td>\n",
       "      <td>1.0</td>\n",
       "      <td>1.0</td>\n",
       "      <td>114.0</td>\n",
       "      <td>...</td>\n",
       "      <td>126.0</td>\n",
       "      <td>12.9</td>\n",
       "      <td>1.0</td>\n",
       "      <td>0.7</td>\n",
       "      <td>18.0</td>\n",
       "      <td>19.0</td>\n",
       "      <td>27.0</td>\n",
       "      <td>Y</td>\n",
       "      <td>0.0</td>\n",
       "      <td>Y</td>\n",
       "    </tr>\n",
       "    <tr>\n",
       "      <th>1</th>\n",
       "      <td>F</td>\n",
       "      <td>40</td>\n",
       "      <td>160</td>\n",
       "      <td>60</td>\n",
       "      <td>81.0</td>\n",
       "      <td>0.8</td>\n",
       "      <td>0.6</td>\n",
       "      <td>1.0</td>\n",
       "      <td>1.0</td>\n",
       "      <td>119.0</td>\n",
       "      <td>...</td>\n",
       "      <td>127.0</td>\n",
       "      <td>12.7</td>\n",
       "      <td>1.0</td>\n",
       "      <td>0.6</td>\n",
       "      <td>22.0</td>\n",
       "      <td>19.0</td>\n",
       "      <td>18.0</td>\n",
       "      <td>Y</td>\n",
       "      <td>0.0</td>\n",
       "      <td>Y</td>\n",
       "    </tr>\n",
       "    <tr>\n",
       "      <th>2</th>\n",
       "      <td>M</td>\n",
       "      <td>55</td>\n",
       "      <td>170</td>\n",
       "      <td>60</td>\n",
       "      <td>80.0</td>\n",
       "      <td>0.8</td>\n",
       "      <td>0.8</td>\n",
       "      <td>1.0</td>\n",
       "      <td>1.0</td>\n",
       "      <td>138.0</td>\n",
       "      <td>...</td>\n",
       "      <td>151.0</td>\n",
       "      <td>15.8</td>\n",
       "      <td>1.0</td>\n",
       "      <td>1.0</td>\n",
       "      <td>21.0</td>\n",
       "      <td>16.0</td>\n",
       "      <td>22.0</td>\n",
       "      <td>Y</td>\n",
       "      <td>0.0</td>\n",
       "      <td>N</td>\n",
       "    </tr>\n",
       "    <tr>\n",
       "      <th>3</th>\n",
       "      <td>M</td>\n",
       "      <td>40</td>\n",
       "      <td>165</td>\n",
       "      <td>70</td>\n",
       "      <td>88.0</td>\n",
       "      <td>1.5</td>\n",
       "      <td>1.5</td>\n",
       "      <td>1.0</td>\n",
       "      <td>1.0</td>\n",
       "      <td>100.0</td>\n",
       "      <td>...</td>\n",
       "      <td>226.0</td>\n",
       "      <td>14.7</td>\n",
       "      <td>1.0</td>\n",
       "      <td>1.0</td>\n",
       "      <td>19.0</td>\n",
       "      <td>26.0</td>\n",
       "      <td>18.0</td>\n",
       "      <td>Y</td>\n",
       "      <td>0.0</td>\n",
       "      <td>Y</td>\n",
       "    </tr>\n",
       "    <tr>\n",
       "      <th>4</th>\n",
       "      <td>F</td>\n",
       "      <td>40</td>\n",
       "      <td>155</td>\n",
       "      <td>60</td>\n",
       "      <td>86.0</td>\n",
       "      <td>1.0</td>\n",
       "      <td>1.0</td>\n",
       "      <td>1.0</td>\n",
       "      <td>1.0</td>\n",
       "      <td>120.0</td>\n",
       "      <td>...</td>\n",
       "      <td>107.0</td>\n",
       "      <td>12.5</td>\n",
       "      <td>1.0</td>\n",
       "      <td>0.6</td>\n",
       "      <td>16.0</td>\n",
       "      <td>14.0</td>\n",
       "      <td>22.0</td>\n",
       "      <td>Y</td>\n",
       "      <td>0.0</td>\n",
       "      <td>N</td>\n",
       "    </tr>\n",
       "  </tbody>\n",
       "</table>\n",
       "<p>5 rows × 25 columns</p>\n",
       "</div>"
      ],
      "text/plain": [
       "   gender  age  height(cm)  weight(kg)  waist(cm)  eyesight(left)  \\\n",
       "ID                                                                  \n",
       "0       F   40         155          60       81.3             1.2   \n",
       "1       F   40         160          60       81.0             0.8   \n",
       "2       M   55         170          60       80.0             0.8   \n",
       "3       M   40         165          70       88.0             1.5   \n",
       "4       F   40         155          60       86.0             1.0   \n",
       "\n",
       "    eyesight(right)  hearing(left)  hearing(right)  systolic  ...    LDL  \\\n",
       "ID                                                            ...          \n",
       "0               1.0            1.0             1.0     114.0  ...  126.0   \n",
       "1               0.6            1.0             1.0     119.0  ...  127.0   \n",
       "2               0.8            1.0             1.0     138.0  ...  151.0   \n",
       "3               1.5            1.0             1.0     100.0  ...  226.0   \n",
       "4               1.0            1.0             1.0     120.0  ...  107.0   \n",
       "\n",
       "    hemoglobin  Urine protein  serum creatinine   AST   ALT   Gtp  oral  \\\n",
       "ID                                                                        \n",
       "0         12.9            1.0               0.7  18.0  19.0  27.0     Y   \n",
       "1         12.7            1.0               0.6  22.0  19.0  18.0     Y   \n",
       "2         15.8            1.0               1.0  21.0  16.0  22.0     Y   \n",
       "3         14.7            1.0               1.0  19.0  26.0  18.0     Y   \n",
       "4         12.5            1.0               0.6  16.0  14.0  22.0     Y   \n",
       "\n",
       "    dental caries  tartar  \n",
       "ID                         \n",
       "0             0.0       Y  \n",
       "1             0.0       Y  \n",
       "2             0.0       N  \n",
       "3             0.0       Y  \n",
       "4             0.0       N  \n",
       "\n",
       "[5 rows x 25 columns]"
      ]
     },
     "execution_count": 9,
     "metadata": {},
     "output_type": "execute_result"
    }
   ],
   "source": [
    "X_train.head()"
   ]
  },
  {
   "cell_type": "code",
   "execution_count": 4,
   "id": "01b69da5",
   "metadata": {
    "collapsed": true
   },
   "outputs": [
    {
     "data": {
      "text/html": [
       "<div>\n",
       "<style scoped>\n",
       "    .dataframe tbody tr th:only-of-type {\n",
       "        vertical-align: middle;\n",
       "    }\n",
       "\n",
       "    .dataframe tbody tr th {\n",
       "        vertical-align: top;\n",
       "    }\n",
       "\n",
       "    .dataframe thead th {\n",
       "        text-align: right;\n",
       "    }\n",
       "</style>\n",
       "<table border=\"1\" class=\"dataframe\">\n",
       "  <thead>\n",
       "    <tr style=\"text-align: right;\">\n",
       "      <th></th>\n",
       "      <th>smoking</th>\n",
       "    </tr>\n",
       "    <tr>\n",
       "      <th>ID</th>\n",
       "      <th></th>\n",
       "    </tr>\n",
       "  </thead>\n",
       "  <tbody>\n",
       "    <tr>\n",
       "      <th>0</th>\n",
       "      <td>0</td>\n",
       "    </tr>\n",
       "    <tr>\n",
       "      <th>1</th>\n",
       "      <td>0</td>\n",
       "    </tr>\n",
       "    <tr>\n",
       "      <th>2</th>\n",
       "      <td>1</td>\n",
       "    </tr>\n",
       "    <tr>\n",
       "      <th>3</th>\n",
       "      <td>0</td>\n",
       "    </tr>\n",
       "    <tr>\n",
       "      <th>4</th>\n",
       "      <td>0</td>\n",
       "    </tr>\n",
       "  </tbody>\n",
       "</table>\n",
       "</div>"
      ],
      "text/plain": [
       "    smoking\n",
       "ID         \n",
       "0         0\n",
       "1         0\n",
       "2         1\n",
       "3         0\n",
       "4         0"
      ]
     },
     "execution_count": 4,
     "metadata": {},
     "output_type": "execute_result"
    }
   ],
   "source": [
    "y_train.head()"
   ]
  },
  {
   "cell_type": "code",
   "execution_count": 5,
   "id": "d3799cc9",
   "metadata": {},
   "outputs": [
    {
     "data": {
      "text/plain": [
       "Index(['gender', 'age', 'height(cm)', 'weight(kg)', 'waist(cm)',\n",
       "       'eyesight(left)', 'eyesight(right)', 'hearing(left)', 'hearing(right)',\n",
       "       'systolic', 'relaxation', 'fasting blood sugar', 'Cholesterol',\n",
       "       'triglyceride', 'HDL', 'LDL', 'hemoglobin', 'Urine protein',\n",
       "       'serum creatinine', 'AST', 'ALT', 'Gtp', 'oral', 'dental caries',\n",
       "       'tartar'],\n",
       "      dtype='object')"
      ]
     },
     "execution_count": 5,
     "metadata": {},
     "output_type": "execute_result"
    }
   ],
   "source": [
    "X_train.columns"
   ]
  },
  {
   "cell_type": "code",
   "execution_count": 11,
   "id": "9ef21c1d",
   "metadata": {
    "ExecuteTime": {
     "end_time": "2022-07-18T10:14:17.476855Z",
     "start_time": "2022-07-18T10:14:17.467841Z"
    }
   },
   "outputs": [],
   "source": [
    "a = ['gender', 'Gtp' ,'age','triglyceride']\n",
    "X_train = X_train[a]"
   ]
  },
  {
   "cell_type": "code",
   "execution_count": 13,
   "id": "e7de389a",
   "metadata": {
    "ExecuteTime": {
     "end_time": "2022-07-18T10:14:44.416921Z",
     "start_time": "2022-07-18T10:14:44.407946Z"
    }
   },
   "outputs": [],
   "source": [
    "X_test = X_test[a]\n"
   ]
  },
  {
   "cell_type": "code",
   "execution_count": 4,
   "id": "e29c245a",
   "metadata": {
    "ExecuteTime": {
     "end_time": "2022-07-19T09:33:57.019509Z",
     "start_time": "2022-07-19T09:33:56.562337Z"
    }
   },
   "outputs": [
    {
     "name": "stdout",
     "output_type": "stream",
     "text": [
      "(33414, 25) (11139, 25) (33414, 1) (11139, 1)\n"
     ]
    }
   ],
   "source": [
    "from sklearn.model_selection import train_test_split\n",
    "X_train, X_val, y_train, y_val = train_test_split(X_train, y_train, test_size=0.25, stratify=y_train, random_state=0)\n",
    "print(X_train.shape, X_val.shape, y_train.shape, y_val.shape)"
   ]
  },
  {
   "cell_type": "code",
   "execution_count": 6,
   "id": "427b7c3d",
   "metadata": {
    "ExecuteTime": {
     "end_time": "2022-07-18T10:18:18.328203Z",
     "start_time": "2022-07-18T10:18:18.280327Z"
    }
   },
   "outputs": [
    {
     "name": "stdout",
     "output_type": "stream",
     "text": [
      "<class 'pandas.core.frame.DataFrame'>\n",
      "Int64Index: 33414 entries, 31346 to 28362\n",
      "Data columns (total 25 columns):\n",
      " #   Column               Non-Null Count  Dtype  \n",
      "---  ------               --------------  -----  \n",
      " 0   gender               33414 non-null  object \n",
      " 1   age                  33414 non-null  int64  \n",
      " 2   height(cm)           33414 non-null  int64  \n",
      " 3   weight(kg)           33414 non-null  int64  \n",
      " 4   waist(cm)            33414 non-null  float64\n",
      " 5   eyesight(left)       33414 non-null  float64\n",
      " 6   eyesight(right)      33414 non-null  float64\n",
      " 7   hearing(left)        33414 non-null  float64\n",
      " 8   hearing(right)       33414 non-null  float64\n",
      " 9   systolic             33414 non-null  float64\n",
      " 10  relaxation           33414 non-null  float64\n",
      " 11  fasting blood sugar  33414 non-null  float64\n",
      " 12  Cholesterol          33414 non-null  float64\n",
      " 13  triglyceride         33414 non-null  float64\n",
      " 14  HDL                  33414 non-null  float64\n",
      " 15  LDL                  33414 non-null  float64\n",
      " 16  hemoglobin           33414 non-null  float64\n",
      " 17  Urine protein        33414 non-null  float64\n",
      " 18  serum creatinine     33414 non-null  float64\n",
      " 19  AST                  33414 non-null  float64\n",
      " 20  ALT                  33414 non-null  float64\n",
      " 21  Gtp                  33414 non-null  float64\n",
      " 22  oral                 33414 non-null  object \n",
      " 23  dental caries        33414 non-null  float64\n",
      " 24  tartar               33414 non-null  object \n",
      "dtypes: float64(19), int64(3), object(3)\n",
      "memory usage: 6.6+ MB\n"
     ]
    }
   ],
   "source": [
    "X_train.info()"
   ]
  },
  {
   "cell_type": "code",
   "execution_count": null,
   "id": "415e7ac2",
   "metadata": {},
   "outputs": [],
   "source": []
  },
  {
   "cell_type": "code",
   "execution_count": 16,
   "id": "1ad44600",
   "metadata": {
    "ExecuteTime": {
     "end_time": "2022-07-18T11:21:53.549555Z",
     "start_time": "2022-07-18T11:21:53.531601Z"
    }
   },
   "outputs": [],
   "source": [
    "a = ['gender', 'Gtp' ,'age','triglyceride']\n",
    "X_train1 = X_train[a].copy()\n",
    "X_test1 = X_test[a].copy()\n",
    "X_val1 = X_val[a].copy()"
   ]
  },
  {
   "cell_type": "code",
   "execution_count": 16,
   "id": "f6861f93",
   "metadata": {
    "ExecuteTime": {
     "end_time": "2022-07-18T10:31:14.727472Z",
     "start_time": "2022-07-18T10:31:14.686559Z"
    }
   },
   "outputs": [
    {
     "name": "stdout",
     "output_type": "stream",
     "text": [
      "<class 'pandas.core.frame.DataFrame'>\n",
      "Int64Index: 33414 entries, 31346 to 28362\n",
      "Data columns (total 4 columns):\n",
      " #   Column        Non-Null Count  Dtype  \n",
      "---  ------        --------------  -----  \n",
      " 0   gender        33414 non-null  object \n",
      " 1   Gtp           33414 non-null  float64\n",
      " 2   age           33414 non-null  int64  \n",
      " 3   triglyceride  33414 non-null  float64\n",
      "dtypes: float64(2), int64(1), object(1)\n",
      "memory usage: 1.3+ MB\n"
     ]
    },
    {
     "data": {
      "text/plain": [
       "ID\n",
       "31346    M\n",
       "3876     F\n",
       "3084     M\n",
       "51633    F\n",
       "50995    F\n",
       "        ..\n",
       "40811    F\n",
       "41694    M\n",
       "11889    F\n",
       "38563    M\n",
       "28362    M\n",
       "Name: gender, Length: 33414, dtype: object"
      ]
     },
     "execution_count": 16,
     "metadata": {},
     "output_type": "execute_result"
    }
   ],
   "source": [
    "X_train1.info()\n",
    "X_train1['gender']"
   ]
  },
  {
   "cell_type": "code",
   "execution_count": 6,
   "id": "4ce7fe1c",
   "metadata": {
    "ExecuteTime": {
     "end_time": "2022-07-18T10:26:59.413282Z",
     "start_time": "2022-07-18T10:26:59.399288Z"
    }
   },
   "outputs": [],
   "source": [
    "#'gender' -> one hot encoding\n",
    "\n",
    "from sklearn.preprocessing import OneHotEncoder\n",
    "\n",
    "def oneHot(df,a):\n",
    "    cat_encoder = OneHotEncoder()\n",
    "    ec_cat=cat_encoder.fit_transform(df[[a]])\n",
    "    return ec_cat.toarray()"
   ]
  },
  {
   "cell_type": "code",
   "execution_count": 91,
   "id": "96572841",
   "metadata": {
    "ExecuteTime": {
     "end_time": "2022-07-18T11:18:57.365809Z",
     "start_time": "2022-07-18T11:18:57.338882Z"
    }
   },
   "outputs": [],
   "source": [
    "X_train1['gender'] = oneHot(X_train1,'gender')\n",
    "X_test1['gender'] = oneHot(X_test1,'gender')\n",
    "X_val1['gender'] = oneHot(X_val1,'gender')"
   ]
  },
  {
   "cell_type": "code",
   "execution_count": 6,
   "id": "82c84a00",
   "metadata": {
    "ExecuteTime": {
     "end_time": "2022-07-19T09:34:10.860079Z",
     "start_time": "2022-07-19T09:34:10.826156Z"
    }
   },
   "outputs": [
    {
     "name": "stderr",
     "output_type": "stream",
     "text": [
      "C:\\Users\\Playdata\\anaconda3\\envs\\tf\\lib\\site-packages\\sklearn\\preprocessing\\_label.py:115: DataConversionWarning: A column-vector y was passed when a 1d array was expected. Please change the shape of y to (n_samples, ), for example using ravel().\n",
      "  y = column_or_1d(y, warn=True)\n",
      "C:\\Users\\Playdata\\anaconda3\\envs\\tf\\lib\\site-packages\\sklearn\\preprocessing\\_label.py:115: DataConversionWarning: A column-vector y was passed when a 1d array was expected. Please change the shape of y to (n_samples, ), for example using ravel().\n",
      "  y = column_or_1d(y, warn=True)\n",
      "C:\\Users\\Playdata\\anaconda3\\envs\\tf\\lib\\site-packages\\sklearn\\preprocessing\\_label.py:115: DataConversionWarning: A column-vector y was passed when a 1d array was expected. Please change the shape of y to (n_samples, ), for example using ravel().\n",
      "  y = column_or_1d(y, warn=True)\n"
     ]
    }
   ],
   "source": [
    "X_train['tartar'] = label(X_train,'tartar')\n",
    "X_test['tartar'] = label(X_test,'tartar')\n",
    "X_val['tartar'] = label(X_val,'tartar')"
   ]
  },
  {
   "cell_type": "code",
   "execution_count": 14,
   "id": "c6b65a8b",
   "metadata": {
    "ExecuteTime": {
     "end_time": "2022-07-18T10:29:16.529204Z",
     "start_time": "2022-07-18T10:29:16.513249Z"
    }
   },
   "outputs": [
    {
     "data": {
      "text/plain": [
       "(33414, 4)"
      ]
     },
     "execution_count": 14,
     "metadata": {},
     "output_type": "execute_result"
    }
   ],
   "source": [
    "X_train1.shape"
   ]
  },
  {
   "cell_type": "code",
   "execution_count": 5,
   "id": "e776b858",
   "metadata": {
    "ExecuteTime": {
     "end_time": "2022-07-20T10:55:53.143393Z",
     "start_time": "2022-07-20T10:55:52.985230Z"
    }
   },
   "outputs": [],
   "source": [
    "from sklearn.preprocessing import LabelEncoder\n",
    "\n",
    "def label(df, a):\n",
    "    encoder = LabelEncoder()\n",
    "    ec_cat = encoder.fit_transform(df[[a]])\n",
    "    return ec_cat"
   ]
  },
  {
   "cell_type": "code",
   "execution_count": 6,
   "id": "bd51450f",
   "metadata": {
    "ExecuteTime": {
     "end_time": "2022-07-20T10:55:55.439733Z",
     "start_time": "2022-07-20T10:55:54.731157Z"
    }
   },
   "outputs": [
    {
     "name": "stderr",
     "output_type": "stream",
     "text": [
      "C:\\Users\\Playdata\\anaconda3\\envs\\tf\\lib\\site-packages\\sklearn\\preprocessing\\_label.py:115: DataConversionWarning: A column-vector y was passed when a 1d array was expected. Please change the shape of y to (n_samples, ), for example using ravel().\n",
      "  y = column_or_1d(y, warn=True)\n",
      "C:\\Users\\Playdata\\anaconda3\\envs\\tf\\lib\\site-packages\\sklearn\\preprocessing\\_label.py:115: DataConversionWarning: A column-vector y was passed when a 1d array was expected. Please change the shape of y to (n_samples, ), for example using ravel().\n",
      "  y = column_or_1d(y, warn=True)\n"
     ]
    },
    {
     "ename": "NameError",
     "evalue": "name 'X_val' is not defined",
     "output_type": "error",
     "traceback": [
      "\u001b[1;31m---------------------------------------------------------------------------\u001b[0m",
      "\u001b[1;31mNameError\u001b[0m                                 Traceback (most recent call last)",
      "Input \u001b[1;32mIn [6]\u001b[0m, in \u001b[0;36m<cell line: 3>\u001b[1;34m()\u001b[0m\n\u001b[0;32m      1\u001b[0m X_train[\u001b[38;5;124m'\u001b[39m\u001b[38;5;124mgender\u001b[39m\u001b[38;5;124m'\u001b[39m] \u001b[38;5;241m=\u001b[39m label(X_train,\u001b[38;5;124m'\u001b[39m\u001b[38;5;124mgender\u001b[39m\u001b[38;5;124m'\u001b[39m)\n\u001b[0;32m      2\u001b[0m X_test[\u001b[38;5;124m'\u001b[39m\u001b[38;5;124mgender\u001b[39m\u001b[38;5;124m'\u001b[39m] \u001b[38;5;241m=\u001b[39m label(X_test,\u001b[38;5;124m'\u001b[39m\u001b[38;5;124mgender\u001b[39m\u001b[38;5;124m'\u001b[39m)\n\u001b[1;32m----> 3\u001b[0m X_val[\u001b[38;5;124m'\u001b[39m\u001b[38;5;124mgender\u001b[39m\u001b[38;5;124m'\u001b[39m] \u001b[38;5;241m=\u001b[39m label(\u001b[43mX_val\u001b[49m,\u001b[38;5;124m'\u001b[39m\u001b[38;5;124mgender\u001b[39m\u001b[38;5;124m'\u001b[39m)\n",
      "\u001b[1;31mNameError\u001b[0m: name 'X_val' is not defined"
     ]
    }
   ],
   "source": [
    "X_train['gender'] = label(X_train,'gender')\n",
    "X_test['gender'] = label(X_test,'gender')\n",
    "X_val['gender'] = label(X_val,'gender')"
   ]
  },
  {
   "cell_type": "code",
   "execution_count": 8,
   "id": "c44103f9",
   "metadata": {
    "ExecuteTime": {
     "end_time": "2022-07-18T11:20:05.790710Z",
     "start_time": "2022-07-18T11:20:05.762783Z"
    }
   },
   "outputs": [
    {
     "name": "stdout",
     "output_type": "stream",
     "text": [
      "<class 'pandas.core.frame.DataFrame'>\n",
      "Int64Index: 33414 entries, 31346 to 28362\n",
      "Data columns (total 4 columns):\n",
      " #   Column        Non-Null Count  Dtype  \n",
      "---  ------        --------------  -----  \n",
      " 0   gender        33414 non-null  int32  \n",
      " 1   Gtp           33414 non-null  float64\n",
      " 2   age           33414 non-null  int64  \n",
      " 3   triglyceride  33414 non-null  float64\n",
      "dtypes: float64(2), int32(1), int64(1)\n",
      "memory usage: 1.1 MB\n"
     ]
    }
   ],
   "source": [
    "X_train1.info()"
   ]
  },
  {
   "cell_type": "code",
   "execution_count": 8,
   "id": "10f4110f",
   "metadata": {
    "ExecuteTime": {
     "end_time": "2022-07-19T09:34:22.633987Z",
     "start_time": "2022-07-19T09:34:22.625972Z"
    }
   },
   "outputs": [],
   "source": [
    "# 이상치 변환\n",
    "\n",
    "def outHigh(df, a):\n",
    "    to_75 = df[a].quantile(0.75)\n",
    "    target = df[a].quantile(0.95)\n",
    "    df[a] = df[a].apply(lambda x: to_75 if x >= target else x)\n",
    "    "
   ]
  },
  {
   "cell_type": "code",
   "execution_count": 41,
   "id": "f4848809",
   "metadata": {
    "ExecuteTime": {
     "end_time": "2022-07-18T11:28:41.206333Z",
     "start_time": "2022-07-18T11:28:41.162496Z"
    }
   },
   "outputs": [
    {
     "data": {
      "text/html": [
       "<div>\n",
       "<style scoped>\n",
       "    .dataframe tbody tr th:only-of-type {\n",
       "        vertical-align: middle;\n",
       "    }\n",
       "\n",
       "    .dataframe tbody tr th {\n",
       "        vertical-align: top;\n",
       "    }\n",
       "\n",
       "    .dataframe thead th {\n",
       "        text-align: right;\n",
       "    }\n",
       "</style>\n",
       "<table border=\"1\" class=\"dataframe\">\n",
       "  <thead>\n",
       "    <tr style=\"text-align: right;\">\n",
       "      <th></th>\n",
       "      <th>gender</th>\n",
       "      <th>Gtp</th>\n",
       "      <th>age</th>\n",
       "      <th>triglyceride</th>\n",
       "    </tr>\n",
       "  </thead>\n",
       "  <tbody>\n",
       "    <tr>\n",
       "      <th>count</th>\n",
       "      <td>33414.000000</td>\n",
       "      <td>33414.00000</td>\n",
       "      <td>33414.000000</td>\n",
       "      <td>33414.000000</td>\n",
       "    </tr>\n",
       "    <tr>\n",
       "      <th>mean</th>\n",
       "      <td>0.636709</td>\n",
       "      <td>36.59098</td>\n",
       "      <td>44.146914</td>\n",
       "      <td>124.128629</td>\n",
       "    </tr>\n",
       "    <tr>\n",
       "      <th>std</th>\n",
       "      <td>0.480955</td>\n",
       "      <td>32.31334</td>\n",
       "      <td>12.128239</td>\n",
       "      <td>66.548223</td>\n",
       "    </tr>\n",
       "    <tr>\n",
       "      <th>min</th>\n",
       "      <td>0.000000</td>\n",
       "      <td>2.00000</td>\n",
       "      <td>20.000000</td>\n",
       "      <td>15.000000</td>\n",
       "    </tr>\n",
       "    <tr>\n",
       "      <th>25%</th>\n",
       "      <td>0.000000</td>\n",
       "      <td>17.00000</td>\n",
       "      <td>40.000000</td>\n",
       "      <td>74.000000</td>\n",
       "    </tr>\n",
       "    <tr>\n",
       "      <th>50%</th>\n",
       "      <td>1.000000</td>\n",
       "      <td>25.00000</td>\n",
       "      <td>40.000000</td>\n",
       "      <td>108.000000</td>\n",
       "    </tr>\n",
       "    <tr>\n",
       "      <th>75%</th>\n",
       "      <td>1.000000</td>\n",
       "      <td>44.00000</td>\n",
       "      <td>55.000000</td>\n",
       "      <td>160.000000</td>\n",
       "    </tr>\n",
       "    <tr>\n",
       "      <th>95%</th>\n",
       "      <td>1.000000</td>\n",
       "      <td>102.00000</td>\n",
       "      <td>65.000000</td>\n",
       "      <td>263.350000</td>\n",
       "    </tr>\n",
       "    <tr>\n",
       "      <th>99%</th>\n",
       "      <td>1.000000</td>\n",
       "      <td>173.00000</td>\n",
       "      <td>75.000000</td>\n",
       "      <td>329.000000</td>\n",
       "    </tr>\n",
       "    <tr>\n",
       "      <th>max</th>\n",
       "      <td>1.000000</td>\n",
       "      <td>249.00000</td>\n",
       "      <td>85.000000</td>\n",
       "      <td>359.000000</td>\n",
       "    </tr>\n",
       "  </tbody>\n",
       "</table>\n",
       "</div>"
      ],
      "text/plain": [
       "             gender          Gtp           age  triglyceride\n",
       "count  33414.000000  33414.00000  33414.000000  33414.000000\n",
       "mean       0.636709     36.59098     44.146914    124.128629\n",
       "std        0.480955     32.31334     12.128239     66.548223\n",
       "min        0.000000      2.00000     20.000000     15.000000\n",
       "25%        0.000000     17.00000     40.000000     74.000000\n",
       "50%        1.000000     25.00000     40.000000    108.000000\n",
       "75%        1.000000     44.00000     55.000000    160.000000\n",
       "95%        1.000000    102.00000     65.000000    263.350000\n",
       "99%        1.000000    173.00000     75.000000    329.000000\n",
       "max        1.000000    249.00000     85.000000    359.000000"
      ]
     },
     "execution_count": 41,
     "metadata": {},
     "output_type": "execute_result"
    }
   ],
   "source": [
    "X_train1.describe(percentiles=[0.25, 0.5, .75, .95, 0.99])"
   ]
  },
  {
   "cell_type": "code",
   "execution_count": 9,
   "id": "8e8d68b3",
   "metadata": {
    "ExecuteTime": {
     "end_time": "2022-07-19T09:34:39.959126Z",
     "start_time": "2022-07-19T09:34:39.890001Z"
    }
   },
   "outputs": [],
   "source": [
    "outHigh(X_train, 'Gtp')\n",
    "outHigh(X_train, 'triglyceride')\n",
    "outHigh(X_test, 'Gtp')\n",
    "outHigh(X_test, 'triglyceride')\n",
    "outHigh(X_val, 'Gtp')\n",
    "outHigh(X_val, 'triglyceride')"
   ]
  },
  {
   "cell_type": "code",
   "execution_count": 40,
   "id": "036f2e6e",
   "metadata": {
    "ExecuteTime": {
     "end_time": "2022-07-18T11:28:29.399858Z",
     "start_time": "2022-07-18T11:28:29.362955Z"
    }
   },
   "outputs": [
    {
     "data": {
      "text/html": [
       "<div>\n",
       "<style scoped>\n",
       "    .dataframe tbody tr th:only-of-type {\n",
       "        vertical-align: middle;\n",
       "    }\n",
       "\n",
       "    .dataframe tbody tr th {\n",
       "        vertical-align: top;\n",
       "    }\n",
       "\n",
       "    .dataframe thead th {\n",
       "        text-align: right;\n",
       "    }\n",
       "</style>\n",
       "<table border=\"1\" class=\"dataframe\">\n",
       "  <thead>\n",
       "    <tr style=\"text-align: right;\">\n",
       "      <th></th>\n",
       "      <th>gender</th>\n",
       "      <th>Gtp</th>\n",
       "      <th>age</th>\n",
       "      <th>triglyceride</th>\n",
       "    </tr>\n",
       "  </thead>\n",
       "  <tbody>\n",
       "    <tr>\n",
       "      <th>count</th>\n",
       "      <td>33414.000000</td>\n",
       "      <td>33414.00000</td>\n",
       "      <td>33414.000000</td>\n",
       "      <td>33414.000000</td>\n",
       "    </tr>\n",
       "    <tr>\n",
       "      <th>mean</th>\n",
       "      <td>0.636709</td>\n",
       "      <td>36.59098</td>\n",
       "      <td>44.146914</td>\n",
       "      <td>124.128629</td>\n",
       "    </tr>\n",
       "    <tr>\n",
       "      <th>std</th>\n",
       "      <td>0.480955</td>\n",
       "      <td>32.31334</td>\n",
       "      <td>12.128239</td>\n",
       "      <td>66.548223</td>\n",
       "    </tr>\n",
       "    <tr>\n",
       "      <th>min</th>\n",
       "      <td>0.000000</td>\n",
       "      <td>2.00000</td>\n",
       "      <td>20.000000</td>\n",
       "      <td>15.000000</td>\n",
       "    </tr>\n",
       "    <tr>\n",
       "      <th>25%</th>\n",
       "      <td>0.000000</td>\n",
       "      <td>17.00000</td>\n",
       "      <td>40.000000</td>\n",
       "      <td>74.000000</td>\n",
       "    </tr>\n",
       "    <tr>\n",
       "      <th>50%</th>\n",
       "      <td>1.000000</td>\n",
       "      <td>25.00000</td>\n",
       "      <td>40.000000</td>\n",
       "      <td>108.000000</td>\n",
       "    </tr>\n",
       "    <tr>\n",
       "      <th>75%</th>\n",
       "      <td>1.000000</td>\n",
       "      <td>44.00000</td>\n",
       "      <td>55.000000</td>\n",
       "      <td>160.000000</td>\n",
       "    </tr>\n",
       "    <tr>\n",
       "      <th>max</th>\n",
       "      <td>1.000000</td>\n",
       "      <td>249.00000</td>\n",
       "      <td>85.000000</td>\n",
       "      <td>359.000000</td>\n",
       "    </tr>\n",
       "  </tbody>\n",
       "</table>\n",
       "</div>"
      ],
      "text/plain": [
       "             gender          Gtp           age  triglyceride\n",
       "count  33414.000000  33414.00000  33414.000000  33414.000000\n",
       "mean       0.636709     36.59098     44.146914    124.128629\n",
       "std        0.480955     32.31334     12.128239     66.548223\n",
       "min        0.000000      2.00000     20.000000     15.000000\n",
       "25%        0.000000     17.00000     40.000000     74.000000\n",
       "50%        1.000000     25.00000     40.000000    108.000000\n",
       "75%        1.000000     44.00000     55.000000    160.000000\n",
       "max        1.000000    249.00000     85.000000    359.000000"
      ]
     },
     "execution_count": 40,
     "metadata": {},
     "output_type": "execute_result"
    }
   ],
   "source": [
    "X_train1.describe()"
   ]
  },
  {
   "cell_type": "code",
   "execution_count": 54,
   "id": "79aa019d",
   "metadata": {
    "ExecuteTime": {
     "end_time": "2022-07-18T11:30:47.684384Z",
     "start_time": "2022-07-18T11:30:47.666431Z"
    }
   },
   "outputs": [],
   "source": [
    "def outLow(df, a):\n",
    "    to_25 = df[a].quantile(0.25)\n",
    "    target = df[a].quantile(0.05)\n",
    "    df[a] = df[a].apply(lambda x: to_25 if x <= target else x)"
   ]
  },
  {
   "cell_type": "code",
   "execution_count": 55,
   "id": "0c44d111",
   "metadata": {
    "ExecuteTime": {
     "end_time": "2022-07-18T11:30:49.480069Z",
     "start_time": "2022-07-18T11:30:49.409775Z"
    }
   },
   "outputs": [],
   "source": [
    "outLow(X_train1, 'Gtp')\n",
    "outLow(X_train1, 'triglyceride')\n",
    "outLow(X_test1, 'Gtp')\n",
    "outLow(X_test1, 'triglyceride')\n",
    "outLow(X_val1, 'Gtp')\n",
    "outLow(X_val1, 'triglyceride')"
   ]
  },
  {
   "cell_type": "code",
   "execution_count": 44,
   "id": "52f5780e",
   "metadata": {
    "ExecuteTime": {
     "end_time": "2022-07-18T11:29:24.820430Z",
     "start_time": "2022-07-18T11:29:24.801457Z"
    }
   },
   "outputs": [
    {
     "data": {
      "text/html": [
       "<div>\n",
       "<style scoped>\n",
       "    .dataframe tbody tr th:only-of-type {\n",
       "        vertical-align: middle;\n",
       "    }\n",
       "\n",
       "    .dataframe tbody tr th {\n",
       "        vertical-align: top;\n",
       "    }\n",
       "\n",
       "    .dataframe thead th {\n",
       "        text-align: right;\n",
       "    }\n",
       "</style>\n",
       "<table border=\"1\" class=\"dataframe\">\n",
       "  <thead>\n",
       "    <tr style=\"text-align: right;\">\n",
       "      <th></th>\n",
       "      <th>gender</th>\n",
       "      <th>Gtp</th>\n",
       "      <th>age</th>\n",
       "      <th>triglyceride</th>\n",
       "    </tr>\n",
       "    <tr>\n",
       "      <th>ID</th>\n",
       "      <th></th>\n",
       "      <th></th>\n",
       "      <th></th>\n",
       "      <th></th>\n",
       "    </tr>\n",
       "  </thead>\n",
       "  <tbody>\n",
       "    <tr>\n",
       "      <th>31346</th>\n",
       "      <td>1</td>\n",
       "      <td>23.0</td>\n",
       "      <td>65</td>\n",
       "      <td>69.0</td>\n",
       "    </tr>\n",
       "    <tr>\n",
       "      <th>3876</th>\n",
       "      <td>0</td>\n",
       "      <td>17.0</td>\n",
       "      <td>60</td>\n",
       "      <td>175.0</td>\n",
       "    </tr>\n",
       "    <tr>\n",
       "      <th>3084</th>\n",
       "      <td>1</td>\n",
       "      <td>36.0</td>\n",
       "      <td>20</td>\n",
       "      <td>150.0</td>\n",
       "    </tr>\n",
       "    <tr>\n",
       "      <th>51633</th>\n",
       "      <td>0</td>\n",
       "      <td>14.0</td>\n",
       "      <td>55</td>\n",
       "      <td>110.0</td>\n",
       "    </tr>\n",
       "    <tr>\n",
       "      <th>50995</th>\n",
       "      <td>0</td>\n",
       "      <td>11.0</td>\n",
       "      <td>40</td>\n",
       "      <td>79.0</td>\n",
       "    </tr>\n",
       "  </tbody>\n",
       "</table>\n",
       "</div>"
      ],
      "text/plain": [
       "       gender   Gtp  age  triglyceride\n",
       "ID                                    \n",
       "31346       1  23.0   65          69.0\n",
       "3876        0  17.0   60         175.0\n",
       "3084        1  36.0   20         150.0\n",
       "51633       0  14.0   55         110.0\n",
       "50995       0  11.0   40          79.0"
      ]
     },
     "execution_count": 44,
     "metadata": {},
     "output_type": "execute_result"
    }
   ],
   "source": [
    "X_train1.head()"
   ]
  },
  {
   "cell_type": "code",
   "execution_count": 99,
   "id": "41eafe88",
   "metadata": {
    "ExecuteTime": {
     "end_time": "2022-07-18T11:45:19.409404Z",
     "start_time": "2022-07-18T11:45:19.313308Z"
    },
    "collapsed": true
   },
   "outputs": [
    {
     "ename": "ValueError",
     "evalue": "could not convert string to float: 'N'",
     "output_type": "error",
     "traceback": [
      "\u001b[1;31m---------------------------------------------------------------------------\u001b[0m",
      "\u001b[1;31mValueError\u001b[0m                                Traceback (most recent call last)",
      "Input \u001b[1;32mIn [99]\u001b[0m, in \u001b[0;36m<cell line: 6>\u001b[1;34m()\u001b[0m\n\u001b[0;32m      2\u001b[0m \u001b[38;5;28;01mfrom\u001b[39;00m \u001b[38;5;21;01msklearn\u001b[39;00m\u001b[38;5;21;01m.\u001b[39;00m\u001b[38;5;21;01mpreprocessing\u001b[39;00m \u001b[38;5;28;01mimport\u001b[39;00m OrdinalEncoder\n\u001b[0;32m      4\u001b[0m ordinal_encoder \u001b[38;5;241m=\u001b[39m OrdinalEncoder(categories \u001b[38;5;241m=\u001b[39m [[\u001b[38;5;124m'\u001b[39m\u001b[38;5;124mN\u001b[39m\u001b[38;5;124m'\u001b[39m,\u001b[38;5;124m'\u001b[39m\u001b[38;5;124mY\u001b[39m\u001b[38;5;124m'\u001b[39m]])\n\u001b[1;32m----> 6\u001b[0m X_train[\u001b[38;5;124m\"\u001b[39m\u001b[38;5;124mtartar\u001b[39m\u001b[38;5;124m\"\u001b[39m] \u001b[38;5;241m=\u001b[39m \u001b[43mordinal_encoder\u001b[49m\u001b[38;5;241;43m.\u001b[39;49m\u001b[43mfit_transform\u001b[49m\u001b[43m(\u001b[49m\u001b[43mX_train\u001b[49m\u001b[43m[\u001b[49m\u001b[43m[\u001b[49m\u001b[38;5;124;43m\"\u001b[39;49m\u001b[38;5;124;43mtartar\u001b[39;49m\u001b[38;5;124;43m\"\u001b[39;49m\u001b[43m]\u001b[49m\u001b[43m]\u001b[49m\u001b[43m)\u001b[49m\n\u001b[0;32m      7\u001b[0m X_test[\u001b[38;5;124m\"\u001b[39m\u001b[38;5;124mtartar\u001b[39m\u001b[38;5;124m\"\u001b[39m] \u001b[38;5;241m=\u001b[39m ordinal_encoder\u001b[38;5;241m.\u001b[39mfit_transform(X_test[[\u001b[38;5;124m\"\u001b[39m\u001b[38;5;124mtartar\u001b[39m\u001b[38;5;124m\"\u001b[39m]])\n\u001b[0;32m      8\u001b[0m X_val[\u001b[38;5;124m\"\u001b[39m\u001b[38;5;124mtartar\u001b[39m\u001b[38;5;124m\"\u001b[39m] \u001b[38;5;241m=\u001b[39m ordinal_encoder\u001b[38;5;241m.\u001b[39mfit_transform(X_val[[\u001b[38;5;124m\"\u001b[39m\u001b[38;5;124mtartar\u001b[39m\u001b[38;5;124m\"\u001b[39m]])\n",
      "File \u001b[1;32m~\\anaconda3\\envs\\tf\\lib\\site-packages\\sklearn\\base.py:867\u001b[0m, in \u001b[0;36mTransformerMixin.fit_transform\u001b[1;34m(self, X, y, **fit_params)\u001b[0m\n\u001b[0;32m    863\u001b[0m \u001b[38;5;66;03m# non-optimized default implementation; override when a better\u001b[39;00m\n\u001b[0;32m    864\u001b[0m \u001b[38;5;66;03m# method is possible for a given clustering algorithm\u001b[39;00m\n\u001b[0;32m    865\u001b[0m \u001b[38;5;28;01mif\u001b[39;00m y \u001b[38;5;129;01mis\u001b[39;00m \u001b[38;5;28;01mNone\u001b[39;00m:\n\u001b[0;32m    866\u001b[0m     \u001b[38;5;66;03m# fit method of arity 1 (unsupervised transformation)\u001b[39;00m\n\u001b[1;32m--> 867\u001b[0m     \u001b[38;5;28;01mreturn\u001b[39;00m \u001b[38;5;28mself\u001b[39m\u001b[38;5;241m.\u001b[39mfit(X, \u001b[38;5;241m*\u001b[39m\u001b[38;5;241m*\u001b[39mfit_params)\u001b[38;5;241m.\u001b[39mtransform(X)\n\u001b[0;32m    868\u001b[0m \u001b[38;5;28;01melse\u001b[39;00m:\n\u001b[0;32m    869\u001b[0m     \u001b[38;5;66;03m# fit method of arity 2 (supervised transformation)\u001b[39;00m\n\u001b[0;32m    870\u001b[0m     \u001b[38;5;28;01mreturn\u001b[39;00m \u001b[38;5;28mself\u001b[39m\u001b[38;5;241m.\u001b[39mfit(X, y, \u001b[38;5;241m*\u001b[39m\u001b[38;5;241m*\u001b[39mfit_params)\u001b[38;5;241m.\u001b[39mtransform(X)\n",
      "File \u001b[1;32m~\\anaconda3\\envs\\tf\\lib\\site-packages\\sklearn\\preprocessing\\_encoders.py:1294\u001b[0m, in \u001b[0;36mOrdinalEncoder.fit\u001b[1;34m(self, X, y)\u001b[0m\n\u001b[0;32m   1287\u001b[0m     \u001b[38;5;28;01mraise\u001b[39;00m \u001b[38;5;167;01mTypeError\u001b[39;00m(\n\u001b[0;32m   1288\u001b[0m         \u001b[38;5;124m\"\u001b[39m\u001b[38;5;124munknown_value should only be set when \u001b[39m\u001b[38;5;124m\"\u001b[39m\n\u001b[0;32m   1289\u001b[0m         \u001b[38;5;124m\"\u001b[39m\u001b[38;5;124mhandle_unknown is \u001b[39m\u001b[38;5;124m'\u001b[39m\u001b[38;5;124muse_encoded_value\u001b[39m\u001b[38;5;124m'\u001b[39m\u001b[38;5;124m, \u001b[39m\u001b[38;5;124m\"\u001b[39m\n\u001b[0;32m   1290\u001b[0m         \u001b[38;5;124mf\u001b[39m\u001b[38;5;124m\"\u001b[39m\u001b[38;5;124mgot \u001b[39m\u001b[38;5;132;01m{\u001b[39;00m\u001b[38;5;28mself\u001b[39m\u001b[38;5;241m.\u001b[39munknown_value\u001b[38;5;132;01m}\u001b[39;00m\u001b[38;5;124m.\u001b[39m\u001b[38;5;124m\"\u001b[39m\n\u001b[0;32m   1291\u001b[0m     )\n\u001b[0;32m   1293\u001b[0m \u001b[38;5;66;03m# `_fit` will only raise an error when `self.handle_unknown=\"error\"`\u001b[39;00m\n\u001b[1;32m-> 1294\u001b[0m \u001b[38;5;28;43mself\u001b[39;49m\u001b[38;5;241;43m.\u001b[39;49m\u001b[43m_fit\u001b[49m\u001b[43m(\u001b[49m\u001b[43mX\u001b[49m\u001b[43m,\u001b[49m\u001b[43m \u001b[49m\u001b[43mhandle_unknown\u001b[49m\u001b[38;5;241;43m=\u001b[39;49m\u001b[38;5;28;43mself\u001b[39;49m\u001b[38;5;241;43m.\u001b[39;49m\u001b[43mhandle_unknown\u001b[49m\u001b[43m,\u001b[49m\u001b[43m \u001b[49m\u001b[43mforce_all_finite\u001b[49m\u001b[38;5;241;43m=\u001b[39;49m\u001b[38;5;124;43m\"\u001b[39;49m\u001b[38;5;124;43mallow-nan\u001b[39;49m\u001b[38;5;124;43m\"\u001b[39;49m\u001b[43m)\u001b[49m\n\u001b[0;32m   1296\u001b[0m \u001b[38;5;28;01mif\u001b[39;00m \u001b[38;5;28mself\u001b[39m\u001b[38;5;241m.\u001b[39mhandle_unknown \u001b[38;5;241m==\u001b[39m \u001b[38;5;124m\"\u001b[39m\u001b[38;5;124muse_encoded_value\u001b[39m\u001b[38;5;124m\"\u001b[39m:\n\u001b[0;32m   1297\u001b[0m     \u001b[38;5;28;01mfor\u001b[39;00m feature_cats \u001b[38;5;129;01min\u001b[39;00m \u001b[38;5;28mself\u001b[39m\u001b[38;5;241m.\u001b[39mcategories_:\n",
      "File \u001b[1;32m~\\anaconda3\\envs\\tf\\lib\\site-packages\\sklearn\\preprocessing\\_encoders.py:106\u001b[0m, in \u001b[0;36m_BaseEncoder._fit\u001b[1;34m(self, X, handle_unknown, force_all_finite, return_counts)\u001b[0m\n\u001b[0;32m    104\u001b[0m         cats \u001b[38;5;241m=\u001b[39m result\n\u001b[0;32m    105\u001b[0m \u001b[38;5;28;01melse\u001b[39;00m:\n\u001b[1;32m--> 106\u001b[0m     cats \u001b[38;5;241m=\u001b[39m \u001b[43mnp\u001b[49m\u001b[38;5;241;43m.\u001b[39;49m\u001b[43marray\u001b[49m\u001b[43m(\u001b[49m\u001b[38;5;28;43mself\u001b[39;49m\u001b[38;5;241;43m.\u001b[39;49m\u001b[43mcategories\u001b[49m\u001b[43m[\u001b[49m\u001b[43mi\u001b[49m\u001b[43m]\u001b[49m\u001b[43m,\u001b[49m\u001b[43m \u001b[49m\u001b[43mdtype\u001b[49m\u001b[38;5;241;43m=\u001b[39;49m\u001b[43mXi\u001b[49m\u001b[38;5;241;43m.\u001b[39;49m\u001b[43mdtype\u001b[49m\u001b[43m)\u001b[49m\n\u001b[0;32m    107\u001b[0m     \u001b[38;5;28;01mif\u001b[39;00m Xi\u001b[38;5;241m.\u001b[39mdtype\u001b[38;5;241m.\u001b[39mkind \u001b[38;5;129;01mnot\u001b[39;00m \u001b[38;5;129;01min\u001b[39;00m \u001b[38;5;124m\"\u001b[39m\u001b[38;5;124mOUS\u001b[39m\u001b[38;5;124m\"\u001b[39m:\n\u001b[0;32m    108\u001b[0m         sorted_cats \u001b[38;5;241m=\u001b[39m np\u001b[38;5;241m.\u001b[39msort(cats)\n",
      "\u001b[1;31mValueError\u001b[0m: could not convert string to float: 'N'"
     ]
    }
   ],
   "source": [
    "#'tartar'-> OrdinalEncoder\n",
    "from sklearn.preprocessing import OrdinalEncoder\n",
    "\n",
    "ordinal_encoder = OrdinalEncoder(categories = [['N','Y']])\n",
    "\n",
    "X_train[\"tartar\"] = ordinal_encoder.fit_transform(X_train[[\"tartar\"]])\n",
    "X_test[\"tartar\"] = ordinal_encoder.fit_transform(X_test[[\"tartar\"]])\n",
    "X_val[\"tartar\"] = ordinal_encoder.fit_transform(X_val[[\"tartar\"]])"
   ]
  },
  {
   "cell_type": "code",
   "execution_count": 17,
   "id": "290a25a8",
   "metadata": {},
   "outputs": [],
   "source": [
    "# 소수의 컬럼만 사용해보기\n",
    "# a = ['fasting blood sugar','triglyceride','Gtp']\n",
    "# X_train1 = X_train[['fasting blood sugar', 'triglyceride', 'Gtp']]\n",
    "# X_test1 = X_test[['fasting blood sugar', 'triglyceride', 'Gtp']]\n",
    "# X_val1 = X_val[['fasting blood sugar', 'triglyceride', 'Gtp']]"
   ]
  },
  {
   "cell_type": "code",
   "execution_count": 45,
   "id": "a4de8466",
   "metadata": {
    "ExecuteTime": {
     "end_time": "2022-07-18T11:29:31.775912Z",
     "start_time": "2022-07-18T11:29:31.747019Z"
    }
   },
   "outputs": [
    {
     "data": {
      "text/html": [
       "<div>\n",
       "<style scoped>\n",
       "    .dataframe tbody tr th:only-of-type {\n",
       "        vertical-align: middle;\n",
       "    }\n",
       "\n",
       "    .dataframe tbody tr th {\n",
       "        vertical-align: top;\n",
       "    }\n",
       "\n",
       "    .dataframe thead th {\n",
       "        text-align: right;\n",
       "    }\n",
       "</style>\n",
       "<table border=\"1\" class=\"dataframe\">\n",
       "  <thead>\n",
       "    <tr style=\"text-align: right;\">\n",
       "      <th></th>\n",
       "      <th>gender</th>\n",
       "      <th>Gtp</th>\n",
       "      <th>age</th>\n",
       "      <th>triglyceride</th>\n",
       "    </tr>\n",
       "    <tr>\n",
       "      <th>ID</th>\n",
       "      <th></th>\n",
       "      <th></th>\n",
       "      <th></th>\n",
       "      <th></th>\n",
       "    </tr>\n",
       "  </thead>\n",
       "  <tbody>\n",
       "    <tr>\n",
       "      <th>31346</th>\n",
       "      <td>1</td>\n",
       "      <td>23.0</td>\n",
       "      <td>65</td>\n",
       "      <td>69.0</td>\n",
       "    </tr>\n",
       "    <tr>\n",
       "      <th>3876</th>\n",
       "      <td>0</td>\n",
       "      <td>17.0</td>\n",
       "      <td>60</td>\n",
       "      <td>175.0</td>\n",
       "    </tr>\n",
       "    <tr>\n",
       "      <th>3084</th>\n",
       "      <td>1</td>\n",
       "      <td>36.0</td>\n",
       "      <td>20</td>\n",
       "      <td>150.0</td>\n",
       "    </tr>\n",
       "    <tr>\n",
       "      <th>51633</th>\n",
       "      <td>0</td>\n",
       "      <td>14.0</td>\n",
       "      <td>55</td>\n",
       "      <td>110.0</td>\n",
       "    </tr>\n",
       "    <tr>\n",
       "      <th>50995</th>\n",
       "      <td>0</td>\n",
       "      <td>11.0</td>\n",
       "      <td>40</td>\n",
       "      <td>79.0</td>\n",
       "    </tr>\n",
       "    <tr>\n",
       "      <th>...</th>\n",
       "      <td>...</td>\n",
       "      <td>...</td>\n",
       "      <td>...</td>\n",
       "      <td>...</td>\n",
       "    </tr>\n",
       "    <tr>\n",
       "      <th>40811</th>\n",
       "      <td>0</td>\n",
       "      <td>15.0</td>\n",
       "      <td>60</td>\n",
       "      <td>80.0</td>\n",
       "    </tr>\n",
       "    <tr>\n",
       "      <th>41694</th>\n",
       "      <td>1</td>\n",
       "      <td>24.0</td>\n",
       "      <td>25</td>\n",
       "      <td>123.0</td>\n",
       "    </tr>\n",
       "    <tr>\n",
       "      <th>11889</th>\n",
       "      <td>0</td>\n",
       "      <td>17.0</td>\n",
       "      <td>55</td>\n",
       "      <td>131.0</td>\n",
       "    </tr>\n",
       "    <tr>\n",
       "      <th>38563</th>\n",
       "      <td>1</td>\n",
       "      <td>49.0</td>\n",
       "      <td>40</td>\n",
       "      <td>121.0</td>\n",
       "    </tr>\n",
       "    <tr>\n",
       "      <th>28362</th>\n",
       "      <td>1</td>\n",
       "      <td>51.0</td>\n",
       "      <td>25</td>\n",
       "      <td>165.0</td>\n",
       "    </tr>\n",
       "  </tbody>\n",
       "</table>\n",
       "<p>33414 rows × 4 columns</p>\n",
       "</div>"
      ],
      "text/plain": [
       "       gender   Gtp  age  triglyceride\n",
       "ID                                    \n",
       "31346       1  23.0   65          69.0\n",
       "3876        0  17.0   60         175.0\n",
       "3084        1  36.0   20         150.0\n",
       "51633       0  14.0   55         110.0\n",
       "50995       0  11.0   40          79.0\n",
       "...       ...   ...  ...           ...\n",
       "40811       0  15.0   60          80.0\n",
       "41694       1  24.0   25         123.0\n",
       "11889       0  17.0   55         131.0\n",
       "38563       1  49.0   40         121.0\n",
       "28362       1  51.0   25         165.0\n",
       "\n",
       "[33414 rows x 4 columns]"
      ]
     },
     "execution_count": 45,
     "metadata": {},
     "output_type": "execute_result"
    }
   ],
   "source": [
    "X_train1"
   ]
  },
  {
   "cell_type": "code",
   "execution_count": 1,
   "id": "128e2e2c",
   "metadata": {
    "ExecuteTime": {
     "end_time": "2022-07-18T10:07:21.625994Z",
     "start_time": "2022-07-18T10:07:21.604056Z"
    }
   },
   "outputs": [],
   "source": [
    "# 이상치 제거\n",
    "\n",
    "      \n"
   ]
  },
  {
   "cell_type": "code",
   "execution_count": 10,
   "id": "2d5d2a25",
   "metadata": {
    "ExecuteTime": {
     "end_time": "2022-07-19T09:36:04.726982Z",
     "start_time": "2022-07-19T09:36:04.698096Z"
    }
   },
   "outputs": [],
   "source": [
    "X_train.drop('oral', axis=1, inplace=True)\n",
    "X_test.drop('oral', axis=1, inplace=True)\n",
    "X_val.drop('oral', axis=1, inplace=True)"
   ]
  },
  {
   "cell_type": "code",
   "execution_count": null,
   "id": "423ab535",
   "metadata": {},
   "outputs": [],
   "source": []
  },
  {
   "cell_type": "code",
   "execution_count": 12,
   "id": "4b56c424",
   "metadata": {
    "ExecuteTime": {
     "end_time": "2022-07-19T09:36:24.116898Z",
     "start_time": "2022-07-19T09:36:24.106930Z"
    }
   },
   "outputs": [],
   "source": [
    "from sklearn.metrics import accuracy_score,r2_score, recall_score"
   ]
  },
  {
   "cell_type": "code",
   "execution_count": 9,
   "id": "fad6943c",
   "metadata": {
    "ExecuteTime": {
     "end_time": "2022-07-18T12:03:53.238924Z",
     "start_time": "2022-07-18T12:03:53.071442Z"
    }
   },
   "outputs": [],
   "source": [
    "from sklearn.linear_model import LogisticRegression\n",
    "from sklearn.tree import DecisionTreeClassifier\n",
    "from sklearn.neighbors import  KNeighborsClassifier\n",
    "from sklearn.ensemble import RandomForestClassifier\n",
    "from sklearn.neural_network import  MLPClassifier\n",
    "from sklearn.svm import SVC"
   ]
  },
  {
   "cell_type": "code",
   "execution_count": null,
   "id": "d71ed8d0",
   "metadata": {
    "ExecuteTime": {
     "end_time": "2022-07-18T10:23:56.694343Z",
     "start_time": "2022-07-18T10:23:56.504748Z"
    }
   },
   "outputs": [],
   "source": []
  },
  {
   "cell_type": "code",
   "execution_count": 71,
   "id": "2930a14b",
   "metadata": {
    "ExecuteTime": {
     "end_time": "2022-07-18T11:31:39.807702Z",
     "start_time": "2022-07-18T11:31:39.801718Z"
    }
   },
   "outputs": [],
   "source": [
    "# before scale \n",
    "tree = DecisionTreeClassifier(max_depth=7, random_state=0)  "
   ]
  },
  {
   "cell_type": "code",
   "execution_count": 72,
   "id": "0e64eb2f",
   "metadata": {
    "ExecuteTime": {
     "end_time": "2022-07-18T11:31:40.753555Z",
     "start_time": "2022-07-18T11:31:40.697701Z"
    }
   },
   "outputs": [
    {
     "data": {
      "text/html": [
       "<style>#sk-container-id-6 {color: black;background-color: white;}#sk-container-id-6 pre{padding: 0;}#sk-container-id-6 div.sk-toggleable {background-color: white;}#sk-container-id-6 label.sk-toggleable__label {cursor: pointer;display: block;width: 100%;margin-bottom: 0;padding: 0.3em;box-sizing: border-box;text-align: center;}#sk-container-id-6 label.sk-toggleable__label-arrow:before {content: \"▸\";float: left;margin-right: 0.25em;color: #696969;}#sk-container-id-6 label.sk-toggleable__label-arrow:hover:before {color: black;}#sk-container-id-6 div.sk-estimator:hover label.sk-toggleable__label-arrow:before {color: black;}#sk-container-id-6 div.sk-toggleable__content {max-height: 0;max-width: 0;overflow: hidden;text-align: left;background-color: #f0f8ff;}#sk-container-id-6 div.sk-toggleable__content pre {margin: 0.2em;color: black;border-radius: 0.25em;background-color: #f0f8ff;}#sk-container-id-6 input.sk-toggleable__control:checked~div.sk-toggleable__content {max-height: 200px;max-width: 100%;overflow: auto;}#sk-container-id-6 input.sk-toggleable__control:checked~label.sk-toggleable__label-arrow:before {content: \"▾\";}#sk-container-id-6 div.sk-estimator input.sk-toggleable__control:checked~label.sk-toggleable__label {background-color: #d4ebff;}#sk-container-id-6 div.sk-label input.sk-toggleable__control:checked~label.sk-toggleable__label {background-color: #d4ebff;}#sk-container-id-6 input.sk-hidden--visually {border: 0;clip: rect(1px 1px 1px 1px);clip: rect(1px, 1px, 1px, 1px);height: 1px;margin: -1px;overflow: hidden;padding: 0;position: absolute;width: 1px;}#sk-container-id-6 div.sk-estimator {font-family: monospace;background-color: #f0f8ff;border: 1px dotted black;border-radius: 0.25em;box-sizing: border-box;margin-bottom: 0.5em;}#sk-container-id-6 div.sk-estimator:hover {background-color: #d4ebff;}#sk-container-id-6 div.sk-parallel-item::after {content: \"\";width: 100%;border-bottom: 1px solid gray;flex-grow: 1;}#sk-container-id-6 div.sk-label:hover label.sk-toggleable__label {background-color: #d4ebff;}#sk-container-id-6 div.sk-serial::before {content: \"\";position: absolute;border-left: 1px solid gray;box-sizing: border-box;top: 0;bottom: 0;left: 50%;z-index: 0;}#sk-container-id-6 div.sk-serial {display: flex;flex-direction: column;align-items: center;background-color: white;padding-right: 0.2em;padding-left: 0.2em;position: relative;}#sk-container-id-6 div.sk-item {position: relative;z-index: 1;}#sk-container-id-6 div.sk-parallel {display: flex;align-items: stretch;justify-content: center;background-color: white;position: relative;}#sk-container-id-6 div.sk-item::before, #sk-container-id-6 div.sk-parallel-item::before {content: \"\";position: absolute;border-left: 1px solid gray;box-sizing: border-box;top: 0;bottom: 0;left: 50%;z-index: -1;}#sk-container-id-6 div.sk-parallel-item {display: flex;flex-direction: column;z-index: 1;position: relative;background-color: white;}#sk-container-id-6 div.sk-parallel-item:first-child::after {align-self: flex-end;width: 50%;}#sk-container-id-6 div.sk-parallel-item:last-child::after {align-self: flex-start;width: 50%;}#sk-container-id-6 div.sk-parallel-item:only-child::after {width: 0;}#sk-container-id-6 div.sk-dashed-wrapped {border: 1px dashed gray;margin: 0 0.4em 0.5em 0.4em;box-sizing: border-box;padding-bottom: 0.4em;background-color: white;}#sk-container-id-6 div.sk-label label {font-family: monospace;font-weight: bold;display: inline-block;line-height: 1.2em;}#sk-container-id-6 div.sk-label-container {text-align: center;}#sk-container-id-6 div.sk-container {/* jupyter's `normalize.less` sets `[hidden] { display: none; }` but bootstrap.min.css set `[hidden] { display: none !important; }` so we also need the `!important` here to be able to override the default hidden behavior on the sphinx rendered scikit-learn.org. See: https://github.com/scikit-learn/scikit-learn/issues/21755 */display: inline-block !important;position: relative;}#sk-container-id-6 div.sk-text-repr-fallback {display: none;}</style><div id=\"sk-container-id-6\" class=\"sk-top-container\"><div class=\"sk-text-repr-fallback\"><pre>DecisionTreeClassifier(max_depth=7, random_state=0)</pre><b>In a Jupyter environment, please rerun this cell to show the HTML representation or trust the notebook. <br />On GitHub, the HTML representation is unable to render, please try loading this page with nbviewer.org.</b></div><div class=\"sk-container\" hidden><div class=\"sk-item\"><div class=\"sk-estimator sk-toggleable\"><input class=\"sk-toggleable__control sk-hidden--visually\" id=\"sk-estimator-id-6\" type=\"checkbox\" checked><label for=\"sk-estimator-id-6\" class=\"sk-toggleable__label sk-toggleable__label-arrow\">DecisionTreeClassifier</label><div class=\"sk-toggleable__content\"><pre>DecisionTreeClassifier(max_depth=7, random_state=0)</pre></div></div></div></div></div>"
      ],
      "text/plain": [
       "DecisionTreeClassifier(max_depth=7, random_state=0)"
      ]
     },
     "execution_count": 72,
     "metadata": {},
     "output_type": "execute_result"
    }
   ],
   "source": [
    "# 학습(train)\n",
    "tree.fit(X_train1, y_train)"
   ]
  },
  {
   "cell_type": "code",
   "execution_count": 73,
   "id": "f64a0896",
   "metadata": {
    "ExecuteTime": {
     "end_time": "2022-07-18T11:31:41.536727Z",
     "start_time": "2022-07-18T11:31:41.506807Z"
    }
   },
   "outputs": [],
   "source": [
    "# 검증 - 예측=>평가  (train/val set으로 둘 다 검증)\n",
    "pred_train = tree.predict(X_train1)\n",
    "pred_test = tree.predict(X_test1)\n",
    "pred_val = tree.predict(X_val1)"
   ]
  },
  {
   "cell_type": "code",
   "execution_count": 74,
   "id": "b8d83eb1",
   "metadata": {
    "ExecuteTime": {
     "end_time": "2022-07-18T11:31:42.475634Z",
     "start_time": "2022-07-18T11:31:42.368922Z"
    },
    "collapsed": true
   },
   "outputs": [
    {
     "name": "stdout",
     "output_type": "stream",
     "text": [
      "==================================================\n",
      "Train set에 대한 검증결과\n",
      "--------------------------------------------------\n",
      "정확도(Accuracy): 0.7482193092715628\n",
      "재현율/민감도(Recall): 0.7147749510763209\n",
      "정밀도(Precision): 0.6407426357722389\n",
      "F1 점수(F1 Score): 0.6757371362497591\n",
      "==================================================\n",
      "==================================================\n",
      "Test set에 대한 검증결과\n",
      "--------------------------------------------------\n",
      "정확도(Accuracy): 0.7477331896938684\n",
      "재현율/민감도(Recall): 0.7087496953448696\n",
      "정밀도(Precision): 0.6429361043555163\n",
      "F1 점수(F1 Score): 0.6742406677486669\n",
      "==================================================\n",
      "==================================================\n",
      "Validation set에 대한 검증결과\n",
      "--------------------------------------------------\n",
      "정확도(Accuracy): 0.7427058084208636\n",
      "재현율/민감도(Recall): 0.7137964774951077\n",
      "정밀도(Precision): 0.6324230602514087\n",
      "F1 점수(F1 Score): 0.6706504251896116\n",
      "==================================================\n"
     ]
    }
   ],
   "source": [
    "from metrics import print_classification_metrics\n",
    "print_classification_metrics(y_train, pred_train, title='Train set에 대한 검증결과')\n",
    "print_classification_metrics(y_test, pred_test, title='Test set에 대한 검증결과')\n",
    "print_classification_metrics(y_val, pred_val, title='Validation set에 대한 검증결과')"
   ]
  },
  {
   "cell_type": "code",
   "execution_count": 75,
   "id": "a02b3e8d",
   "metadata": {
    "ExecuteTime": {
     "end_time": "2022-07-18T11:31:57.252709Z",
     "start_time": "2022-07-18T11:31:57.225743Z"
    }
   },
   "outputs": [],
   "source": [
    "from sklearn.preprocessing import StandardScaler\n",
    "s_scaler = StandardScaler()\n",
    "X_train_scaled1 = s_scaler.fit_transform(X_train1)\n",
    "X_val_scaled1 = s_scaler.transform(X_val1)\n",
    "X_test_scaled1 = s_scaler.transform(X_test1)"
   ]
  },
  {
   "cell_type": "code",
   "execution_count": 76,
   "id": "6f0ef31f",
   "metadata": {
    "ExecuteTime": {
     "end_time": "2022-07-18T11:31:58.629044Z",
     "start_time": "2022-07-18T11:31:58.576977Z"
    }
   },
   "outputs": [],
   "source": [
    "# after StandardScaler scale\n",
    "tree = DecisionTreeClassifier(max_depth=7, random_state=0)  \n",
    "    # 하이퍼파라미터를 변경(하이퍼파라미터튜닝)->모델을 다시 학습 ->모델 검증을 다시한다. \n",
    "    # 모델 성능에 영향을 주는 것: 파라미터(학습을 통해 찾는 값들), 하이퍼파라미터(사람이 설정하는 값)\n",
    "# 학습(train)\n",
    "tree.fit(X_train_scaled1, y_train)\n",
    "\n",
    "# 검증 - 예측=>평가  (train/val set으로 둘 다 검증)\n",
    "pred_train1 = tree.predict(X_train_scaled1)\n",
    "pred_val1 = tree.predict(X_val_scaled1)\n",
    "pred_test1 = tree.predict(X_test_scaled1)\n"
   ]
  },
  {
   "cell_type": "code",
   "execution_count": 77,
   "id": "f1cd621a",
   "metadata": {
    "ExecuteTime": {
     "end_time": "2022-07-18T11:32:04.869741Z",
     "start_time": "2022-07-18T11:32:04.857772Z"
    }
   },
   "outputs": [
    {
     "data": {
      "text/plain": [
       "-4.922806109069947e-17"
      ]
     },
     "execution_count": 77,
     "metadata": {},
     "output_type": "execute_result"
    }
   ],
   "source": [
    "X_train_scaled1.mean()"
   ]
  },
  {
   "cell_type": "code",
   "execution_count": 78,
   "id": "8e109da0",
   "metadata": {
    "ExecuteTime": {
     "end_time": "2022-07-18T11:32:06.281912Z",
     "start_time": "2022-07-18T11:32:06.186050Z"
    },
    "collapsed": true
   },
   "outputs": [
    {
     "name": "stdout",
     "output_type": "stream",
     "text": [
      "==================================================\n",
      "Train set에 대한 검증결과\n",
      "--------------------------------------------------\n",
      "정확도(Accuracy): 0.7482193092715628\n",
      "재현율/민감도(Recall): 0.7147749510763209\n",
      "정밀도(Precision): 0.6407426357722389\n",
      "F1 점수(F1 Score): 0.6757371362497591\n",
      "==================================================\n",
      "==================================================\n",
      "Test set에 대한 검증결과\n",
      "--------------------------------------------------\n",
      "정확도(Accuracy): 0.7477331896938684\n",
      "재현율/민감도(Recall): 0.7087496953448696\n",
      "정밀도(Precision): 0.6429361043555163\n",
      "F1 점수(F1 Score): 0.6742406677486669\n",
      "==================================================\n",
      "==================================================\n",
      "Validation set에 대한 검증결과\n",
      "--------------------------------------------------\n",
      "정확도(Accuracy): 0.742795583086453\n",
      "재현율/민감도(Recall): 0.714041095890411\n",
      "정밀도(Precision): 0.6325027085590466\n",
      "F1 점수(F1 Score): 0.6708031713202344\n",
      "==================================================\n"
     ]
    }
   ],
   "source": [
    "print_classification_metrics(y_train, pred_train1, title='Train set에 대한 검증결과')\n",
    "print_classification_metrics(y_test, pred_test1, title='Test set에 대한 검증결과')\n",
    "print_classification_metrics(y_val, pred_val1, title='Validation set에 대한 검증결과')"
   ]
  },
  {
   "cell_type": "code",
   "execution_count": null,
   "id": "e053f8db",
   "metadata": {},
   "outputs": [],
   "source": []
  },
  {
   "cell_type": "code",
   "execution_count": 28,
   "id": "43fec70a",
   "metadata": {},
   "outputs": [],
   "source": [
    "from sklearn.preprocessing import MinMaxScaler\n",
    "\n",
    "m_scaler = MinMaxScaler()\n",
    "X_train_scaled2 = m_scaler.fit_transform(X_train)\n",
    "X_val_scaled2 = m_scaler.transform(X_val)\n",
    "X_test_scaled2 = m_scaler.transform(X_test)"
   ]
  },
  {
   "cell_type": "code",
   "execution_count": 29,
   "id": "646a97e5",
   "metadata": {},
   "outputs": [],
   "source": [
    "# after MinMaxScaler scale\n",
    "tree = DecisionTreeClassifier(max_depth=7, random_state=0)  \n",
    "    # 하이퍼파라미터를 변경(하이퍼파라미터튜닝)->모델을 다시 학습 ->모델 검증을 다시한다. \n",
    "    # 모델 성능에 영향을 주는 것: 파라미터(학습을 통해 찾는 값들), 하이퍼파라미터(사람이 설정하는 값)\n",
    "# 학습(train)\n",
    "tree.fit(X_train_scaled2, y_train)\n",
    "\n",
    "# 검증 - 예측=>평가  (train/val set으로 둘 다 검증)\n",
    "pred_train2 = tree.predict(X_train_scaled2)\n",
    "pred_val2 = tree.predict(X_val_scaled2)\n",
    "pred_test2 = tree.predict(X_test_scaled2)"
   ]
  },
  {
   "cell_type": "code",
   "execution_count": 30,
   "id": "acc50a26",
   "metadata": {
    "collapsed": true
   },
   "outputs": [
    {
     "name": "stdout",
     "output_type": "stream",
     "text": [
      "==================================================\n",
      "Train set에 대한 검증결과\n",
      "--------------------------------------------------\n",
      "정확도(Accuracy): 0.7532770694918298\n",
      "재현율/민감도(Recall): 0.677429876060013\n",
      "정밀도(Precision): 0.6595744680851063\n",
      "F1 점수(F1 Score): 0.6683829444891392\n",
      "==================================================\n",
      "==================================================\n",
      "Test set에 대한 검증결과\n",
      "--------------------------------------------------\n",
      "정확도(Accuracy): 0.7486309363497621\n",
      "재현율/민감도(Recall): 0.6731659761150378\n",
      "정밀도(Precision): 0.654347311063729\n",
      "F1 점수(F1 Score): 0.663623258049015\n",
      "==================================================\n",
      "==================================================\n",
      "Validation set에 대한 검증결과\n",
      "--------------------------------------------------\n",
      "정확도(Accuracy): 0.7374988778166801\n",
      "재현율/민감도(Recall): 0.6656066536203522\n",
      "정밀도(Precision): 0.6360448807854138\n",
      "F1 점수(F1 Score): 0.6504900788907483\n",
      "==================================================\n"
     ]
    }
   ],
   "source": [
    "print_classification_metrics(y_train, pred_train2, title='Train set에 대한 검증결과')\n",
    "print_classification_metrics(y_test, pred_test2, title='Test set에 대한 검증결과')\n",
    "print_classification_metrics(y_val, pred_val2, title='Validation set에 대한 검증결과')"
   ]
  },
  {
   "cell_type": "markdown",
   "id": "680009a7",
   "metadata": {},
   "source": [
    "# GridSearch DecisionTree"
   ]
  },
  {
   "cell_type": "code",
   "execution_count": 79,
   "id": "77d9735a",
   "metadata": {
    "ExecuteTime": {
     "end_time": "2022-07-18T11:32:39.891764Z",
     "start_time": "2022-07-18T11:32:39.881754Z"
    }
   },
   "outputs": [],
   "source": [
    "# recall을 scoring으로 잡았을 경우\n",
    "from sklearn.model_selection import GridSearchCV\n",
    "from sklearn.tree import DecisionTreeClassifier\n",
    "\n",
    "tree = DecisionTreeClassifier(random_state=0)\n",
    "# 파라미터 후보 = 딕셔너리: key - 하이퍼파라미터 이름, value - 후보리스트\n",
    "param_grid = {'max_depth':range(1,20),\n",
    "              'max_leaf_nodes':range(2,14,2)\n",
    "             } # 나머지 하이퍼 파라미터는 default\n",
    "\n",
    "grid_search = GridSearchCV(tree, #모델\n",
    "                           param_grid=param_grid, #하이퍼 파라미터\n",
    "                           scoring='accuracy', #평가지표\n",
    "                           cv=5,               # cross validation 의 fold 개수\n",
    "                           n_jobs=-1) # 사용할 cpu 개수 -1은 모든 cpu  프로세스 다 사용"
   ]
  },
  {
   "cell_type": "code",
   "execution_count": 80,
   "id": "31c549c6",
   "metadata": {
    "ExecuteTime": {
     "end_time": "2022-07-18T11:32:57.423298Z",
     "start_time": "2022-07-18T11:32:45.881649Z"
    }
   },
   "outputs": [
    {
     "data": {
      "text/html": [
       "<style>#sk-container-id-7 {color: black;background-color: white;}#sk-container-id-7 pre{padding: 0;}#sk-container-id-7 div.sk-toggleable {background-color: white;}#sk-container-id-7 label.sk-toggleable__label {cursor: pointer;display: block;width: 100%;margin-bottom: 0;padding: 0.3em;box-sizing: border-box;text-align: center;}#sk-container-id-7 label.sk-toggleable__label-arrow:before {content: \"▸\";float: left;margin-right: 0.25em;color: #696969;}#sk-container-id-7 label.sk-toggleable__label-arrow:hover:before {color: black;}#sk-container-id-7 div.sk-estimator:hover label.sk-toggleable__label-arrow:before {color: black;}#sk-container-id-7 div.sk-toggleable__content {max-height: 0;max-width: 0;overflow: hidden;text-align: left;background-color: #f0f8ff;}#sk-container-id-7 div.sk-toggleable__content pre {margin: 0.2em;color: black;border-radius: 0.25em;background-color: #f0f8ff;}#sk-container-id-7 input.sk-toggleable__control:checked~div.sk-toggleable__content {max-height: 200px;max-width: 100%;overflow: auto;}#sk-container-id-7 input.sk-toggleable__control:checked~label.sk-toggleable__label-arrow:before {content: \"▾\";}#sk-container-id-7 div.sk-estimator input.sk-toggleable__control:checked~label.sk-toggleable__label {background-color: #d4ebff;}#sk-container-id-7 div.sk-label input.sk-toggleable__control:checked~label.sk-toggleable__label {background-color: #d4ebff;}#sk-container-id-7 input.sk-hidden--visually {border: 0;clip: rect(1px 1px 1px 1px);clip: rect(1px, 1px, 1px, 1px);height: 1px;margin: -1px;overflow: hidden;padding: 0;position: absolute;width: 1px;}#sk-container-id-7 div.sk-estimator {font-family: monospace;background-color: #f0f8ff;border: 1px dotted black;border-radius: 0.25em;box-sizing: border-box;margin-bottom: 0.5em;}#sk-container-id-7 div.sk-estimator:hover {background-color: #d4ebff;}#sk-container-id-7 div.sk-parallel-item::after {content: \"\";width: 100%;border-bottom: 1px solid gray;flex-grow: 1;}#sk-container-id-7 div.sk-label:hover label.sk-toggleable__label {background-color: #d4ebff;}#sk-container-id-7 div.sk-serial::before {content: \"\";position: absolute;border-left: 1px solid gray;box-sizing: border-box;top: 0;bottom: 0;left: 50%;z-index: 0;}#sk-container-id-7 div.sk-serial {display: flex;flex-direction: column;align-items: center;background-color: white;padding-right: 0.2em;padding-left: 0.2em;position: relative;}#sk-container-id-7 div.sk-item {position: relative;z-index: 1;}#sk-container-id-7 div.sk-parallel {display: flex;align-items: stretch;justify-content: center;background-color: white;position: relative;}#sk-container-id-7 div.sk-item::before, #sk-container-id-7 div.sk-parallel-item::before {content: \"\";position: absolute;border-left: 1px solid gray;box-sizing: border-box;top: 0;bottom: 0;left: 50%;z-index: -1;}#sk-container-id-7 div.sk-parallel-item {display: flex;flex-direction: column;z-index: 1;position: relative;background-color: white;}#sk-container-id-7 div.sk-parallel-item:first-child::after {align-self: flex-end;width: 50%;}#sk-container-id-7 div.sk-parallel-item:last-child::after {align-self: flex-start;width: 50%;}#sk-container-id-7 div.sk-parallel-item:only-child::after {width: 0;}#sk-container-id-7 div.sk-dashed-wrapped {border: 1px dashed gray;margin: 0 0.4em 0.5em 0.4em;box-sizing: border-box;padding-bottom: 0.4em;background-color: white;}#sk-container-id-7 div.sk-label label {font-family: monospace;font-weight: bold;display: inline-block;line-height: 1.2em;}#sk-container-id-7 div.sk-label-container {text-align: center;}#sk-container-id-7 div.sk-container {/* jupyter's `normalize.less` sets `[hidden] { display: none; }` but bootstrap.min.css set `[hidden] { display: none !important; }` so we also need the `!important` here to be able to override the default hidden behavior on the sphinx rendered scikit-learn.org. See: https://github.com/scikit-learn/scikit-learn/issues/21755 */display: inline-block !important;position: relative;}#sk-container-id-7 div.sk-text-repr-fallback {display: none;}</style><div id=\"sk-container-id-7\" class=\"sk-top-container\"><div class=\"sk-text-repr-fallback\"><pre>GridSearchCV(cv=5, estimator=DecisionTreeClassifier(random_state=0), n_jobs=-1,\n",
       "             param_grid={&#x27;max_depth&#x27;: range(1, 20),\n",
       "                         &#x27;max_leaf_nodes&#x27;: range(2, 14, 2)},\n",
       "             scoring=&#x27;accuracy&#x27;)</pre><b>In a Jupyter environment, please rerun this cell to show the HTML representation or trust the notebook. <br />On GitHub, the HTML representation is unable to render, please try loading this page with nbviewer.org.</b></div><div class=\"sk-container\" hidden><div class=\"sk-item sk-dashed-wrapped\"><div class=\"sk-label-container\"><div class=\"sk-label sk-toggleable\"><input class=\"sk-toggleable__control sk-hidden--visually\" id=\"sk-estimator-id-7\" type=\"checkbox\" ><label for=\"sk-estimator-id-7\" class=\"sk-toggleable__label sk-toggleable__label-arrow\">GridSearchCV</label><div class=\"sk-toggleable__content\"><pre>GridSearchCV(cv=5, estimator=DecisionTreeClassifier(random_state=0), n_jobs=-1,\n",
       "             param_grid={&#x27;max_depth&#x27;: range(1, 20),\n",
       "                         &#x27;max_leaf_nodes&#x27;: range(2, 14, 2)},\n",
       "             scoring=&#x27;accuracy&#x27;)</pre></div></div></div><div class=\"sk-parallel\"><div class=\"sk-parallel-item\"><div class=\"sk-item\"><div class=\"sk-label-container\"><div class=\"sk-label sk-toggleable\"><input class=\"sk-toggleable__control sk-hidden--visually\" id=\"sk-estimator-id-8\" type=\"checkbox\" ><label for=\"sk-estimator-id-8\" class=\"sk-toggleable__label sk-toggleable__label-arrow\">estimator: DecisionTreeClassifier</label><div class=\"sk-toggleable__content\"><pre>DecisionTreeClassifier(random_state=0)</pre></div></div></div><div class=\"sk-serial\"><div class=\"sk-item\"><div class=\"sk-estimator sk-toggleable\"><input class=\"sk-toggleable__control sk-hidden--visually\" id=\"sk-estimator-id-9\" type=\"checkbox\" ><label for=\"sk-estimator-id-9\" class=\"sk-toggleable__label sk-toggleable__label-arrow\">DecisionTreeClassifier</label><div class=\"sk-toggleable__content\"><pre>DecisionTreeClassifier(random_state=0)</pre></div></div></div></div></div></div></div></div></div></div>"
      ],
      "text/plain": [
       "GridSearchCV(cv=5, estimator=DecisionTreeClassifier(random_state=0), n_jobs=-1,\n",
       "             param_grid={'max_depth': range(1, 20),\n",
       "                         'max_leaf_nodes': range(2, 14, 2)},\n",
       "             scoring='accuracy')"
      ]
     },
     "execution_count": 80,
     "metadata": {},
     "output_type": "execute_result"
    }
   ],
   "source": [
    "grid_search.fit(X_train1, y_train)"
   ]
  },
  {
   "cell_type": "code",
   "execution_count": 81,
   "id": "2b1b62c4",
   "metadata": {
    "ExecuteTime": {
     "end_time": "2022-07-18T11:33:01.271666Z",
     "start_time": "2022-07-18T11:33:01.257702Z"
    },
    "scrolled": true
   },
   "outputs": [
    {
     "data": {
      "text/plain": [
       "0.7384629358162296"
      ]
     },
     "execution_count": 81,
     "metadata": {},
     "output_type": "execute_result"
    }
   ],
   "source": [
    "grid_search.best_score_"
   ]
  },
  {
   "cell_type": "code",
   "execution_count": 82,
   "id": "04dc2797",
   "metadata": {
    "ExecuteTime": {
     "end_time": "2022-07-18T11:33:05.785611Z",
     "start_time": "2022-07-18T11:33:05.777634Z"
    }
   },
   "outputs": [
    {
     "data": {
      "text/plain": [
       "{'max_depth': 6, 'max_leaf_nodes': 10}"
      ]
     },
     "execution_count": 82,
     "metadata": {},
     "output_type": "execute_result"
    }
   ],
   "source": [
    "grid_search.best_params_"
   ]
  },
  {
   "cell_type": "code",
   "execution_count": 83,
   "id": "8e21b9e5",
   "metadata": {
    "ExecuteTime": {
     "end_time": "2022-07-18T11:33:09.184544Z",
     "start_time": "2022-07-18T11:33:09.169547Z"
    }
   },
   "outputs": [
    {
     "data": {
      "text/html": [
       "<style>#sk-container-id-8 {color: black;background-color: white;}#sk-container-id-8 pre{padding: 0;}#sk-container-id-8 div.sk-toggleable {background-color: white;}#sk-container-id-8 label.sk-toggleable__label {cursor: pointer;display: block;width: 100%;margin-bottom: 0;padding: 0.3em;box-sizing: border-box;text-align: center;}#sk-container-id-8 label.sk-toggleable__label-arrow:before {content: \"▸\";float: left;margin-right: 0.25em;color: #696969;}#sk-container-id-8 label.sk-toggleable__label-arrow:hover:before {color: black;}#sk-container-id-8 div.sk-estimator:hover label.sk-toggleable__label-arrow:before {color: black;}#sk-container-id-8 div.sk-toggleable__content {max-height: 0;max-width: 0;overflow: hidden;text-align: left;background-color: #f0f8ff;}#sk-container-id-8 div.sk-toggleable__content pre {margin: 0.2em;color: black;border-radius: 0.25em;background-color: #f0f8ff;}#sk-container-id-8 input.sk-toggleable__control:checked~div.sk-toggleable__content {max-height: 200px;max-width: 100%;overflow: auto;}#sk-container-id-8 input.sk-toggleable__control:checked~label.sk-toggleable__label-arrow:before {content: \"▾\";}#sk-container-id-8 div.sk-estimator input.sk-toggleable__control:checked~label.sk-toggleable__label {background-color: #d4ebff;}#sk-container-id-8 div.sk-label input.sk-toggleable__control:checked~label.sk-toggleable__label {background-color: #d4ebff;}#sk-container-id-8 input.sk-hidden--visually {border: 0;clip: rect(1px 1px 1px 1px);clip: rect(1px, 1px, 1px, 1px);height: 1px;margin: -1px;overflow: hidden;padding: 0;position: absolute;width: 1px;}#sk-container-id-8 div.sk-estimator {font-family: monospace;background-color: #f0f8ff;border: 1px dotted black;border-radius: 0.25em;box-sizing: border-box;margin-bottom: 0.5em;}#sk-container-id-8 div.sk-estimator:hover {background-color: #d4ebff;}#sk-container-id-8 div.sk-parallel-item::after {content: \"\";width: 100%;border-bottom: 1px solid gray;flex-grow: 1;}#sk-container-id-8 div.sk-label:hover label.sk-toggleable__label {background-color: #d4ebff;}#sk-container-id-8 div.sk-serial::before {content: \"\";position: absolute;border-left: 1px solid gray;box-sizing: border-box;top: 0;bottom: 0;left: 50%;z-index: 0;}#sk-container-id-8 div.sk-serial {display: flex;flex-direction: column;align-items: center;background-color: white;padding-right: 0.2em;padding-left: 0.2em;position: relative;}#sk-container-id-8 div.sk-item {position: relative;z-index: 1;}#sk-container-id-8 div.sk-parallel {display: flex;align-items: stretch;justify-content: center;background-color: white;position: relative;}#sk-container-id-8 div.sk-item::before, #sk-container-id-8 div.sk-parallel-item::before {content: \"\";position: absolute;border-left: 1px solid gray;box-sizing: border-box;top: 0;bottom: 0;left: 50%;z-index: -1;}#sk-container-id-8 div.sk-parallel-item {display: flex;flex-direction: column;z-index: 1;position: relative;background-color: white;}#sk-container-id-8 div.sk-parallel-item:first-child::after {align-self: flex-end;width: 50%;}#sk-container-id-8 div.sk-parallel-item:last-child::after {align-self: flex-start;width: 50%;}#sk-container-id-8 div.sk-parallel-item:only-child::after {width: 0;}#sk-container-id-8 div.sk-dashed-wrapped {border: 1px dashed gray;margin: 0 0.4em 0.5em 0.4em;box-sizing: border-box;padding-bottom: 0.4em;background-color: white;}#sk-container-id-8 div.sk-label label {font-family: monospace;font-weight: bold;display: inline-block;line-height: 1.2em;}#sk-container-id-8 div.sk-label-container {text-align: center;}#sk-container-id-8 div.sk-container {/* jupyter's `normalize.less` sets `[hidden] { display: none; }` but bootstrap.min.css set `[hidden] { display: none !important; }` so we also need the `!important` here to be able to override the default hidden behavior on the sphinx rendered scikit-learn.org. See: https://github.com/scikit-learn/scikit-learn/issues/21755 */display: inline-block !important;position: relative;}#sk-container-id-8 div.sk-text-repr-fallback {display: none;}</style><div id=\"sk-container-id-8\" class=\"sk-top-container\"><div class=\"sk-text-repr-fallback\"><pre>DecisionTreeClassifier(max_depth=6, max_leaf_nodes=10, random_state=0)</pre><b>In a Jupyter environment, please rerun this cell to show the HTML representation or trust the notebook. <br />On GitHub, the HTML representation is unable to render, please try loading this page with nbviewer.org.</b></div><div class=\"sk-container\" hidden><div class=\"sk-item\"><div class=\"sk-estimator sk-toggleable\"><input class=\"sk-toggleable__control sk-hidden--visually\" id=\"sk-estimator-id-10\" type=\"checkbox\" checked><label for=\"sk-estimator-id-10\" class=\"sk-toggleable__label sk-toggleable__label-arrow\">DecisionTreeClassifier</label><div class=\"sk-toggleable__content\"><pre>DecisionTreeClassifier(max_depth=6, max_leaf_nodes=10, random_state=0)</pre></div></div></div></div></div>"
      ],
      "text/plain": [
       "DecisionTreeClassifier(max_depth=6, max_leaf_nodes=10, random_state=0)"
      ]
     },
     "execution_count": 83,
     "metadata": {},
     "output_type": "execute_result"
    }
   ],
   "source": [
    "best_model = grid_search.best_estimator_\n",
    "best_model"
   ]
  },
  {
   "cell_type": "code",
   "execution_count": 85,
   "id": "c4e6ccc1",
   "metadata": {
    "ExecuteTime": {
     "end_time": "2022-07-18T11:33:23.533087Z",
     "start_time": "2022-07-18T11:33:23.499179Z"
    }
   },
   "outputs": [
    {
     "name": "stdout",
     "output_type": "stream",
     "text": [
      "0.7431546817488105\n",
      "0.6970509383378016\n"
     ]
    }
   ],
   "source": [
    "from sklearn.metrics import confusion_matrix, classification_report, accuracy_score, roc_auc_score, recall_score\n",
    "print(accuracy_score(y_test, best_model.predict(X_test1)))\n",
    "print(recall_score(y_test, best_model.predict(X_test1)))"
   ]
  },
  {
   "cell_type": "markdown",
   "id": "d9d57f3e",
   "metadata": {},
   "source": [
    "## Grid Search를 이용한 Logistic 회귀"
   ]
  },
  {
   "cell_type": "code",
   "execution_count": 86,
   "id": "dde3cc05",
   "metadata": {
    "ExecuteTime": {
     "end_time": "2022-07-18T11:39:37.240030Z",
     "start_time": "2022-07-18T11:39:37.226065Z"
    }
   },
   "outputs": [],
   "source": [
    "from sklearn.preprocessing import StandardScaler\n",
    "from sklearn.model_selection import train_test_split, GridSearchCV\n",
    "\n",
    "from sklearn.linear_model import LogisticRegression\n",
    "from sklearn.metrics import accuracy_score, recall_score, precision_score, f1_score"
   ]
  },
  {
   "cell_type": "code",
   "execution_count": 108,
   "id": "0e3fed6f",
   "metadata": {
    "ExecuteTime": {
     "end_time": "2022-07-18T11:49:04.102042Z",
     "start_time": "2022-07-18T11:49:04.065141Z"
    },
    "scrolled": true
   },
   "outputs": [
    {
     "data": {
      "text/html": [
       "<div>\n",
       "<style scoped>\n",
       "    .dataframe tbody tr th:only-of-type {\n",
       "        vertical-align: middle;\n",
       "    }\n",
       "\n",
       "    .dataframe tbody tr th {\n",
       "        vertical-align: top;\n",
       "    }\n",
       "\n",
       "    .dataframe thead th {\n",
       "        text-align: right;\n",
       "    }\n",
       "</style>\n",
       "<table border=\"1\" class=\"dataframe\">\n",
       "  <thead>\n",
       "    <tr style=\"text-align: right;\">\n",
       "      <th></th>\n",
       "      <th>gender</th>\n",
       "      <th>age</th>\n",
       "      <th>height(cm)</th>\n",
       "      <th>weight(kg)</th>\n",
       "      <th>waist(cm)</th>\n",
       "      <th>eyesight(left)</th>\n",
       "      <th>eyesight(right)</th>\n",
       "      <th>hearing(left)</th>\n",
       "      <th>hearing(right)</th>\n",
       "      <th>systolic</th>\n",
       "      <th>...</th>\n",
       "      <th>HDL</th>\n",
       "      <th>LDL</th>\n",
       "      <th>hemoglobin</th>\n",
       "      <th>Urine protein</th>\n",
       "      <th>serum creatinine</th>\n",
       "      <th>AST</th>\n",
       "      <th>ALT</th>\n",
       "      <th>Gtp</th>\n",
       "      <th>dental caries</th>\n",
       "      <th>tartar</th>\n",
       "    </tr>\n",
       "    <tr>\n",
       "      <th>ID</th>\n",
       "      <th></th>\n",
       "      <th></th>\n",
       "      <th></th>\n",
       "      <th></th>\n",
       "      <th></th>\n",
       "      <th></th>\n",
       "      <th></th>\n",
       "      <th></th>\n",
       "      <th></th>\n",
       "      <th></th>\n",
       "      <th></th>\n",
       "      <th></th>\n",
       "      <th></th>\n",
       "      <th></th>\n",
       "      <th></th>\n",
       "      <th></th>\n",
       "      <th></th>\n",
       "      <th></th>\n",
       "      <th></th>\n",
       "      <th></th>\n",
       "      <th></th>\n",
       "    </tr>\n",
       "  </thead>\n",
       "  <tbody>\n",
       "    <tr>\n",
       "      <th>31346</th>\n",
       "      <td>1</td>\n",
       "      <td>65</td>\n",
       "      <td>165</td>\n",
       "      <td>70</td>\n",
       "      <td>91.0</td>\n",
       "      <td>1.0</td>\n",
       "      <td>0.8</td>\n",
       "      <td>2.0</td>\n",
       "      <td>1.0</td>\n",
       "      <td>110.0</td>\n",
       "      <td>...</td>\n",
       "      <td>37.0</td>\n",
       "      <td>113.0</td>\n",
       "      <td>14.9</td>\n",
       "      <td>1.0</td>\n",
       "      <td>1.0</td>\n",
       "      <td>19.0</td>\n",
       "      <td>15.0</td>\n",
       "      <td>23.0</td>\n",
       "      <td>0.0</td>\n",
       "      <td>0</td>\n",
       "    </tr>\n",
       "    <tr>\n",
       "      <th>3876</th>\n",
       "      <td>0</td>\n",
       "      <td>60</td>\n",
       "      <td>160</td>\n",
       "      <td>55</td>\n",
       "      <td>69.0</td>\n",
       "      <td>1.0</td>\n",
       "      <td>1.0</td>\n",
       "      <td>1.0</td>\n",
       "      <td>1.0</td>\n",
       "      <td>145.0</td>\n",
       "      <td>...</td>\n",
       "      <td>55.0</td>\n",
       "      <td>161.0</td>\n",
       "      <td>13.5</td>\n",
       "      <td>1.0</td>\n",
       "      <td>0.7</td>\n",
       "      <td>24.0</td>\n",
       "      <td>14.0</td>\n",
       "      <td>8.0</td>\n",
       "      <td>0.0</td>\n",
       "      <td>0</td>\n",
       "    </tr>\n",
       "    <tr>\n",
       "      <th>3084</th>\n",
       "      <td>1</td>\n",
       "      <td>20</td>\n",
       "      <td>170</td>\n",
       "      <td>90</td>\n",
       "      <td>97.6</td>\n",
       "      <td>0.9</td>\n",
       "      <td>1.0</td>\n",
       "      <td>1.0</td>\n",
       "      <td>1.0</td>\n",
       "      <td>125.0</td>\n",
       "      <td>...</td>\n",
       "      <td>52.0</td>\n",
       "      <td>165.0</td>\n",
       "      <td>15.7</td>\n",
       "      <td>1.0</td>\n",
       "      <td>1.0</td>\n",
       "      <td>42.0</td>\n",
       "      <td>81.0</td>\n",
       "      <td>36.0</td>\n",
       "      <td>0.0</td>\n",
       "      <td>1</td>\n",
       "    </tr>\n",
       "    <tr>\n",
       "      <th>51633</th>\n",
       "      <td>0</td>\n",
       "      <td>55</td>\n",
       "      <td>145</td>\n",
       "      <td>45</td>\n",
       "      <td>78.0</td>\n",
       "      <td>1.0</td>\n",
       "      <td>0.9</td>\n",
       "      <td>1.0</td>\n",
       "      <td>1.0</td>\n",
       "      <td>120.0</td>\n",
       "      <td>...</td>\n",
       "      <td>60.0</td>\n",
       "      <td>128.0</td>\n",
       "      <td>13.5</td>\n",
       "      <td>1.0</td>\n",
       "      <td>0.6</td>\n",
       "      <td>18.0</td>\n",
       "      <td>11.0</td>\n",
       "      <td>14.0</td>\n",
       "      <td>1.0</td>\n",
       "      <td>0</td>\n",
       "    </tr>\n",
       "    <tr>\n",
       "      <th>50995</th>\n",
       "      <td>0</td>\n",
       "      <td>40</td>\n",
       "      <td>160</td>\n",
       "      <td>60</td>\n",
       "      <td>62.0</td>\n",
       "      <td>1.0</td>\n",
       "      <td>0.9</td>\n",
       "      <td>1.0</td>\n",
       "      <td>1.0</td>\n",
       "      <td>124.0</td>\n",
       "      <td>...</td>\n",
       "      <td>63.0</td>\n",
       "      <td>98.0</td>\n",
       "      <td>11.2</td>\n",
       "      <td>1.0</td>\n",
       "      <td>0.8</td>\n",
       "      <td>21.0</td>\n",
       "      <td>15.0</td>\n",
       "      <td>11.0</td>\n",
       "      <td>1.0</td>\n",
       "      <td>0</td>\n",
       "    </tr>\n",
       "  </tbody>\n",
       "</table>\n",
       "<p>5 rows × 24 columns</p>\n",
       "</div>"
      ],
      "text/plain": [
       "       gender  age  height(cm)  weight(kg)  waist(cm)  eyesight(left)  \\\n",
       "ID                                                                      \n",
       "31346       1   65         165          70       91.0             1.0   \n",
       "3876        0   60         160          55       69.0             1.0   \n",
       "3084        1   20         170          90       97.6             0.9   \n",
       "51633       0   55         145          45       78.0             1.0   \n",
       "50995       0   40         160          60       62.0             1.0   \n",
       "\n",
       "       eyesight(right)  hearing(left)  hearing(right)  systolic  ...   HDL  \\\n",
       "ID                                                               ...         \n",
       "31346              0.8            2.0             1.0     110.0  ...  37.0   \n",
       "3876               1.0            1.0             1.0     145.0  ...  55.0   \n",
       "3084               1.0            1.0             1.0     125.0  ...  52.0   \n",
       "51633              0.9            1.0             1.0     120.0  ...  60.0   \n",
       "50995              0.9            1.0             1.0     124.0  ...  63.0   \n",
       "\n",
       "         LDL  hemoglobin  Urine protein  serum creatinine   AST   ALT   Gtp  \\\n",
       "ID                                                                            \n",
       "31346  113.0        14.9            1.0               1.0  19.0  15.0  23.0   \n",
       "3876   161.0        13.5            1.0               0.7  24.0  14.0   8.0   \n",
       "3084   165.0        15.7            1.0               1.0  42.0  81.0  36.0   \n",
       "51633  128.0        13.5            1.0               0.6  18.0  11.0  14.0   \n",
       "50995   98.0        11.2            1.0               0.8  21.0  15.0  11.0   \n",
       "\n",
       "       dental caries  tartar  \n",
       "ID                            \n",
       "31346            0.0       0  \n",
       "3876             0.0       0  \n",
       "3084             0.0       1  \n",
       "51633            1.0       0  \n",
       "50995            1.0       0  \n",
       "\n",
       "[5 rows x 24 columns]"
      ]
     },
     "execution_count": 108,
     "metadata": {},
     "output_type": "execute_result"
    }
   ],
   "source": [
    "X_train.head()"
   ]
  },
  {
   "cell_type": "code",
   "execution_count": 14,
   "id": "8cd5e2a9",
   "metadata": {
    "ExecuteTime": {
     "end_time": "2022-07-18T12:05:38.051481Z",
     "start_time": "2022-07-18T12:05:38.031531Z"
    }
   },
   "outputs": [],
   "source": [
    "X_train.drop('oral', axis =1, inplace=True)"
   ]
  },
  {
   "cell_type": "code",
   "execution_count": 15,
   "id": "716d764b",
   "metadata": {
    "ExecuteTime": {
     "end_time": "2022-07-18T12:05:39.192265Z",
     "start_time": "2022-07-18T12:05:39.166343Z"
    }
   },
   "outputs": [],
   "source": [
    "X_test.drop('oral', axis =1, inplace=True)\n",
    "X_val.drop('oral', axis =1, inplace=True)"
   ]
  },
  {
   "cell_type": "code",
   "execution_count": 110,
   "id": "3fa76c4f",
   "metadata": {
    "ExecuteTime": {
     "end_time": "2022-07-18T11:49:20.630129Z",
     "start_time": "2022-07-18T11:49:20.577270Z"
    }
   },
   "outputs": [],
   "source": [
    "from sklearn.preprocessing import StandardScaler\n",
    "\n",
    "scaler = StandardScaler()\n",
    "X_train_scaled = scaler.fit_transform(X_train)\n",
    "X_test_scaled = scaler.transform(X_test)"
   ]
  },
  {
   "cell_type": "code",
   "execution_count": 116,
   "id": "0e7083d3",
   "metadata": {
    "ExecuteTime": {
     "end_time": "2022-07-18T11:51:28.908084Z",
     "start_time": "2022-07-18T11:51:28.897112Z"
    }
   },
   "outputs": [],
   "source": [
    "param = {\n",
    "    'C':[0.001,0.005, 0.01,0.05, 0.1,0.5, 1],\n",
    "    'max_iter':[50, 100, 150, 200]\n",
    "}\n",
    "gs = GridSearchCV(LogisticRegression(random_state=0), \n",
    "                  param,\n",
    "                  cv=5, \n",
    "                  scoring='accuracy', \n",
    "                  n_jobs=-1)"
   ]
  },
  {
   "cell_type": "code",
   "execution_count": 117,
   "id": "2650b628",
   "metadata": {
    "ExecuteTime": {
     "end_time": "2022-07-18T11:51:37.691656Z",
     "start_time": "2022-07-18T11:51:31.079865Z"
    }
   },
   "outputs": [
    {
     "name": "stderr",
     "output_type": "stream",
     "text": [
      "C:\\Users\\Playdata\\anaconda3\\envs\\tf\\lib\\site-packages\\sklearn\\utils\\validation.py:1111: DataConversionWarning: A column-vector y was passed when a 1d array was expected. Please change the shape of y to (n_samples, ), for example using ravel().\n",
      "  y = column_or_1d(y, warn=True)\n"
     ]
    },
    {
     "data": {
      "text/html": [
       "<style>#sk-container-id-12 {color: black;background-color: white;}#sk-container-id-12 pre{padding: 0;}#sk-container-id-12 div.sk-toggleable {background-color: white;}#sk-container-id-12 label.sk-toggleable__label {cursor: pointer;display: block;width: 100%;margin-bottom: 0;padding: 0.3em;box-sizing: border-box;text-align: center;}#sk-container-id-12 label.sk-toggleable__label-arrow:before {content: \"▸\";float: left;margin-right: 0.25em;color: #696969;}#sk-container-id-12 label.sk-toggleable__label-arrow:hover:before {color: black;}#sk-container-id-12 div.sk-estimator:hover label.sk-toggleable__label-arrow:before {color: black;}#sk-container-id-12 div.sk-toggleable__content {max-height: 0;max-width: 0;overflow: hidden;text-align: left;background-color: #f0f8ff;}#sk-container-id-12 div.sk-toggleable__content pre {margin: 0.2em;color: black;border-radius: 0.25em;background-color: #f0f8ff;}#sk-container-id-12 input.sk-toggleable__control:checked~div.sk-toggleable__content {max-height: 200px;max-width: 100%;overflow: auto;}#sk-container-id-12 input.sk-toggleable__control:checked~label.sk-toggleable__label-arrow:before {content: \"▾\";}#sk-container-id-12 div.sk-estimator input.sk-toggleable__control:checked~label.sk-toggleable__label {background-color: #d4ebff;}#sk-container-id-12 div.sk-label input.sk-toggleable__control:checked~label.sk-toggleable__label {background-color: #d4ebff;}#sk-container-id-12 input.sk-hidden--visually {border: 0;clip: rect(1px 1px 1px 1px);clip: rect(1px, 1px, 1px, 1px);height: 1px;margin: -1px;overflow: hidden;padding: 0;position: absolute;width: 1px;}#sk-container-id-12 div.sk-estimator {font-family: monospace;background-color: #f0f8ff;border: 1px dotted black;border-radius: 0.25em;box-sizing: border-box;margin-bottom: 0.5em;}#sk-container-id-12 div.sk-estimator:hover {background-color: #d4ebff;}#sk-container-id-12 div.sk-parallel-item::after {content: \"\";width: 100%;border-bottom: 1px solid gray;flex-grow: 1;}#sk-container-id-12 div.sk-label:hover label.sk-toggleable__label {background-color: #d4ebff;}#sk-container-id-12 div.sk-serial::before {content: \"\";position: absolute;border-left: 1px solid gray;box-sizing: border-box;top: 0;bottom: 0;left: 50%;z-index: 0;}#sk-container-id-12 div.sk-serial {display: flex;flex-direction: column;align-items: center;background-color: white;padding-right: 0.2em;padding-left: 0.2em;position: relative;}#sk-container-id-12 div.sk-item {position: relative;z-index: 1;}#sk-container-id-12 div.sk-parallel {display: flex;align-items: stretch;justify-content: center;background-color: white;position: relative;}#sk-container-id-12 div.sk-item::before, #sk-container-id-12 div.sk-parallel-item::before {content: \"\";position: absolute;border-left: 1px solid gray;box-sizing: border-box;top: 0;bottom: 0;left: 50%;z-index: -1;}#sk-container-id-12 div.sk-parallel-item {display: flex;flex-direction: column;z-index: 1;position: relative;background-color: white;}#sk-container-id-12 div.sk-parallel-item:first-child::after {align-self: flex-end;width: 50%;}#sk-container-id-12 div.sk-parallel-item:last-child::after {align-self: flex-start;width: 50%;}#sk-container-id-12 div.sk-parallel-item:only-child::after {width: 0;}#sk-container-id-12 div.sk-dashed-wrapped {border: 1px dashed gray;margin: 0 0.4em 0.5em 0.4em;box-sizing: border-box;padding-bottom: 0.4em;background-color: white;}#sk-container-id-12 div.sk-label label {font-family: monospace;font-weight: bold;display: inline-block;line-height: 1.2em;}#sk-container-id-12 div.sk-label-container {text-align: center;}#sk-container-id-12 div.sk-container {/* jupyter's `normalize.less` sets `[hidden] { display: none; }` but bootstrap.min.css set `[hidden] { display: none !important; }` so we also need the `!important` here to be able to override the default hidden behavior on the sphinx rendered scikit-learn.org. See: https://github.com/scikit-learn/scikit-learn/issues/21755 */display: inline-block !important;position: relative;}#sk-container-id-12 div.sk-text-repr-fallback {display: none;}</style><div id=\"sk-container-id-12\" class=\"sk-top-container\"><div class=\"sk-text-repr-fallback\"><pre>GridSearchCV(cv=5, estimator=LogisticRegression(random_state=0), n_jobs=-1,\n",
       "             param_grid={&#x27;C&#x27;: [0.001, 0.005, 0.01, 0.05, 0.1, 0.5, 1],\n",
       "                         &#x27;max_iter&#x27;: [50, 100, 150, 200]},\n",
       "             scoring=&#x27;accuracy&#x27;)</pre><b>In a Jupyter environment, please rerun this cell to show the HTML representation or trust the notebook. <br />On GitHub, the HTML representation is unable to render, please try loading this page with nbviewer.org.</b></div><div class=\"sk-container\" hidden><div class=\"sk-item sk-dashed-wrapped\"><div class=\"sk-label-container\"><div class=\"sk-label sk-toggleable\"><input class=\"sk-toggleable__control sk-hidden--visually\" id=\"sk-estimator-id-20\" type=\"checkbox\" ><label for=\"sk-estimator-id-20\" class=\"sk-toggleable__label sk-toggleable__label-arrow\">GridSearchCV</label><div class=\"sk-toggleable__content\"><pre>GridSearchCV(cv=5, estimator=LogisticRegression(random_state=0), n_jobs=-1,\n",
       "             param_grid={&#x27;C&#x27;: [0.001, 0.005, 0.01, 0.05, 0.1, 0.5, 1],\n",
       "                         &#x27;max_iter&#x27;: [50, 100, 150, 200]},\n",
       "             scoring=&#x27;accuracy&#x27;)</pre></div></div></div><div class=\"sk-parallel\"><div class=\"sk-parallel-item\"><div class=\"sk-item\"><div class=\"sk-label-container\"><div class=\"sk-label sk-toggleable\"><input class=\"sk-toggleable__control sk-hidden--visually\" id=\"sk-estimator-id-21\" type=\"checkbox\" ><label for=\"sk-estimator-id-21\" class=\"sk-toggleable__label sk-toggleable__label-arrow\">estimator: LogisticRegression</label><div class=\"sk-toggleable__content\"><pre>LogisticRegression(random_state=0)</pre></div></div></div><div class=\"sk-serial\"><div class=\"sk-item\"><div class=\"sk-estimator sk-toggleable\"><input class=\"sk-toggleable__control sk-hidden--visually\" id=\"sk-estimator-id-22\" type=\"checkbox\" ><label for=\"sk-estimator-id-22\" class=\"sk-toggleable__label sk-toggleable__label-arrow\">LogisticRegression</label><div class=\"sk-toggleable__content\"><pre>LogisticRegression(random_state=0)</pre></div></div></div></div></div></div></div></div></div></div>"
      ],
      "text/plain": [
       "GridSearchCV(cv=5, estimator=LogisticRegression(random_state=0), n_jobs=-1,\n",
       "             param_grid={'C': [0.001, 0.005, 0.01, 0.05, 0.1, 0.5, 1],\n",
       "                         'max_iter': [50, 100, 150, 200]},\n",
       "             scoring='accuracy')"
      ]
     },
     "execution_count": 117,
     "metadata": {},
     "output_type": "execute_result"
    }
   ],
   "source": [
    "gs.fit(X_train_scaled, y_train)"
   ]
  },
  {
   "cell_type": "code",
   "execution_count": 92,
   "id": "6a4df88d",
   "metadata": {
    "ExecuteTime": {
     "end_time": "2022-07-18T11:40:31.642444Z",
     "start_time": "2022-07-18T11:40:31.626522Z"
    }
   },
   "outputs": [
    {
     "data": {
      "text/plain": [
       "0.7308314444038924"
      ]
     },
     "execution_count": 92,
     "metadata": {},
     "output_type": "execute_result"
    }
   ],
   "source": [
    "# train 1\n",
    "gs.best_score_"
   ]
  },
  {
   "cell_type": "code",
   "execution_count": 118,
   "id": "020143e7",
   "metadata": {
    "ExecuteTime": {
     "end_time": "2022-07-18T11:51:43.394269Z",
     "start_time": "2022-07-18T11:51:43.385294Z"
    }
   },
   "outputs": [
    {
     "data": {
      "text/plain": [
       "0.7450768260682609"
      ]
     },
     "execution_count": 118,
     "metadata": {},
     "output_type": "execute_result"
    }
   ],
   "source": [
    "# full Train\n",
    "gs.best_score_"
   ]
  },
  {
   "cell_type": "markdown",
   "id": "9e3bd84f",
   "metadata": {},
   "source": [
    "## Random"
   ]
  },
  {
   "cell_type": "code",
   "execution_count": 13,
   "id": "84a79333",
   "metadata": {
    "ExecuteTime": {
     "end_time": "2022-07-19T09:40:20.627793Z",
     "start_time": "2022-07-19T09:40:20.401898Z"
    }
   },
   "outputs": [],
   "source": [
    "from sklearn.ensemble import RandomForestClassifier\n",
    "from sklearn.model_selection import train_test_split, GridSearchCV, RandomizedSearchCV\n",
    "from sklearn.metrics import accuracy_score, recall_score\n",
    "from metrics import  print_classification_metrics"
   ]
  },
  {
   "cell_type": "code",
   "execution_count": 14,
   "id": "1d105e30",
   "metadata": {
    "ExecuteTime": {
     "end_time": "2022-07-19T09:42:04.315763Z",
     "start_time": "2022-07-19T09:42:04.297811Z"
    }
   },
   "outputs": [],
   "source": [
    "params = {\n",
    "    \"n_estimators\":range(100,601,100), # 100 ~ 1000 100\n",
    "    'max_depth':range(1,11),\n",
    "    'max_features':range(1, 25, 3) \n",
    "} # 나머지 하이퍼 파라미터는 default\n",
    "\n",
    "rf_grid_search = GridSearchCV(RandomForestClassifier(random_state=0), #모델\n",
    "                           param_grid=params, #하이퍼 파라미터\n",
    "                           scoring='accuracy', #평가지표\n",
    "                           cv=5,               # cross validation 의 fold 개수\n",
    "                           n_jobs=8)"
   ]
  },
  {
   "cell_type": "code",
   "execution_count": 15,
   "id": "2827df69",
   "metadata": {
    "ExecuteTime": {
     "end_time": "2022-07-19T10:46:53.426061Z",
     "start_time": "2022-07-19T09:42:18.242371Z"
    }
   },
   "outputs": [
    {
     "ename": "KeyboardInterrupt",
     "evalue": "",
     "output_type": "error",
     "traceback": [
      "\u001b[1;31m---------------------------------------------------------------------------\u001b[0m",
      "\u001b[1;31mKeyboardInterrupt\u001b[0m                         Traceback (most recent call last)",
      "Input \u001b[1;32mIn [15]\u001b[0m, in \u001b[0;36m<cell line: 1>\u001b[1;34m()\u001b[0m\n\u001b[1;32m----> 1\u001b[0m \u001b[43mrf_grid_search\u001b[49m\u001b[38;5;241;43m.\u001b[39;49m\u001b[43mfit\u001b[49m\u001b[43m(\u001b[49m\u001b[43mX_train\u001b[49m\u001b[43m,\u001b[49m\u001b[43m \u001b[49m\u001b[43my_train\u001b[49m\u001b[43m)\u001b[49m\n",
      "File \u001b[1;32m~\\anaconda3\\envs\\tf\\lib\\site-packages\\sklearn\\model_selection\\_search.py:875\u001b[0m, in \u001b[0;36mBaseSearchCV.fit\u001b[1;34m(self, X, y, groups, **fit_params)\u001b[0m\n\u001b[0;32m    869\u001b[0m     results \u001b[38;5;241m=\u001b[39m \u001b[38;5;28mself\u001b[39m\u001b[38;5;241m.\u001b[39m_format_results(\n\u001b[0;32m    870\u001b[0m         all_candidate_params, n_splits, all_out, all_more_results\n\u001b[0;32m    871\u001b[0m     )\n\u001b[0;32m    873\u001b[0m     \u001b[38;5;28;01mreturn\u001b[39;00m results\n\u001b[1;32m--> 875\u001b[0m \u001b[38;5;28;43mself\u001b[39;49m\u001b[38;5;241;43m.\u001b[39;49m\u001b[43m_run_search\u001b[49m\u001b[43m(\u001b[49m\u001b[43mevaluate_candidates\u001b[49m\u001b[43m)\u001b[49m\n\u001b[0;32m    877\u001b[0m \u001b[38;5;66;03m# multimetric is determined here because in the case of a callable\u001b[39;00m\n\u001b[0;32m    878\u001b[0m \u001b[38;5;66;03m# self.scoring the return type is only known after calling\u001b[39;00m\n\u001b[0;32m    879\u001b[0m first_test_score \u001b[38;5;241m=\u001b[39m all_out[\u001b[38;5;241m0\u001b[39m][\u001b[38;5;124m\"\u001b[39m\u001b[38;5;124mtest_scores\u001b[39m\u001b[38;5;124m\"\u001b[39m]\n",
      "File \u001b[1;32m~\\anaconda3\\envs\\tf\\lib\\site-packages\\sklearn\\model_selection\\_search.py:1375\u001b[0m, in \u001b[0;36mGridSearchCV._run_search\u001b[1;34m(self, evaluate_candidates)\u001b[0m\n\u001b[0;32m   1373\u001b[0m \u001b[38;5;28;01mdef\u001b[39;00m \u001b[38;5;21m_run_search\u001b[39m(\u001b[38;5;28mself\u001b[39m, evaluate_candidates):\n\u001b[0;32m   1374\u001b[0m     \u001b[38;5;124;03m\"\"\"Search all candidates in param_grid\"\"\"\u001b[39;00m\n\u001b[1;32m-> 1375\u001b[0m     \u001b[43mevaluate_candidates\u001b[49m\u001b[43m(\u001b[49m\u001b[43mParameterGrid\u001b[49m\u001b[43m(\u001b[49m\u001b[38;5;28;43mself\u001b[39;49m\u001b[38;5;241;43m.\u001b[39;49m\u001b[43mparam_grid\u001b[49m\u001b[43m)\u001b[49m\u001b[43m)\u001b[49m\n",
      "File \u001b[1;32m~\\anaconda3\\envs\\tf\\lib\\site-packages\\sklearn\\model_selection\\_search.py:822\u001b[0m, in \u001b[0;36mBaseSearchCV.fit.<locals>.evaluate_candidates\u001b[1;34m(candidate_params, cv, more_results)\u001b[0m\n\u001b[0;32m    814\u001b[0m \u001b[38;5;28;01mif\u001b[39;00m \u001b[38;5;28mself\u001b[39m\u001b[38;5;241m.\u001b[39mverbose \u001b[38;5;241m>\u001b[39m \u001b[38;5;241m0\u001b[39m:\n\u001b[0;32m    815\u001b[0m     \u001b[38;5;28mprint\u001b[39m(\n\u001b[0;32m    816\u001b[0m         \u001b[38;5;124m\"\u001b[39m\u001b[38;5;124mFitting \u001b[39m\u001b[38;5;132;01m{0}\u001b[39;00m\u001b[38;5;124m folds for each of \u001b[39m\u001b[38;5;132;01m{1}\u001b[39;00m\u001b[38;5;124m candidates,\u001b[39m\u001b[38;5;124m\"\u001b[39m\n\u001b[0;32m    817\u001b[0m         \u001b[38;5;124m\"\u001b[39m\u001b[38;5;124m totalling \u001b[39m\u001b[38;5;132;01m{2}\u001b[39;00m\u001b[38;5;124m fits\u001b[39m\u001b[38;5;124m\"\u001b[39m\u001b[38;5;241m.\u001b[39mformat(\n\u001b[0;32m    818\u001b[0m             n_splits, n_candidates, n_candidates \u001b[38;5;241m*\u001b[39m n_splits\n\u001b[0;32m    819\u001b[0m         )\n\u001b[0;32m    820\u001b[0m     )\n\u001b[1;32m--> 822\u001b[0m out \u001b[38;5;241m=\u001b[39m \u001b[43mparallel\u001b[49m\u001b[43m(\u001b[49m\n\u001b[0;32m    823\u001b[0m \u001b[43m    \u001b[49m\u001b[43mdelayed\u001b[49m\u001b[43m(\u001b[49m\u001b[43m_fit_and_score\u001b[49m\u001b[43m)\u001b[49m\u001b[43m(\u001b[49m\n\u001b[0;32m    824\u001b[0m \u001b[43m        \u001b[49m\u001b[43mclone\u001b[49m\u001b[43m(\u001b[49m\u001b[43mbase_estimator\u001b[49m\u001b[43m)\u001b[49m\u001b[43m,\u001b[49m\n\u001b[0;32m    825\u001b[0m \u001b[43m        \u001b[49m\u001b[43mX\u001b[49m\u001b[43m,\u001b[49m\n\u001b[0;32m    826\u001b[0m \u001b[43m        \u001b[49m\u001b[43my\u001b[49m\u001b[43m,\u001b[49m\n\u001b[0;32m    827\u001b[0m \u001b[43m        \u001b[49m\u001b[43mtrain\u001b[49m\u001b[38;5;241;43m=\u001b[39;49m\u001b[43mtrain\u001b[49m\u001b[43m,\u001b[49m\n\u001b[0;32m    828\u001b[0m \u001b[43m        \u001b[49m\u001b[43mtest\u001b[49m\u001b[38;5;241;43m=\u001b[39;49m\u001b[43mtest\u001b[49m\u001b[43m,\u001b[49m\n\u001b[0;32m    829\u001b[0m \u001b[43m        \u001b[49m\u001b[43mparameters\u001b[49m\u001b[38;5;241;43m=\u001b[39;49m\u001b[43mparameters\u001b[49m\u001b[43m,\u001b[49m\n\u001b[0;32m    830\u001b[0m \u001b[43m        \u001b[49m\u001b[43msplit_progress\u001b[49m\u001b[38;5;241;43m=\u001b[39;49m\u001b[43m(\u001b[49m\u001b[43msplit_idx\u001b[49m\u001b[43m,\u001b[49m\u001b[43m \u001b[49m\u001b[43mn_splits\u001b[49m\u001b[43m)\u001b[49m\u001b[43m,\u001b[49m\n\u001b[0;32m    831\u001b[0m \u001b[43m        \u001b[49m\u001b[43mcandidate_progress\u001b[49m\u001b[38;5;241;43m=\u001b[39;49m\u001b[43m(\u001b[49m\u001b[43mcand_idx\u001b[49m\u001b[43m,\u001b[49m\u001b[43m \u001b[49m\u001b[43mn_candidates\u001b[49m\u001b[43m)\u001b[49m\u001b[43m,\u001b[49m\n\u001b[0;32m    832\u001b[0m \u001b[43m        \u001b[49m\u001b[38;5;241;43m*\u001b[39;49m\u001b[38;5;241;43m*\u001b[39;49m\u001b[43mfit_and_score_kwargs\u001b[49m\u001b[43m,\u001b[49m\n\u001b[0;32m    833\u001b[0m \u001b[43m    \u001b[49m\u001b[43m)\u001b[49m\n\u001b[0;32m    834\u001b[0m \u001b[43m    \u001b[49m\u001b[38;5;28;43;01mfor\u001b[39;49;00m\u001b[43m \u001b[49m\u001b[43m(\u001b[49m\u001b[43mcand_idx\u001b[49m\u001b[43m,\u001b[49m\u001b[43m \u001b[49m\u001b[43mparameters\u001b[49m\u001b[43m)\u001b[49m\u001b[43m,\u001b[49m\u001b[43m \u001b[49m\u001b[43m(\u001b[49m\u001b[43msplit_idx\u001b[49m\u001b[43m,\u001b[49m\u001b[43m \u001b[49m\u001b[43m(\u001b[49m\u001b[43mtrain\u001b[49m\u001b[43m,\u001b[49m\u001b[43m \u001b[49m\u001b[43mtest\u001b[49m\u001b[43m)\u001b[49m\u001b[43m)\u001b[49m\u001b[43m \u001b[49m\u001b[38;5;129;43;01min\u001b[39;49;00m\u001b[43m \u001b[49m\u001b[43mproduct\u001b[49m\u001b[43m(\u001b[49m\n\u001b[0;32m    835\u001b[0m \u001b[43m        \u001b[49m\u001b[38;5;28;43menumerate\u001b[39;49m\u001b[43m(\u001b[49m\u001b[43mcandidate_params\u001b[49m\u001b[43m)\u001b[49m\u001b[43m,\u001b[49m\u001b[43m \u001b[49m\u001b[38;5;28;43menumerate\u001b[39;49m\u001b[43m(\u001b[49m\u001b[43mcv\u001b[49m\u001b[38;5;241;43m.\u001b[39;49m\u001b[43msplit\u001b[49m\u001b[43m(\u001b[49m\u001b[43mX\u001b[49m\u001b[43m,\u001b[49m\u001b[43m \u001b[49m\u001b[43my\u001b[49m\u001b[43m,\u001b[49m\u001b[43m \u001b[49m\u001b[43mgroups\u001b[49m\u001b[43m)\u001b[49m\u001b[43m)\u001b[49m\n\u001b[0;32m    836\u001b[0m \u001b[43m    \u001b[49m\u001b[43m)\u001b[49m\n\u001b[0;32m    837\u001b[0m \u001b[43m\u001b[49m\u001b[43m)\u001b[49m\n\u001b[0;32m    839\u001b[0m \u001b[38;5;28;01mif\u001b[39;00m \u001b[38;5;28mlen\u001b[39m(out) \u001b[38;5;241m<\u001b[39m \u001b[38;5;241m1\u001b[39m:\n\u001b[0;32m    840\u001b[0m     \u001b[38;5;28;01mraise\u001b[39;00m \u001b[38;5;167;01mValueError\u001b[39;00m(\n\u001b[0;32m    841\u001b[0m         \u001b[38;5;124m\"\u001b[39m\u001b[38;5;124mNo fits were performed. \u001b[39m\u001b[38;5;124m\"\u001b[39m\n\u001b[0;32m    842\u001b[0m         \u001b[38;5;124m\"\u001b[39m\u001b[38;5;124mWas the CV iterator empty? \u001b[39m\u001b[38;5;124m\"\u001b[39m\n\u001b[0;32m    843\u001b[0m         \u001b[38;5;124m\"\u001b[39m\u001b[38;5;124mWere there no candidates?\u001b[39m\u001b[38;5;124m\"\u001b[39m\n\u001b[0;32m    844\u001b[0m     )\n",
      "File \u001b[1;32m~\\anaconda3\\envs\\tf\\lib\\site-packages\\joblib\\parallel.py:1056\u001b[0m, in \u001b[0;36mParallel.__call__\u001b[1;34m(self, iterable)\u001b[0m\n\u001b[0;32m   1053\u001b[0m     \u001b[38;5;28mself\u001b[39m\u001b[38;5;241m.\u001b[39m_iterating \u001b[38;5;241m=\u001b[39m \u001b[38;5;28;01mFalse\u001b[39;00m\n\u001b[0;32m   1055\u001b[0m \u001b[38;5;28;01mwith\u001b[39;00m \u001b[38;5;28mself\u001b[39m\u001b[38;5;241m.\u001b[39m_backend\u001b[38;5;241m.\u001b[39mretrieval_context():\n\u001b[1;32m-> 1056\u001b[0m     \u001b[38;5;28;43mself\u001b[39;49m\u001b[38;5;241;43m.\u001b[39;49m\u001b[43mretrieve\u001b[49m\u001b[43m(\u001b[49m\u001b[43m)\u001b[49m\n\u001b[0;32m   1057\u001b[0m \u001b[38;5;66;03m# Make sure that we get a last message telling us we are done\u001b[39;00m\n\u001b[0;32m   1058\u001b[0m elapsed_time \u001b[38;5;241m=\u001b[39m time\u001b[38;5;241m.\u001b[39mtime() \u001b[38;5;241m-\u001b[39m \u001b[38;5;28mself\u001b[39m\u001b[38;5;241m.\u001b[39m_start_time\n",
      "File \u001b[1;32m~\\anaconda3\\envs\\tf\\lib\\site-packages\\joblib\\parallel.py:935\u001b[0m, in \u001b[0;36mParallel.retrieve\u001b[1;34m(self)\u001b[0m\n\u001b[0;32m    933\u001b[0m \u001b[38;5;28;01mtry\u001b[39;00m:\n\u001b[0;32m    934\u001b[0m     \u001b[38;5;28;01mif\u001b[39;00m \u001b[38;5;28mgetattr\u001b[39m(\u001b[38;5;28mself\u001b[39m\u001b[38;5;241m.\u001b[39m_backend, \u001b[38;5;124m'\u001b[39m\u001b[38;5;124msupports_timeout\u001b[39m\u001b[38;5;124m'\u001b[39m, \u001b[38;5;28;01mFalse\u001b[39;00m):\n\u001b[1;32m--> 935\u001b[0m         \u001b[38;5;28mself\u001b[39m\u001b[38;5;241m.\u001b[39m_output\u001b[38;5;241m.\u001b[39mextend(\u001b[43mjob\u001b[49m\u001b[38;5;241;43m.\u001b[39;49m\u001b[43mget\u001b[49m\u001b[43m(\u001b[49m\u001b[43mtimeout\u001b[49m\u001b[38;5;241;43m=\u001b[39;49m\u001b[38;5;28;43mself\u001b[39;49m\u001b[38;5;241;43m.\u001b[39;49m\u001b[43mtimeout\u001b[49m\u001b[43m)\u001b[49m)\n\u001b[0;32m    936\u001b[0m     \u001b[38;5;28;01melse\u001b[39;00m:\n\u001b[0;32m    937\u001b[0m         \u001b[38;5;28mself\u001b[39m\u001b[38;5;241m.\u001b[39m_output\u001b[38;5;241m.\u001b[39mextend(job\u001b[38;5;241m.\u001b[39mget())\n",
      "File \u001b[1;32m~\\anaconda3\\envs\\tf\\lib\\site-packages\\joblib\\_parallel_backends.py:542\u001b[0m, in \u001b[0;36mLokyBackend.wrap_future_result\u001b[1;34m(future, timeout)\u001b[0m\n\u001b[0;32m    539\u001b[0m \u001b[38;5;124;03m\"\"\"Wrapper for Future.result to implement the same behaviour as\u001b[39;00m\n\u001b[0;32m    540\u001b[0m \u001b[38;5;124;03mAsyncResults.get from multiprocessing.\"\"\"\u001b[39;00m\n\u001b[0;32m    541\u001b[0m \u001b[38;5;28;01mtry\u001b[39;00m:\n\u001b[1;32m--> 542\u001b[0m     \u001b[38;5;28;01mreturn\u001b[39;00m \u001b[43mfuture\u001b[49m\u001b[38;5;241;43m.\u001b[39;49m\u001b[43mresult\u001b[49m\u001b[43m(\u001b[49m\u001b[43mtimeout\u001b[49m\u001b[38;5;241;43m=\u001b[39;49m\u001b[43mtimeout\u001b[49m\u001b[43m)\u001b[49m\n\u001b[0;32m    543\u001b[0m \u001b[38;5;28;01mexcept\u001b[39;00m CfTimeoutError \u001b[38;5;28;01mas\u001b[39;00m e:\n\u001b[0;32m    544\u001b[0m     \u001b[38;5;28;01mraise\u001b[39;00m \u001b[38;5;167;01mTimeoutError\u001b[39;00m \u001b[38;5;28;01mfrom\u001b[39;00m \u001b[38;5;21;01me\u001b[39;00m\n",
      "File \u001b[1;32m~\\anaconda3\\envs\\tf\\lib\\concurrent\\futures\\_base.py:441\u001b[0m, in \u001b[0;36mFuture.result\u001b[1;34m(self, timeout)\u001b[0m\n\u001b[0;32m    438\u001b[0m \u001b[38;5;28;01melif\u001b[39;00m \u001b[38;5;28mself\u001b[39m\u001b[38;5;241m.\u001b[39m_state \u001b[38;5;241m==\u001b[39m FINISHED:\n\u001b[0;32m    439\u001b[0m     \u001b[38;5;28;01mreturn\u001b[39;00m \u001b[38;5;28mself\u001b[39m\u001b[38;5;241m.\u001b[39m__get_result()\n\u001b[1;32m--> 441\u001b[0m \u001b[38;5;28;43mself\u001b[39;49m\u001b[38;5;241;43m.\u001b[39;49m\u001b[43m_condition\u001b[49m\u001b[38;5;241;43m.\u001b[39;49m\u001b[43mwait\u001b[49m\u001b[43m(\u001b[49m\u001b[43mtimeout\u001b[49m\u001b[43m)\u001b[49m\n\u001b[0;32m    443\u001b[0m \u001b[38;5;28;01mif\u001b[39;00m \u001b[38;5;28mself\u001b[39m\u001b[38;5;241m.\u001b[39m_state \u001b[38;5;129;01min\u001b[39;00m [CANCELLED, CANCELLED_AND_NOTIFIED]:\n\u001b[0;32m    444\u001b[0m     \u001b[38;5;28;01mraise\u001b[39;00m CancelledError()\n",
      "File \u001b[1;32m~\\anaconda3\\envs\\tf\\lib\\threading.py:312\u001b[0m, in \u001b[0;36mCondition.wait\u001b[1;34m(self, timeout)\u001b[0m\n\u001b[0;32m    310\u001b[0m \u001b[38;5;28;01mtry\u001b[39;00m:    \u001b[38;5;66;03m# restore state no matter what (e.g., KeyboardInterrupt)\u001b[39;00m\n\u001b[0;32m    311\u001b[0m     \u001b[38;5;28;01mif\u001b[39;00m timeout \u001b[38;5;129;01mis\u001b[39;00m \u001b[38;5;28;01mNone\u001b[39;00m:\n\u001b[1;32m--> 312\u001b[0m         \u001b[43mwaiter\u001b[49m\u001b[38;5;241;43m.\u001b[39;49m\u001b[43macquire\u001b[49m\u001b[43m(\u001b[49m\u001b[43m)\u001b[49m\n\u001b[0;32m    313\u001b[0m         gotit \u001b[38;5;241m=\u001b[39m \u001b[38;5;28;01mTrue\u001b[39;00m\n\u001b[0;32m    314\u001b[0m     \u001b[38;5;28;01melse\u001b[39;00m:\n",
      "\u001b[1;31mKeyboardInterrupt\u001b[0m: "
     ]
    }
   ],
   "source": [
    "rf_grid_search.fit(X_train, y_train)"
   ]
  },
  {
   "cell_type": "code",
   "execution_count": null,
   "id": "2229bbe9",
   "metadata": {},
   "outputs": [],
   "source": []
  },
  {
   "cell_type": "code",
   "execution_count": null,
   "id": "9027bd91",
   "metadata": {},
   "outputs": [],
   "source": []
  },
  {
   "cell_type": "code",
   "execution_count": null,
   "id": "cb21aea0",
   "metadata": {},
   "outputs": [],
   "source": [
    "print_classification_metrics(y, pred, title=None)"
   ]
  },
  {
   "cell_type": "code",
   "execution_count": null,
   "id": "aa2144bd",
   "metadata": {},
   "outputs": [],
   "source": [
    "def display_roc_curve(y, pred_proba, title=None):\n",
    "    \"\"\"\n",
    "    ROC 커브를 시각화하는 함수\n",
    "    [parameter]\n",
    "        y: ndarray - 정답\n",
    "        pred_proba: ndarray - 모델이 예측한 Positive확률\n",
    "        title: str - 제목\n",
    "    \"\"\"\n",
    "    print('='*50)\n",
    "    print('roc-auc score')\n",
    "    print('='*50)\n",
    "    roc_auc = roc_auc_score(y,pred_proba)\n",
    "    print(roc_auc)\n",
    "    print('='*50)\n",
    "    fpr, tpr, _ = roc_curve(y, pred_proba)\n",
    "    disp = RocCurveDisplay(fpr=fpr, tpr=tpr, roc_auc=roc_auc)\n",
    "    disp.plot()\n",
    "    \n",
    "    if title:\n",
    "        plt.title(\n",
    "display_roc_curve(y_val, proba_val_rf1, title='rf모델 val_roc curve')"
   ]
  },
  {
   "cell_type": "markdown",
   "id": "93a18e6d",
   "metadata": {},
   "source": [
    "## scale GridSearch DecisionTree"
   ]
  },
  {
   "cell_type": "code",
   "execution_count": 64,
   "id": "edffa25e",
   "metadata": {},
   "outputs": [],
   "source": [
    "# recall을 scoring으로 잡았을 경우\n",
    "from sklearn.model_selection import GridSearchCV\n",
    "from sklearn.tree import DecisionTreeClassifier\n",
    "\n",
    "tree = DecisionTreeClassifier(random_state=0)\n",
    "# 파라미터 후보 = 딕셔너리: key - 하이퍼파라미터 이름, value - 후보리스트\n",
    "param_grid = {'max_depth':range(1,20),\n",
    "              'max_leaf_nodes':range(2,14,2)\n",
    "             } # 나머지 하이퍼 파라미터는 default\n",
    "\n",
    "grid_search = GridSearchCV(tree, #모델\n",
    "                           param_grid=param_grid, #하이퍼 파라미터\n",
    "                           scoring='accuracy', #평가지표\n",
    "                           cv=5,               # cross validation 의 fold 개수\n",
    "                           n_jobs=-1) # 사용할 cpu 개수 -1은 모든 cpu  프로세스 다 사용"
   ]
  },
  {
   "cell_type": "code",
   "execution_count": 65,
   "id": "65bcc7bc",
   "metadata": {},
   "outputs": [
    {
     "data": {
      "text/html": [
       "<style>#sk-container-id-12 {color: black;background-color: white;}#sk-container-id-12 pre{padding: 0;}#sk-container-id-12 div.sk-toggleable {background-color: white;}#sk-container-id-12 label.sk-toggleable__label {cursor: pointer;display: block;width: 100%;margin-bottom: 0;padding: 0.3em;box-sizing: border-box;text-align: center;}#sk-container-id-12 label.sk-toggleable__label-arrow:before {content: \"▸\";float: left;margin-right: 0.25em;color: #696969;}#sk-container-id-12 label.sk-toggleable__label-arrow:hover:before {color: black;}#sk-container-id-12 div.sk-estimator:hover label.sk-toggleable__label-arrow:before {color: black;}#sk-container-id-12 div.sk-toggleable__content {max-height: 0;max-width: 0;overflow: hidden;text-align: left;background-color: #f0f8ff;}#sk-container-id-12 div.sk-toggleable__content pre {margin: 0.2em;color: black;border-radius: 0.25em;background-color: #f0f8ff;}#sk-container-id-12 input.sk-toggleable__control:checked~div.sk-toggleable__content {max-height: 200px;max-width: 100%;overflow: auto;}#sk-container-id-12 input.sk-toggleable__control:checked~label.sk-toggleable__label-arrow:before {content: \"▾\";}#sk-container-id-12 div.sk-estimator input.sk-toggleable__control:checked~label.sk-toggleable__label {background-color: #d4ebff;}#sk-container-id-12 div.sk-label input.sk-toggleable__control:checked~label.sk-toggleable__label {background-color: #d4ebff;}#sk-container-id-12 input.sk-hidden--visually {border: 0;clip: rect(1px 1px 1px 1px);clip: rect(1px, 1px, 1px, 1px);height: 1px;margin: -1px;overflow: hidden;padding: 0;position: absolute;width: 1px;}#sk-container-id-12 div.sk-estimator {font-family: monospace;background-color: #f0f8ff;border: 1px dotted black;border-radius: 0.25em;box-sizing: border-box;margin-bottom: 0.5em;}#sk-container-id-12 div.sk-estimator:hover {background-color: #d4ebff;}#sk-container-id-12 div.sk-parallel-item::after {content: \"\";width: 100%;border-bottom: 1px solid gray;flex-grow: 1;}#sk-container-id-12 div.sk-label:hover label.sk-toggleable__label {background-color: #d4ebff;}#sk-container-id-12 div.sk-serial::before {content: \"\";position: absolute;border-left: 1px solid gray;box-sizing: border-box;top: 0;bottom: 0;left: 50%;z-index: 0;}#sk-container-id-12 div.sk-serial {display: flex;flex-direction: column;align-items: center;background-color: white;padding-right: 0.2em;padding-left: 0.2em;position: relative;}#sk-container-id-12 div.sk-item {position: relative;z-index: 1;}#sk-container-id-12 div.sk-parallel {display: flex;align-items: stretch;justify-content: center;background-color: white;position: relative;}#sk-container-id-12 div.sk-item::before, #sk-container-id-12 div.sk-parallel-item::before {content: \"\";position: absolute;border-left: 1px solid gray;box-sizing: border-box;top: 0;bottom: 0;left: 50%;z-index: -1;}#sk-container-id-12 div.sk-parallel-item {display: flex;flex-direction: column;z-index: 1;position: relative;background-color: white;}#sk-container-id-12 div.sk-parallel-item:first-child::after {align-self: flex-end;width: 50%;}#sk-container-id-12 div.sk-parallel-item:last-child::after {align-self: flex-start;width: 50%;}#sk-container-id-12 div.sk-parallel-item:only-child::after {width: 0;}#sk-container-id-12 div.sk-dashed-wrapped {border: 1px dashed gray;margin: 0 0.4em 0.5em 0.4em;box-sizing: border-box;padding-bottom: 0.4em;background-color: white;}#sk-container-id-12 div.sk-label label {font-family: monospace;font-weight: bold;display: inline-block;line-height: 1.2em;}#sk-container-id-12 div.sk-label-container {text-align: center;}#sk-container-id-12 div.sk-container {/* jupyter's `normalize.less` sets `[hidden] { display: none; }` but bootstrap.min.css set `[hidden] { display: none !important; }` so we also need the `!important` here to be able to override the default hidden behavior on the sphinx rendered scikit-learn.org. See: https://github.com/scikit-learn/scikit-learn/issues/21755 */display: inline-block !important;position: relative;}#sk-container-id-12 div.sk-text-repr-fallback {display: none;}</style><div id=\"sk-container-id-12\" class=\"sk-top-container\"><div class=\"sk-text-repr-fallback\"><pre>GridSearchCV(cv=5, estimator=DecisionTreeClassifier(random_state=0), n_jobs=-1,\n",
       "             param_grid={&#x27;max_depth&#x27;: range(1, 20),\n",
       "                         &#x27;max_leaf_nodes&#x27;: range(2, 14, 2)},\n",
       "             scoring=&#x27;accuracy&#x27;)</pre><b>In a Jupyter environment, please rerun this cell to show the HTML representation or trust the notebook. <br />On GitHub, the HTML representation is unable to render, please try loading this page with nbviewer.org.</b></div><div class=\"sk-container\" hidden><div class=\"sk-item sk-dashed-wrapped\"><div class=\"sk-label-container\"><div class=\"sk-label sk-toggleable\"><input class=\"sk-toggleable__control sk-hidden--visually\" id=\"sk-estimator-id-24\" type=\"checkbox\" ><label for=\"sk-estimator-id-24\" class=\"sk-toggleable__label sk-toggleable__label-arrow\">GridSearchCV</label><div class=\"sk-toggleable__content\"><pre>GridSearchCV(cv=5, estimator=DecisionTreeClassifier(random_state=0), n_jobs=-1,\n",
       "             param_grid={&#x27;max_depth&#x27;: range(1, 20),\n",
       "                         &#x27;max_leaf_nodes&#x27;: range(2, 14, 2)},\n",
       "             scoring=&#x27;accuracy&#x27;)</pre></div></div></div><div class=\"sk-parallel\"><div class=\"sk-parallel-item\"><div class=\"sk-item\"><div class=\"sk-label-container\"><div class=\"sk-label sk-toggleable\"><input class=\"sk-toggleable__control sk-hidden--visually\" id=\"sk-estimator-id-25\" type=\"checkbox\" ><label for=\"sk-estimator-id-25\" class=\"sk-toggleable__label sk-toggleable__label-arrow\">estimator: DecisionTreeClassifier</label><div class=\"sk-toggleable__content\"><pre>DecisionTreeClassifier(random_state=0)</pre></div></div></div><div class=\"sk-serial\"><div class=\"sk-item\"><div class=\"sk-estimator sk-toggleable\"><input class=\"sk-toggleable__control sk-hidden--visually\" id=\"sk-estimator-id-26\" type=\"checkbox\" ><label for=\"sk-estimator-id-26\" class=\"sk-toggleable__label sk-toggleable__label-arrow\">DecisionTreeClassifier</label><div class=\"sk-toggleable__content\"><pre>DecisionTreeClassifier(random_state=0)</pre></div></div></div></div></div></div></div></div></div></div>"
      ],
      "text/plain": [
       "GridSearchCV(cv=5, estimator=DecisionTreeClassifier(random_state=0), n_jobs=-1,\n",
       "             param_grid={'max_depth': range(1, 20),\n",
       "                         'max_leaf_nodes': range(2, 14, 2)},\n",
       "             scoring='accuracy')"
      ]
     },
     "execution_count": 65,
     "metadata": {},
     "output_type": "execute_result"
    }
   ],
   "source": [
    "grid_search.fit(X_train_scaled1, y_train)"
   ]
  },
  {
   "cell_type": "code",
   "execution_count": 66,
   "id": "32cc9408",
   "metadata": {},
   "outputs": [
    {
     "data": {
      "text/plain": [
       "0.7383432514911947"
      ]
     },
     "execution_count": 66,
     "metadata": {},
     "output_type": "execute_result"
    }
   ],
   "source": [
    "grid_search.best_score_"
   ]
  },
  {
   "cell_type": "code",
   "execution_count": 67,
   "id": "cd6c989d",
   "metadata": {},
   "outputs": [
    {
     "data": {
      "text/plain": [
       "{'max_depth': 7, 'max_leaf_nodes': 12}"
      ]
     },
     "execution_count": 67,
     "metadata": {},
     "output_type": "execute_result"
    }
   ],
   "source": [
    "grid_search.best_params_"
   ]
  },
  {
   "cell_type": "code",
   "execution_count": 68,
   "id": "08ea2345",
   "metadata": {},
   "outputs": [
    {
     "data": {
      "text/html": [
       "<style>#sk-container-id-13 {color: black;background-color: white;}#sk-container-id-13 pre{padding: 0;}#sk-container-id-13 div.sk-toggleable {background-color: white;}#sk-container-id-13 label.sk-toggleable__label {cursor: pointer;display: block;width: 100%;margin-bottom: 0;padding: 0.3em;box-sizing: border-box;text-align: center;}#sk-container-id-13 label.sk-toggleable__label-arrow:before {content: \"▸\";float: left;margin-right: 0.25em;color: #696969;}#sk-container-id-13 label.sk-toggleable__label-arrow:hover:before {color: black;}#sk-container-id-13 div.sk-estimator:hover label.sk-toggleable__label-arrow:before {color: black;}#sk-container-id-13 div.sk-toggleable__content {max-height: 0;max-width: 0;overflow: hidden;text-align: left;background-color: #f0f8ff;}#sk-container-id-13 div.sk-toggleable__content pre {margin: 0.2em;color: black;border-radius: 0.25em;background-color: #f0f8ff;}#sk-container-id-13 input.sk-toggleable__control:checked~div.sk-toggleable__content {max-height: 200px;max-width: 100%;overflow: auto;}#sk-container-id-13 input.sk-toggleable__control:checked~label.sk-toggleable__label-arrow:before {content: \"▾\";}#sk-container-id-13 div.sk-estimator input.sk-toggleable__control:checked~label.sk-toggleable__label {background-color: #d4ebff;}#sk-container-id-13 div.sk-label input.sk-toggleable__control:checked~label.sk-toggleable__label {background-color: #d4ebff;}#sk-container-id-13 input.sk-hidden--visually {border: 0;clip: rect(1px 1px 1px 1px);clip: rect(1px, 1px, 1px, 1px);height: 1px;margin: -1px;overflow: hidden;padding: 0;position: absolute;width: 1px;}#sk-container-id-13 div.sk-estimator {font-family: monospace;background-color: #f0f8ff;border: 1px dotted black;border-radius: 0.25em;box-sizing: border-box;margin-bottom: 0.5em;}#sk-container-id-13 div.sk-estimator:hover {background-color: #d4ebff;}#sk-container-id-13 div.sk-parallel-item::after {content: \"\";width: 100%;border-bottom: 1px solid gray;flex-grow: 1;}#sk-container-id-13 div.sk-label:hover label.sk-toggleable__label {background-color: #d4ebff;}#sk-container-id-13 div.sk-serial::before {content: \"\";position: absolute;border-left: 1px solid gray;box-sizing: border-box;top: 0;bottom: 0;left: 50%;z-index: 0;}#sk-container-id-13 div.sk-serial {display: flex;flex-direction: column;align-items: center;background-color: white;padding-right: 0.2em;padding-left: 0.2em;position: relative;}#sk-container-id-13 div.sk-item {position: relative;z-index: 1;}#sk-container-id-13 div.sk-parallel {display: flex;align-items: stretch;justify-content: center;background-color: white;position: relative;}#sk-container-id-13 div.sk-item::before, #sk-container-id-13 div.sk-parallel-item::before {content: \"\";position: absolute;border-left: 1px solid gray;box-sizing: border-box;top: 0;bottom: 0;left: 50%;z-index: -1;}#sk-container-id-13 div.sk-parallel-item {display: flex;flex-direction: column;z-index: 1;position: relative;background-color: white;}#sk-container-id-13 div.sk-parallel-item:first-child::after {align-self: flex-end;width: 50%;}#sk-container-id-13 div.sk-parallel-item:last-child::after {align-self: flex-start;width: 50%;}#sk-container-id-13 div.sk-parallel-item:only-child::after {width: 0;}#sk-container-id-13 div.sk-dashed-wrapped {border: 1px dashed gray;margin: 0 0.4em 0.5em 0.4em;box-sizing: border-box;padding-bottom: 0.4em;background-color: white;}#sk-container-id-13 div.sk-label label {font-family: monospace;font-weight: bold;display: inline-block;line-height: 1.2em;}#sk-container-id-13 div.sk-label-container {text-align: center;}#sk-container-id-13 div.sk-container {/* jupyter's `normalize.less` sets `[hidden] { display: none; }` but bootstrap.min.css set `[hidden] { display: none !important; }` so we also need the `!important` here to be able to override the default hidden behavior on the sphinx rendered scikit-learn.org. See: https://github.com/scikit-learn/scikit-learn/issues/21755 */display: inline-block !important;position: relative;}#sk-container-id-13 div.sk-text-repr-fallback {display: none;}</style><div id=\"sk-container-id-13\" class=\"sk-top-container\"><div class=\"sk-text-repr-fallback\"><pre>DecisionTreeClassifier(max_depth=7, max_leaf_nodes=12, random_state=0)</pre><b>In a Jupyter environment, please rerun this cell to show the HTML representation or trust the notebook. <br />On GitHub, the HTML representation is unable to render, please try loading this page with nbviewer.org.</b></div><div class=\"sk-container\" hidden><div class=\"sk-item\"><div class=\"sk-estimator sk-toggleable\"><input class=\"sk-toggleable__control sk-hidden--visually\" id=\"sk-estimator-id-27\" type=\"checkbox\" checked><label for=\"sk-estimator-id-27\" class=\"sk-toggleable__label sk-toggleable__label-arrow\">DecisionTreeClassifier</label><div class=\"sk-toggleable__content\"><pre>DecisionTreeClassifier(max_depth=7, max_leaf_nodes=12, random_state=0)</pre></div></div></div></div></div>"
      ],
      "text/plain": [
       "DecisionTreeClassifier(max_depth=7, max_leaf_nodes=12, random_state=0)"
      ]
     },
     "execution_count": 68,
     "metadata": {},
     "output_type": "execute_result"
    }
   ],
   "source": [
    "best_model = grid_search.best_estimator_\n",
    "best_model"
   ]
  },
  {
   "cell_type": "code",
   "execution_count": 69,
   "id": "531f6bbf",
   "metadata": {},
   "outputs": [
    {
     "name": "stdout",
     "output_type": "stream",
     "text": [
      "test_accuracy:  0.7451297243917766\n",
      "test_recall:  0.7672434803802096\n"
     ]
    }
   ],
   "source": [
    "print('test_accuracy: ',accuracy_score(y_test, best_model.predict(X_test_scaled1)))\n",
    "print('test_recall: ',recall_score(y_test, best_model.predict(X_test_scaled1)))"
   ]
  },
  {
   "cell_type": "code",
   "execution_count": 70,
   "id": "875010cd",
   "metadata": {
    "scrolled": true
   },
   "outputs": [
    {
     "name": "stdout",
     "output_type": "stream",
     "text": [
      "val_accuracy:  0.7392045964628782\n",
      "val_recall:  0.7698140900195695\n"
     ]
    }
   ],
   "source": [
    "print('val_accuracy: ',accuracy_score(y_val, best_model.predict(X_val_scaled1)))\n",
    "print('val_recall: ',recall_score(y_val, best_model.predict(X_val_scaled1)))"
   ]
  },
  {
   "cell_type": "code",
   "execution_count": 71,
   "id": "fbae4a2e",
   "metadata": {},
   "outputs": [],
   "source": [
    "tree = DecisionTreeClassifier(random_state=0)\n",
    "# 파라미터 후보 = 딕셔너리: key - 하이퍼파라미터 이름, value - 후보리스트\n",
    "param_grid = {'max_depth':range(1,20),\n",
    "              'max_leaf_nodes':range(2,14,2)\n",
    "             } # 나머지 하이퍼 파라미터는 default\n",
    "\n",
    "grid_search = GridSearchCV(tree, #모델\n",
    "                           param_grid=param_grid, #하이퍼 파라미터\n",
    "                           scoring='accuracy', #평가지표\n",
    "                           cv=5,               # cross validation 의 fold 개수\n",
    "                           n_jobs=-1) # 사용할 cpu 개수 -1은 모든 cpu  프로세스 다 사용"
   ]
  },
  {
   "cell_type": "code",
   "execution_count": 72,
   "id": "8e96ac8c",
   "metadata": {},
   "outputs": [
    {
     "data": {
      "text/html": [
       "<style>#sk-container-id-14 {color: black;background-color: white;}#sk-container-id-14 pre{padding: 0;}#sk-container-id-14 div.sk-toggleable {background-color: white;}#sk-container-id-14 label.sk-toggleable__label {cursor: pointer;display: block;width: 100%;margin-bottom: 0;padding: 0.3em;box-sizing: border-box;text-align: center;}#sk-container-id-14 label.sk-toggleable__label-arrow:before {content: \"▸\";float: left;margin-right: 0.25em;color: #696969;}#sk-container-id-14 label.sk-toggleable__label-arrow:hover:before {color: black;}#sk-container-id-14 div.sk-estimator:hover label.sk-toggleable__label-arrow:before {color: black;}#sk-container-id-14 div.sk-toggleable__content {max-height: 0;max-width: 0;overflow: hidden;text-align: left;background-color: #f0f8ff;}#sk-container-id-14 div.sk-toggleable__content pre {margin: 0.2em;color: black;border-radius: 0.25em;background-color: #f0f8ff;}#sk-container-id-14 input.sk-toggleable__control:checked~div.sk-toggleable__content {max-height: 200px;max-width: 100%;overflow: auto;}#sk-container-id-14 input.sk-toggleable__control:checked~label.sk-toggleable__label-arrow:before {content: \"▾\";}#sk-container-id-14 div.sk-estimator input.sk-toggleable__control:checked~label.sk-toggleable__label {background-color: #d4ebff;}#sk-container-id-14 div.sk-label input.sk-toggleable__control:checked~label.sk-toggleable__label {background-color: #d4ebff;}#sk-container-id-14 input.sk-hidden--visually {border: 0;clip: rect(1px 1px 1px 1px);clip: rect(1px, 1px, 1px, 1px);height: 1px;margin: -1px;overflow: hidden;padding: 0;position: absolute;width: 1px;}#sk-container-id-14 div.sk-estimator {font-family: monospace;background-color: #f0f8ff;border: 1px dotted black;border-radius: 0.25em;box-sizing: border-box;margin-bottom: 0.5em;}#sk-container-id-14 div.sk-estimator:hover {background-color: #d4ebff;}#sk-container-id-14 div.sk-parallel-item::after {content: \"\";width: 100%;border-bottom: 1px solid gray;flex-grow: 1;}#sk-container-id-14 div.sk-label:hover label.sk-toggleable__label {background-color: #d4ebff;}#sk-container-id-14 div.sk-serial::before {content: \"\";position: absolute;border-left: 1px solid gray;box-sizing: border-box;top: 0;bottom: 0;left: 50%;z-index: 0;}#sk-container-id-14 div.sk-serial {display: flex;flex-direction: column;align-items: center;background-color: white;padding-right: 0.2em;padding-left: 0.2em;position: relative;}#sk-container-id-14 div.sk-item {position: relative;z-index: 1;}#sk-container-id-14 div.sk-parallel {display: flex;align-items: stretch;justify-content: center;background-color: white;position: relative;}#sk-container-id-14 div.sk-item::before, #sk-container-id-14 div.sk-parallel-item::before {content: \"\";position: absolute;border-left: 1px solid gray;box-sizing: border-box;top: 0;bottom: 0;left: 50%;z-index: -1;}#sk-container-id-14 div.sk-parallel-item {display: flex;flex-direction: column;z-index: 1;position: relative;background-color: white;}#sk-container-id-14 div.sk-parallel-item:first-child::after {align-self: flex-end;width: 50%;}#sk-container-id-14 div.sk-parallel-item:last-child::after {align-self: flex-start;width: 50%;}#sk-container-id-14 div.sk-parallel-item:only-child::after {width: 0;}#sk-container-id-14 div.sk-dashed-wrapped {border: 1px dashed gray;margin: 0 0.4em 0.5em 0.4em;box-sizing: border-box;padding-bottom: 0.4em;background-color: white;}#sk-container-id-14 div.sk-label label {font-family: monospace;font-weight: bold;display: inline-block;line-height: 1.2em;}#sk-container-id-14 div.sk-label-container {text-align: center;}#sk-container-id-14 div.sk-container {/* jupyter's `normalize.less` sets `[hidden] { display: none; }` but bootstrap.min.css set `[hidden] { display: none !important; }` so we also need the `!important` here to be able to override the default hidden behavior on the sphinx rendered scikit-learn.org. See: https://github.com/scikit-learn/scikit-learn/issues/21755 */display: inline-block !important;position: relative;}#sk-container-id-14 div.sk-text-repr-fallback {display: none;}</style><div id=\"sk-container-id-14\" class=\"sk-top-container\"><div class=\"sk-text-repr-fallback\"><pre>GridSearchCV(cv=5, estimator=DecisionTreeClassifier(random_state=0), n_jobs=-1,\n",
       "             param_grid={&#x27;max_depth&#x27;: range(1, 20),\n",
       "                         &#x27;max_leaf_nodes&#x27;: range(2, 14, 2)},\n",
       "             scoring=&#x27;accuracy&#x27;)</pre><b>In a Jupyter environment, please rerun this cell to show the HTML representation or trust the notebook. <br />On GitHub, the HTML representation is unable to render, please try loading this page with nbviewer.org.</b></div><div class=\"sk-container\" hidden><div class=\"sk-item sk-dashed-wrapped\"><div class=\"sk-label-container\"><div class=\"sk-label sk-toggleable\"><input class=\"sk-toggleable__control sk-hidden--visually\" id=\"sk-estimator-id-28\" type=\"checkbox\" ><label for=\"sk-estimator-id-28\" class=\"sk-toggleable__label sk-toggleable__label-arrow\">GridSearchCV</label><div class=\"sk-toggleable__content\"><pre>GridSearchCV(cv=5, estimator=DecisionTreeClassifier(random_state=0), n_jobs=-1,\n",
       "             param_grid={&#x27;max_depth&#x27;: range(1, 20),\n",
       "                         &#x27;max_leaf_nodes&#x27;: range(2, 14, 2)},\n",
       "             scoring=&#x27;accuracy&#x27;)</pre></div></div></div><div class=\"sk-parallel\"><div class=\"sk-parallel-item\"><div class=\"sk-item\"><div class=\"sk-label-container\"><div class=\"sk-label sk-toggleable\"><input class=\"sk-toggleable__control sk-hidden--visually\" id=\"sk-estimator-id-29\" type=\"checkbox\" ><label for=\"sk-estimator-id-29\" class=\"sk-toggleable__label sk-toggleable__label-arrow\">estimator: DecisionTreeClassifier</label><div class=\"sk-toggleable__content\"><pre>DecisionTreeClassifier(random_state=0)</pre></div></div></div><div class=\"sk-serial\"><div class=\"sk-item\"><div class=\"sk-estimator sk-toggleable\"><input class=\"sk-toggleable__control sk-hidden--visually\" id=\"sk-estimator-id-30\" type=\"checkbox\" ><label for=\"sk-estimator-id-30\" class=\"sk-toggleable__label sk-toggleable__label-arrow\">DecisionTreeClassifier</label><div class=\"sk-toggleable__content\"><pre>DecisionTreeClassifier(random_state=0)</pre></div></div></div></div></div></div></div></div></div></div>"
      ],
      "text/plain": [
       "GridSearchCV(cv=5, estimator=DecisionTreeClassifier(random_state=0), n_jobs=-1,\n",
       "             param_grid={'max_depth': range(1, 20),\n",
       "                         'max_leaf_nodes': range(2, 14, 2)},\n",
       "             scoring='accuracy')"
      ]
     },
     "execution_count": 72,
     "metadata": {},
     "output_type": "execute_result"
    }
   ],
   "source": [
    "grid_search.fit(X_train_scaled2, y_train)"
   ]
  },
  {
   "cell_type": "code",
   "execution_count": 73,
   "id": "b53ab9bc",
   "metadata": {},
   "outputs": [
    {
     "data": {
      "text/plain": [
       "0.7383432514911947"
      ]
     },
     "execution_count": 73,
     "metadata": {},
     "output_type": "execute_result"
    }
   ],
   "source": [
    "grid_search.best_score_"
   ]
  },
  {
   "cell_type": "code",
   "execution_count": 74,
   "id": "843b0212",
   "metadata": {},
   "outputs": [
    {
     "data": {
      "text/plain": [
       "{'max_depth': 7, 'max_leaf_nodes': 12}"
      ]
     },
     "execution_count": 74,
     "metadata": {},
     "output_type": "execute_result"
    }
   ],
   "source": [
    "grid_search.best_params_"
   ]
  },
  {
   "cell_type": "code",
   "execution_count": 75,
   "id": "e4f7fb41",
   "metadata": {},
   "outputs": [
    {
     "name": "stdout",
     "output_type": "stream",
     "text": [
      "test_accuracy:  0.7451297243917766\n",
      "test_recall:  0.7672434803802096\n"
     ]
    }
   ],
   "source": [
    "print('test_accuracy: ',accuracy_score(y_test, best_model.predict(X_test_scaled1)))\n",
    "print('test_recall: ',recall_score(y_test, best_model.predict(X_test_scaled1)))"
   ]
  },
  {
   "cell_type": "code",
   "execution_count": 76,
   "id": "cf361fb7",
   "metadata": {},
   "outputs": [
    {
     "name": "stdout",
     "output_type": "stream",
     "text": [
      "val_accuracy:  0.7392045964628782\n",
      "val_recall:  0.7698140900195695\n"
     ]
    }
   ],
   "source": [
    "print('val_accuracy: ',accuracy_score(y_val, best_model.predict(X_val_scaled1)))\n",
    "print('val_recall: ',recall_score(y_val, best_model.predict(X_val_scaled1)))"
   ]
  },
  {
   "cell_type": "code",
   "execution_count": 78,
   "id": "653f1b88",
   "metadata": {},
   "outputs": [
    {
     "data": {
      "text/html": [
       "<style>#sk-container-id-15 {color: black;background-color: white;}#sk-container-id-15 pre{padding: 0;}#sk-container-id-15 div.sk-toggleable {background-color: white;}#sk-container-id-15 label.sk-toggleable__label {cursor: pointer;display: block;width: 100%;margin-bottom: 0;padding: 0.3em;box-sizing: border-box;text-align: center;}#sk-container-id-15 label.sk-toggleable__label-arrow:before {content: \"▸\";float: left;margin-right: 0.25em;color: #696969;}#sk-container-id-15 label.sk-toggleable__label-arrow:hover:before {color: black;}#sk-container-id-15 div.sk-estimator:hover label.sk-toggleable__label-arrow:before {color: black;}#sk-container-id-15 div.sk-toggleable__content {max-height: 0;max-width: 0;overflow: hidden;text-align: left;background-color: #f0f8ff;}#sk-container-id-15 div.sk-toggleable__content pre {margin: 0.2em;color: black;border-radius: 0.25em;background-color: #f0f8ff;}#sk-container-id-15 input.sk-toggleable__control:checked~div.sk-toggleable__content {max-height: 200px;max-width: 100%;overflow: auto;}#sk-container-id-15 input.sk-toggleable__control:checked~label.sk-toggleable__label-arrow:before {content: \"▾\";}#sk-container-id-15 div.sk-estimator input.sk-toggleable__control:checked~label.sk-toggleable__label {background-color: #d4ebff;}#sk-container-id-15 div.sk-label input.sk-toggleable__control:checked~label.sk-toggleable__label {background-color: #d4ebff;}#sk-container-id-15 input.sk-hidden--visually {border: 0;clip: rect(1px 1px 1px 1px);clip: rect(1px, 1px, 1px, 1px);height: 1px;margin: -1px;overflow: hidden;padding: 0;position: absolute;width: 1px;}#sk-container-id-15 div.sk-estimator {font-family: monospace;background-color: #f0f8ff;border: 1px dotted black;border-radius: 0.25em;box-sizing: border-box;margin-bottom: 0.5em;}#sk-container-id-15 div.sk-estimator:hover {background-color: #d4ebff;}#sk-container-id-15 div.sk-parallel-item::after {content: \"\";width: 100%;border-bottom: 1px solid gray;flex-grow: 1;}#sk-container-id-15 div.sk-label:hover label.sk-toggleable__label {background-color: #d4ebff;}#sk-container-id-15 div.sk-serial::before {content: \"\";position: absolute;border-left: 1px solid gray;box-sizing: border-box;top: 0;bottom: 0;left: 50%;z-index: 0;}#sk-container-id-15 div.sk-serial {display: flex;flex-direction: column;align-items: center;background-color: white;padding-right: 0.2em;padding-left: 0.2em;position: relative;}#sk-container-id-15 div.sk-item {position: relative;z-index: 1;}#sk-container-id-15 div.sk-parallel {display: flex;align-items: stretch;justify-content: center;background-color: white;position: relative;}#sk-container-id-15 div.sk-item::before, #sk-container-id-15 div.sk-parallel-item::before {content: \"\";position: absolute;border-left: 1px solid gray;box-sizing: border-box;top: 0;bottom: 0;left: 50%;z-index: -1;}#sk-container-id-15 div.sk-parallel-item {display: flex;flex-direction: column;z-index: 1;position: relative;background-color: white;}#sk-container-id-15 div.sk-parallel-item:first-child::after {align-self: flex-end;width: 50%;}#sk-container-id-15 div.sk-parallel-item:last-child::after {align-self: flex-start;width: 50%;}#sk-container-id-15 div.sk-parallel-item:only-child::after {width: 0;}#sk-container-id-15 div.sk-dashed-wrapped {border: 1px dashed gray;margin: 0 0.4em 0.5em 0.4em;box-sizing: border-box;padding-bottom: 0.4em;background-color: white;}#sk-container-id-15 div.sk-label label {font-family: monospace;font-weight: bold;display: inline-block;line-height: 1.2em;}#sk-container-id-15 div.sk-label-container {text-align: center;}#sk-container-id-15 div.sk-container {/* jupyter's `normalize.less` sets `[hidden] { display: none; }` but bootstrap.min.css set `[hidden] { display: none !important; }` so we also need the `!important` here to be able to override the default hidden behavior on the sphinx rendered scikit-learn.org. See: https://github.com/scikit-learn/scikit-learn/issues/21755 */display: inline-block !important;position: relative;}#sk-container-id-15 div.sk-text-repr-fallback {display: none;}</style><div id=\"sk-container-id-15\" class=\"sk-top-container\"><div class=\"sk-text-repr-fallback\"><pre>DecisionTreeClassifier(max_depth=7, max_leaf_nodes=12, random_state=0)</pre><b>In a Jupyter environment, please rerun this cell to show the HTML representation or trust the notebook. <br />On GitHub, the HTML representation is unable to render, please try loading this page with nbviewer.org.</b></div><div class=\"sk-container\" hidden><div class=\"sk-item\"><div class=\"sk-estimator sk-toggleable\"><input class=\"sk-toggleable__control sk-hidden--visually\" id=\"sk-estimator-id-31\" type=\"checkbox\" checked><label for=\"sk-estimator-id-31\" class=\"sk-toggleable__label sk-toggleable__label-arrow\">DecisionTreeClassifier</label><div class=\"sk-toggleable__content\"><pre>DecisionTreeClassifier(max_depth=7, max_leaf_nodes=12, random_state=0)</pre></div></div></div></div></div>"
      ],
      "text/plain": [
       "DecisionTreeClassifier(max_depth=7, max_leaf_nodes=12, random_state=0)"
      ]
     },
     "execution_count": 78,
     "metadata": {},
     "output_type": "execute_result"
    }
   ],
   "source": [
    "tree = DecisionTreeClassifier(max_depth=7, max_leaf_nodes = 12, random_state=0)\n",
    "tree.fit(X_train, y_train)"
   ]
  },
  {
   "cell_type": "code",
   "execution_count": null,
   "id": "bebe68bd",
   "metadata": {},
   "outputs": [],
   "source": [
    "pred_train = tree.predict(X_train)\n",
    "pred_test = tree.predict(X_test)\n",
    "pred_val = tree.predict(X_val)\n"
   ]
  },
  {
   "cell_type": "code",
   "execution_count": null,
   "id": "55ac22b0",
   "metadata": {},
   "outputs": [],
   "source": []
  },
  {
   "cell_type": "markdown",
   "id": "91a523b6",
   "metadata": {},
   "source": [
    "## Feature Iportances of GridSearch DecisionTree "
   ]
  },
  {
   "cell_type": "code",
   "execution_count": 81,
   "id": "2b27cbbc",
   "metadata": {
    "collapsed": true
   },
   "outputs": [
    {
     "data": {
      "text/plain": [
       "gender                 0.841978\n",
       "Gtp                    0.082834\n",
       "age                    0.039964\n",
       "triglyceride           0.020633\n",
       "dental caries          0.006436\n",
       "tartar                 0.004399\n",
       "AST                    0.003756\n",
       "relaxation             0.000000\n",
       "fasting blood sugar    0.000000\n",
       "Cholesterol            0.000000\n",
       "systolic               0.000000\n",
       "waist(cm)              0.000000\n",
       "LDL                    0.000000\n",
       "hemoglobin             0.000000\n",
       "Urine protein          0.000000\n",
       "serum creatinine       0.000000\n",
       "ALT                    0.000000\n",
       "weight(kg)             0.000000\n",
       "height(cm)             0.000000\n",
       "HDL                    0.000000\n",
       "dtype: float64"
      ]
     },
     "execution_count": 81,
     "metadata": {},
     "output_type": "execute_result"
    }
   ],
   "source": [
    "fi = tree.feature_importances_\n",
    "fi_s = pd.Series(fi, index=X_train.columns)\n",
    "fi_s.sort_values(ascending=False)"
   ]
  },
  {
   "cell_type": "markdown",
   "id": "72766152",
   "metadata": {},
   "source": [
    "## Boosting"
   ]
  },
  {
   "cell_type": "code",
   "execution_count": 19,
   "id": "c177f870",
   "metadata": {
    "ExecuteTime": {
     "end_time": "2022-07-18T13:32:06.507659Z",
     "start_time": "2022-07-18T13:32:06.487679Z"
    }
   },
   "outputs": [],
   "source": [
    "from sklearn.ensemble import RandomForestClassifier\n",
    "from sklearn.model_selection import train_test_split, GridSearchCV, RandomizedSearchCV\n",
    "from sklearn.metrics import accuracy_score, recall_score\n",
    "from sklearn.ensemble import GradientBoostingClassifier"
   ]
  },
  {
   "cell_type": "code",
   "execution_count": 122,
   "id": "4c71977a",
   "metadata": {
    "collapsed": true
   },
   "outputs": [
    {
     "name": "stdout",
     "output_type": "stream",
     "text": [
      "==================================================\n",
      "Train\n",
      "--------------------------------------------------\n",
      "정확도(Accuracy): 0.7756928233674508\n",
      "재현율/민감도(Recall): 0.7274951076320939\n",
      "정밀도(Precision): 0.6823709369024856\n",
      "F1 점수(F1 Score): 0.7042109001933776\n",
      "==================================================\n",
      "==================================================\n",
      "Test\n",
      "--------------------------------------------------\n",
      "정확도(Accuracy): 0.7755633360265733\n",
      "재현율/민감도(Recall): 0.725079210333902\n",
      "정밀도(Precision): 0.6843800322061192\n",
      "F1 점수(F1 Score): 0.7041420118343196\n",
      "==================================================\n",
      "==================================================\n",
      "Val\n",
      "--------------------------------------------------\n",
      "정확도(Accuracy): 0.7642517281623126\n",
      "재현율/민감도(Recall): 0.7147749510763209\n",
      "정밀도(Precision): 0.6668188041989959\n",
      "F1 점수(F1 Score): 0.6899645808736719\n",
      "==================================================\n"
     ]
    }
   ],
   "source": [
    "# learning_rate=0.05, n_estimators=500\n",
    "gb = GradientBoostingClassifier(random_state=0,learning_rate=0.05, n_estimators=300)\n",
    "\n",
    "gb.fit(X_train, y_train)\n",
    "\n",
    "pred_train = gb.predict(X_train)\n",
    "pred_test = gb.predict(X_test)\n",
    "pred_val = gb.predict(X_val)\n",
    "\n",
    "print_classification_metrics(y_train, pred_train, title='Train')\n",
    "print_classification_metrics(y_test, pred_test, title='Test')\n",
    "print_classification_metrics(y_val, pred_val, title='Val')"
   ]
  },
  {
   "cell_type": "code",
   "execution_count": 124,
   "id": "5f9d5939",
   "metadata": {
    "collapsed": true
   },
   "outputs": [
    {
     "name": "stdout",
     "output_type": "stream",
     "text": [
      "==================================================\n",
      "Train\n",
      "--------------------------------------------------\n",
      "정확도(Accuracy): 0.7756928233674508\n",
      "재현율/민감도(Recall): 0.7274951076320939\n",
      "정밀도(Precision): 0.6823709369024856\n",
      "F1 점수(F1 Score): 0.7042109001933776\n",
      "==================================================\n",
      "==================================================\n",
      "Test\n",
      "--------------------------------------------------\n",
      "정확도(Accuracy): 0.7755633360265733\n",
      "재현율/민감도(Recall): 0.725079210333902\n",
      "정밀도(Precision): 0.6843800322061192\n",
      "F1 점수(F1 Score): 0.7041420118343196\n",
      "==================================================\n",
      "==================================================\n",
      "Val\n",
      "--------------------------------------------------\n",
      "정확도(Accuracy): 0.7643415028279019\n",
      "재현율/민감도(Recall): 0.7150195694716243\n",
      "정밀도(Precision): 0.6668948208989277\n",
      "F1 점수(F1 Score): 0.690119230315193\n",
      "==================================================\n"
     ]
    }
   ],
   "source": [
    "# scaled train\n",
    "# learning_rate=0.05, n_estimators=500\n",
    "gb = GradientBoostingClassifier(random_state=0,learning_rate=0.05, n_estimators=300)\n",
    "\n",
    "gb.fit(X_train_scaled1, y_train)\n",
    "\n",
    "s_pred_train = gb.predict(X_train_scaled1)\n",
    "s_pred_test = gb.predict(X_test_scaled1)\n",
    "s_pred_val = gb.predict(X_val_scaled1)\n",
    "\n",
    "print_classification_metrics(y_train, s_pred_train, title='Train')\n",
    "print_classification_metrics(y_test, s_pred_test, title='Test')\n",
    "print_classification_metrics(y_val, s_pred_val, title='Val')"
   ]
  },
  {
   "cell_type": "markdown",
   "id": "15338cfe",
   "metadata": {},
   "source": [
    "## XGB"
   ]
  },
  {
   "cell_type": "code",
   "execution_count": 137,
   "id": "cb7a6849",
   "metadata": {
    "scrolled": true
   },
   "outputs": [
    {
     "name": "stdout",
     "output_type": "stream",
     "text": [
      "==================================================\n",
      "XGB Train\n",
      "--------------------------------------------------\n",
      "정확도(Accuracy): 0.7721314419105764\n",
      "재현율/민감도(Recall): 0.7232550554468362\n",
      "정밀도(Precision): 0.6776165011459129\n",
      "F1 점수(F1 Score): 0.6996923562357024\n",
      "==================================================\n",
      "==================================================\n",
      "XGB Test\n",
      "--------------------------------------------------\n",
      "정확도(Accuracy): 0.7738576173803753\n",
      "재현율/민감도(Recall): 0.7216670728735072\n",
      "정밀도(Precision): 0.6825726141078838\n",
      "F1 점수(F1 Score): 0.7015756426963631\n",
      "==================================================\n",
      "==================================================\n",
      "XGB Val\n",
      "--------------------------------------------------\n",
      "정확도(Accuracy): 0.7652392494837956\n",
      "재현율/민감도(Recall): 0.7184442270058709\n",
      "정밀도(Precision): 0.667348329925017\n",
      "F1 점수(F1 Score): 0.691954293791966\n",
      "==================================================\n"
     ]
    }
   ],
   "source": [
    "from xgboost import XGBClassifier\n",
    "\n",
    "xgb = XGBClassifier(n_estimators=300, learning_rate=0.1, max_depth=2, random_state=0)\n",
    "\n",
    "xgb.fit(X_train, y_train)\n",
    "\n",
    "pred_train = xgb.predict(X_train)\n",
    "pred_test = xgb.predict(X_test)\n",
    "pred_val = xgb.predict(X_val)\n",
    "\n",
    "\n",
    "print_classification_metrics(y_train, pred_train, \"XGB Train\")\n",
    "print_classification_metrics(y_test, pred_test, 'XGB Test')\n",
    "print_classification_metrics(y_val, pred_val, 'XGB Val')"
   ]
  },
  {
   "cell_type": "markdown",
   "id": "e450b6ce",
   "metadata": {},
   "source": [
    "## Voting"
   ]
  },
  {
   "cell_type": "code",
   "execution_count": 10,
   "id": "2f154c50",
   "metadata": {
    "ExecuteTime": {
     "end_time": "2022-07-18T12:04:04.218184Z",
     "start_time": "2022-07-18T12:04:04.103939Z"
    }
   },
   "outputs": [],
   "source": [
    "from xgboost import XGBClassifier\n",
    "# 모델들 객체를 생성\n",
    "svc = SVC(random_state=0, probability=True) \n",
    "knn = KNeighborsClassifier(n_neighbors=5)\n",
    "rf = RandomForestClassifier(n_estimators=200, max_depth=5, random_state=0)\n",
    "lr = LogisticRegression(max_iter=1000, random_state=0)\n"
   ]
  },
  {
   "cell_type": "code",
   "execution_count": 21,
   "id": "2ddbb526",
   "metadata": {
    "ExecuteTime": {
     "end_time": "2022-07-18T13:45:55.702128Z",
     "start_time": "2022-07-18T13:45:55.686135Z"
    }
   },
   "outputs": [],
   "source": [
    "from metrics import print_classification_metrics"
   ]
  },
  {
   "cell_type": "code",
   "execution_count": 53,
   "id": "2af5f0cf",
   "metadata": {
    "ExecuteTime": {
     "end_time": "2022-07-18T14:04:48.034383Z",
     "start_time": "2022-07-18T14:04:43.093254Z"
    }
   },
   "outputs": [],
   "source": [
    "xgb = XGBClassifier(max_depth=10, random_state=0)\n",
    "\n",
    "xgb.fit(X_train, y_train)\n",
    "\n",
    "pred_train_xgb = xgb.predict(X_train)\n",
    "pred_test_xgb = xgb.predict(X_test)\n",
    "pred_val_xgb = xgb.predict(X_val)"
   ]
  },
  {
   "cell_type": "code",
   "execution_count": 54,
   "id": "552d514e",
   "metadata": {
    "ExecuteTime": {
     "end_time": "2022-07-18T14:04:49.320454Z",
     "start_time": "2022-07-18T14:04:49.228247Z"
    },
    "collapsed": true
   },
   "outputs": [
    {
     "name": "stdout",
     "output_type": "stream",
     "text": [
      "==================================================\n",
      "XGB Train\n",
      "--------------------------------------------------\n",
      "정확도(Accuracy): 0.9961991979409828\n",
      "재현율/민감도(Recall): 0.9958414872798435\n",
      "정밀도(Precision): 0.9938156074538205\n",
      "F1 점수(F1 Score): 0.9948275159858266\n",
      "==================================================\n",
      "==================================================\n",
      "XGB Test\n",
      "--------------------------------------------------\n",
      "정확도(Accuracy): 0.9309632821617739\n",
      "재현율/민감도(Recall): 0.91225932244699\n",
      "정밀도(Precision): 0.9014932562620424\n",
      "F1 점수(F1 Score): 0.9068443367655966\n",
      "==================================================\n",
      "==================================================\n",
      "XGB VAl\n",
      "--------------------------------------------------\n",
      "정확도(Accuracy): 0.7463865697100278\n",
      "재현율/민감도(Recall): 0.6678082191780822\n",
      "정밀도(Precision): 0.6504646175839885\n",
      "F1 점수(F1 Score): 0.6590223295111648\n",
      "==================================================\n"
     ]
    }
   ],
   "source": [
    "#max_depth = 2\n",
    "print_classification_metrics(y_train, pred_train_xgb, \"XGB Train\")\n",
    "print_classification_metrics(y_test, pred_test_xgb, 'XGB Test')\n",
    "print_classification_metrics(y_val, pred_val_xgb, 'XGB VAl')"
   ]
  },
  {
   "cell_type": "code",
   "execution_count": 48,
   "id": "6f46053b",
   "metadata": {
    "ExecuteTime": {
     "end_time": "2022-07-18T14:04:07.558763Z",
     "start_time": "2022-07-18T14:04:07.468696Z"
    },
    "scrolled": false
   },
   "outputs": [
    {
     "name": "stdout",
     "output_type": "stream",
     "text": [
      "==================================================\n",
      "XGB Train\n",
      "--------------------------------------------------\n",
      "정확도(Accuracy): 0.784940444125217\n",
      "재현율/민감도(Recall): 0.7367906066536204\n",
      "정밀도(Precision): 0.6953978759427428\n",
      "F1 점수(F1 Score): 0.7154960804497585\n",
      "==================================================\n",
      "==================================================\n",
      "XGB Test\n",
      "--------------------------------------------------\n",
      "정확도(Accuracy): 0.7826555346081335\n",
      "재현율/민감도(Recall): 0.7340970021935169\n",
      "정밀도(Precision): 0.6936895439889452\n",
      "F1 점수(F1 Score): 0.7133214920071048\n",
      "==================================================\n",
      "==================================================\n",
      "XGB VAl\n",
      "--------------------------------------------------\n",
      "정확도(Accuracy): 0.7658676721429213\n",
      "재현율/민감도(Recall): 0.7155088062622309\n",
      "정밀도(Precision): 0.6693363844393593\n",
      "F1 점수(F1 Score): 0.6916528730196264\n",
      "==================================================\n"
     ]
    }
   ],
   "source": [
    "#max_depth = 3\n",
    "print_classification_metrics(y_train, pred_train_xgb, \"XGB Train\")\n",
    "print_classification_metrics(y_test, pred_test_xgb, 'XGB Test')\n",
    "print_classification_metrics(y_val, pred_val_xgb, 'XGB VAl')"
   ]
  },
  {
   "cell_type": "markdown",
   "id": "22daeea2",
   "metadata": {},
   "source": [
    "## XGB GridSearch"
   ]
  },
  {
   "cell_type": "code",
   "execution_count": null,
   "id": "a079e4a7",
   "metadata": {},
   "outputs": [],
   "source": [
    "from sklearn.model_selection import train_test_split, GridSearchCV, RandomizedSearchCV"
   ]
  },
  {
   "cell_type": "code",
   "execution_count": 55,
   "id": "61c72bc4",
   "metadata": {
    "ExecuteTime": {
     "end_time": "2022-07-18T14:10:20.768403Z",
     "start_time": "2022-07-18T14:10:20.748457Z"
    }
   },
   "outputs": [],
   "source": [
    "# 파라미터 후보 = 딕셔너리: key - 하이퍼파라미터 이름, value - 후보리스트\n",
    "param_grid = {'max_depth':range(1,10,2),\n",
    "              'n_estimators':range(100,501,100),\n",
    "              'learning_rate': [0.001, 0.005, 0.01, 0.05, 0.1, 0.5]\n",
    "             } # 나머지 하이퍼 파라미터는 default\n",
    "\n",
    "grid_search = GridSearchCV(XGBClassifier(random_state=0), #모델\n",
    "                           param_grid=param_grid, #하이퍼 파라미터\n",
    "                           scoring='accuracy', #평가지표\n",
    "                           cv=5,               # cross validation 의 fold 개수\n",
    "                           n_jobs=-1)"
   ]
  },
  {
   "cell_type": "code",
   "execution_count": null,
   "id": "492c72e4",
   "metadata": {
    "ExecuteTime": {
     "end_time": "2022-07-18T23:48:58.720276Z",
     "start_time": "2022-07-18T23:48:58.720276Z"
    }
   },
   "outputs": [],
   "source": [
    "grid_search.fit(X_train, y_train)"
   ]
  },
  {
   "cell_type": "code",
   "execution_count": null,
   "id": "24c50b2f",
   "metadata": {},
   "outputs": [],
   "source": []
  },
  {
   "cell_type": "code",
   "execution_count": null,
   "id": "e3c0b11a",
   "metadata": {},
   "outputs": [],
   "source": []
  },
  {
   "cell_type": "code",
   "execution_count": 138,
   "id": "a7dba7f2",
   "metadata": {},
   "outputs": [],
   "source": [
    "# 각 모델들을 학습\n",
    "svc.fit(X_train_scaled1, y_train) # Feature Scaling 된 X_train\n",
    "knn.fit(X_train_scaled1, y_train) # Feature Scaling 된 X_train\n",
    "rf.fit(X_train, y_train)\n",
    "lr.fit(X_train_scaled1, y_train) # Feature Scaling 된 X_train\n",
    "xgb.fit(X_train, y_train)\n",
    "\n",
    "# 추론\n",
    "pred_train_svc = svc.predict(X_train_scaled1)\n",
    "pred_train_knn = knn.predict(X_train_scaled1)\n",
    "pred_train_rf = rf.predict(X_train)\n",
    "pred_train_lr = lr.predict(X_train_scaled1)\n",
    "pred_train_xgb = xgb.predict(X_train)\n",
    "\n",
    "pred_test_svc = svc.predict(X_test_scaled1)\n",
    "pred_test_knn = knn.predict(X_test_scaled1)\n",
    "pred_test_rf = rf.predict(X_test)\n",
    "pred_test_lr = lr.predict(X_test_scaled1)\n",
    "pred_test_xgb = xgb.predict(X_test)"
   ]
  },
  {
   "cell_type": "code",
   "execution_count": 140,
   "id": "5f0a5c3c",
   "metadata": {},
   "outputs": [],
   "source": [
    "def print_metrics(y, pred, title=None):\n",
    "    acc = accuracy_score(y, pred)\n",
    "    if title:\n",
    "        print(title)\n",
    "    print(\"정확도: \", acc)"
   ]
  },
  {
   "cell_type": "code",
   "execution_count": 144,
   "id": "3937b8b8",
   "metadata": {},
   "outputs": [
    {
     "name": "stdout",
     "output_type": "stream",
     "text": [
      "Train SVC\n",
      "정확도:  0.781708265996289\n",
      "Train KNN\n",
      "정확도:  0.8096905488717304\n",
      "Train RF\n",
      "정확도:  0.748787933201652\n",
      "Train LogisticRegression\n",
      "정확도:  0.7455856826479919\n",
      "Train XGB\n",
      "정확도:  0.7708146285987909\n"
     ]
    }
   ],
   "source": [
    "print_metrics(y_train, pred_train_svc, \"Train SVC\")\n",
    "print_metrics(y_train, pred_train_knn, \"Train KNN\")\n",
    "print_metrics(y_train, pred_train_rf, \"Train RF\")\n",
    "print_metrics(y_train, pred_train_lr, \"Train LogisticRegression\")\n",
    "print_metrics(y_train, pred_train_xgb, 'Train XGB')"
   ]
  },
  {
   "cell_type": "code",
   "execution_count": 145,
   "id": "be32a8e6",
   "metadata": {},
   "outputs": [
    {
     "name": "stdout",
     "output_type": "stream",
     "text": [
      "Test SVC\n",
      "정확도:  0.7743962653739115\n",
      "Test KNN\n",
      "정확도:  0.7871442678876022\n",
      "Test RF\n",
      "정확도:  0.7463865697100278\n",
      "Test LogisticRegression\n",
      "정확도:  0.747643415028279\n",
      "Test XGBoost\n",
      "정확도:  0.7719723494029985\n"
     ]
    }
   ],
   "source": [
    "print_metrics(y_test, pred_test_svc, 'Test SVC')\n",
    "print_metrics(y_test, pred_test_knn, 'Test KNN')\n",
    "print_metrics(y_test, pred_test_rf, 'Test RF')\n",
    "print_metrics(y_test, pred_test_lr, 'Test LogisticRegression')\n",
    "print_metrics(y_test, pred_test_xgb, 'Test XGBoost')"
   ]
  },
  {
   "cell_type": "code",
   "execution_count": 146,
   "id": "7b42315f",
   "metadata": {},
   "outputs": [],
   "source": [
    "pred_val_svc = svc.predict(X_val_scaled1)\n",
    "pred_val_knn = knn.predict(X_val_scaled1)\n",
    "pred_val_rf = rf.predict(X_val)\n",
    "pred_val_lr = lr.predict(X_val_scaled1)\n",
    "pred_val_xgb = xgb.predict(X_val)"
   ]
  },
  {
   "cell_type": "code",
   "execution_count": 148,
   "id": "9c4edb22",
   "metadata": {
    "scrolled": true
   },
   "outputs": [
    {
     "name": "stdout",
     "output_type": "stream",
     "text": [
      "Val SVC\n",
      "정확도:  0.7550947122721968\n",
      "Val KNN\n",
      "정확도:  0.7157734087440524\n",
      "Val RF\n",
      "정확도:  0.7427058084208636\n",
      "Val LogisticRegression\n",
      "정확도:  0.7430649070832211\n",
      "Val XGBoost\n",
      "정확도:  0.7650597001526169\n"
     ]
    }
   ],
   "source": [
    "print_metrics(y_val, pred_val_svc, 'Val SVC')\n",
    "print_metrics(y_val, pred_val_knn, 'Val KNN')\n",
    "print_metrics(y_val, pred_val_rf, 'Val RF')\n",
    "print_metrics(y_val, pred_val_lr, 'Val LogisticRegression')\n",
    "print_metrics(y_val, pred_val_xgb, 'Val XGBoost')"
   ]
  },
  {
   "cell_type": "code",
   "execution_count": 151,
   "id": "0f7e044e",
   "metadata": {},
   "outputs": [],
   "source": [
    "estimators = [\n",
    "    ('knn', knn),\n",
    "    ('xgb', xgb), \n",
    "    ('random forest', rf), \n",
    "    ('svm', svc)\n",
    "]"
   ]
  },
  {
   "cell_type": "code",
   "execution_count": 152,
   "id": "b2ef870f",
   "metadata": {},
   "outputs": [
    {
     "name": "stdout",
     "output_type": "stream",
     "text": [
      "정확도:  0.7877835637756629\n",
      "정확도:  0.7805907172995781\n",
      "정확도:  0.7589550228925397\n"
     ]
    }
   ],
   "source": [
    "#hard voting\n",
    "from sklearn.ensemble import RandomForestClassifier, VotingClassifier\n",
    "voting = VotingClassifier(estimators)\n",
    "voting.fit(X_train_scaled1, y_train) \n",
    "\n",
    "pred_train = voting.predict(X_train_scaled1)\n",
    "pred_test = voting.predict(X_test_scaled1)\n",
    "pred_val = voting.predict(X_val_scaled1)\n",
    "\n",
    "\n",
    "print_metrics(y_train, pred_train)\n",
    "print_metrics(y_test, pred_test)\n",
    "print_metrics(y_val, pred_val)"
   ]
  },
  {
   "cell_type": "code",
   "execution_count": 154,
   "id": "3ab2c22a",
   "metadata": {
    "scrolled": true
   },
   "outputs": [
    {
     "name": "stdout",
     "output_type": "stream",
     "text": [
      "정확도:  0.8043933680493206\n",
      "정확도:  0.7909148038423557\n",
      "정확도:  0.7522219229733369\n"
     ]
    }
   ],
   "source": [
    "#soft voting(확률 평균으로 결과를 예측)\n",
    "voting = VotingClassifier(estimators, voting='soft')  \n",
    "voting.fit(X_train_scaled1, y_train)\n",
    "\n",
    "pred_train = voting.predict(X_train_scaled1)\n",
    "pred_test = voting.predict(X_test_scaled1)\n",
    "pred_val = voting.predict(X_val_scaled1)\n",
    "\n",
    "\n",
    "print_metrics(y_train, pred_train)\n",
    "print_metrics(y_test, pred_test)\n",
    "print_metrics(y_val, pred_val)"
   ]
  },
  {
   "cell_type": "code",
   "execution_count": 12,
   "id": "590cecdd",
   "metadata": {
    "ExecuteTime": {
     "end_time": "2022-07-18T12:04:30.462744Z",
     "start_time": "2022-07-18T12:04:30.455759Z"
    }
   },
   "outputs": [],
   "source": [
    "y_train = y_train.to_numpy()\n",
    "y_train = y_train.flatten()\n",
    "y_test = y_test.to_numpy()\n",
    "y_test = y_test.flatten()\n",
    "y_val = y_val.to_numpy()\n",
    "y_val = y_val.flatten()"
   ]
  },
  {
   "cell_type": "code",
   "execution_count": 17,
   "id": "245ceb22",
   "metadata": {
    "ExecuteTime": {
     "end_time": "2022-07-18T13:16:42.967283Z",
     "start_time": "2022-07-18T13:16:42.953321Z"
    }
   },
   "outputs": [],
   "source": [
    "\n",
    "def print_metrics(y, y_pred, title=None):\n",
    "    if title:\n",
    "        print(title)\n",
    "    print(f'정확도: {accuracy_score(y, y_pred)}, \\\n",
    "            재현율(recall): {recall_score(y, y_pred)}, \\\n",
    "            정밀도(precision): {precision_score(y, y_pred)}, \\\n",
    "            F1점수: {f1_score(y, y_pred)}')"
   ]
  },
  {
   "cell_type": "code",
   "execution_count": 22,
   "id": "88287280",
   "metadata": {
    "ExecuteTime": {
     "end_time": "2022-07-18T13:58:14.826285Z",
     "start_time": "2022-07-18T13:46:18.382686Z"
    }
   },
   "outputs": [
    {
     "name": "stdout",
     "output_type": "stream",
     "text": [
      "==================================================\n",
      "정확도(Accuracy): 0.7861076195606632\n",
      "재현율/민감도(Recall): 0.6731898238747553\n",
      "정밀도(Precision): 0.7245283018867924\n",
      "F1 점수(F1 Score): 0.6979162263831945\n",
      "==================================================\n",
      "==================================================\n",
      "정확도(Accuracy): 0.7734087440524284\n",
      "재현율/민감도(Recall): 0.6534243236656105\n",
      "정밀도(Precision): 0.7086968014803067\n",
      "F1 점수(F1 Score): 0.6799391326401217\n",
      "==================================================\n",
      "==================================================\n",
      "정확도(Accuracy): 0.7457581470509023\n",
      "재현율/민감도(Recall): 0.6176614481409002\n",
      "정밀도(Precision): 0.665524512387981\n",
      "F1 점수(F1 Score): 0.6407003298655164\n",
      "==================================================\n"
     ]
    }
   ],
   "source": [
    "from sklearn.ensemble import RandomForestClassifier, VotingClassifier\n",
    "\n",
    "estimators = [\n",
    "    ('knn', knn),\n",
    "    ('xgb', xgb), \n",
    "    ('random forest', rf), \n",
    "    ('svm', svc)\n",
    "]\n",
    "\n",
    "#soft voting(확률 평균으로 결과를 예측)\n",
    "# train , not scaled\n",
    "voting = VotingClassifier(estimators, voting='soft')  \n",
    "voting.fit(X_train, y_train)\n",
    "\n",
    "pred_train = voting.predict(X_train)\n",
    "pred_test = voting.predict(X_test)\n",
    "pred_val = voting.predict(X_val)\n",
    "\n",
    "\n",
    "print_classification_metrics(y_train, pred_train)\n",
    "\n",
    "print_classification_metrics(y_test, pred_test)\n",
    "\n",
    "print_classification_metrics(y_val, pred_val)\n"
   ]
  }
 ],
 "metadata": {
  "kernelspec": {
   "display_name": "Python 3 (ipykernel)",
   "language": "python",
   "name": "python3"
  },
  "language_info": {
   "codemirror_mode": {
    "name": "ipython",
    "version": 3
   },
   "file_extension": ".py",
   "mimetype": "text/x-python",
   "name": "python",
   "nbconvert_exporter": "python",
   "pygments_lexer": "ipython3",
   "version": "3.9.12"
  }
 },
 "nbformat": 4,
 "nbformat_minor": 5
}
